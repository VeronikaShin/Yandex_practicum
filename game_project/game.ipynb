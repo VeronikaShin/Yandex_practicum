{
 "cells": [
  {
   "cell_type": "markdown",
   "id": "6b298a8f",
   "metadata": {},
   "source": [
    "## Шаг 1. Предобработка данных"
   ]
  },
  {
   "cell_type": "code",
   "execution_count": 1,
   "id": "4c556cd5",
   "metadata": {
    "scrolled": false
   },
   "outputs": [],
   "source": [
    "import pandas as pd\n",
    "from datetime import datetime\n",
    "import numpy as np\n",
    "\n",
    "import seaborn as sns\n",
    "import matplotlib.pyplot as plt\n",
    "\n",
    "from scipy import stats as st\n",
    "import numpy as np\n",
    "import math as mth\n",
    "\n",
    "import warnings\n",
    "\n",
    "warnings.filterwarnings(\"ignore\")"
   ]
  },
  {
   "cell_type": "code",
   "execution_count": null,
   "id": "de4ab0c1",
   "metadata": {
    "pycharm": {
     "is_executing": true
    }
   },
   "outputs": [],
   "source": [
    "data_users = pd.read_csv('/datasets/user_source.csv')\n",
    "display(data_users.head(5), data_users.info(), data_users.isnull().sum(), data_users.duplicated().sum())\n",
    "\n",
    "print(data_users['source'].unique())"
   ]
  },
  {
   "cell_type": "code",
   "execution_count": null,
   "id": "7c2bc8d6",
   "metadata": {
    "scrolled": false
   },
   "outputs": [],
   "source": [
    "data_game_act = pd.read_csv('/datasets/game_actions.csv')\n",
    "display(data_game_act.head(5), data_game_act.info(), data_game_act.isnull().sum(), data_game_act.duplicated().sum())"
   ]
  },
  {
   "cell_type": "code",
   "execution_count": null,
   "id": "950e8cc7",
   "metadata": {},
   "outputs": [],
   "source": [
    "print(data_game_act['event'].unique())\n",
    "print() \n",
    "print(data_game_act['building_type'].unique())\n",
    "print()\n",
    "print(data_game_act['project_type'].unique())\n",
    "print()\n",
    "print(data_game_act['event_datetime'].min())\n",
    "print()\n",
    "print(data_game_act['event_datetime'].max())"
   ]
  },
  {
   "cell_type": "markdown",
   "id": "ace30a8f",
   "metadata": {},
   "source": [
    "Пропуски в building_type и project_type оставляем"
   ]
  },
  {
   "cell_type": "code",
   "execution_count": null,
   "id": "8666c0e7",
   "metadata": {},
   "outputs": [],
   "source": [
    "#Переводим в формат даты колонку event_datetime\n",
    "data_game_act['event_datetime'] = pd.to_datetime(data_game_act['event_datetime'])\n",
    "#Удаляем 1 дубль\n",
    "data_game_act = data_game_act.drop_duplicates().reset_index(drop=True)"
   ]
  },
  {
   "cell_type": "code",
   "execution_count": null,
   "id": "f748a868",
   "metadata": {},
   "outputs": [],
   "source": [
    "data_ad_сost = pd.read_csv('/datasets/ad_costs.csv')\n",
    "display(data_ad_сost.head(5), data_ad_сost.info(), data_ad_сost.isnull().sum(), data_ad_сost.duplicated().sum())"
   ]
  },
  {
   "cell_type": "markdown",
   "id": "ee1ef401",
   "metadata": {},
   "source": [
    "Пропуски в building_type и project_type оставляем, также был удален дубликат из data_game_act\n",
    "\n",
    "______\n",
    "\n",
    "## Шаг 2. Exploratory data analysis\n",
    "\n",
    "### Сравним количество пользователей, завершивших 1 уровень, PvP и PvE"
   ]
  },
  {
   "cell_type": "code",
   "execution_count": null,
   "id": "d5de4131",
   "metadata": {},
   "outputs": [],
   "source": [
    "print('Всего в когорте', data_game_act['user_id'].nunique(), 'уникальных пользователей')"
   ]
  },
  {
   "cell_type": "markdown",
   "id": "312fee9d",
   "metadata": {},
   "source": [
    "____\n",
    "\n",
    "#### Группа PVE\n",
    "\n",
    "Посчитаем сколько зданий строят игроки PVE"
   ]
  },
  {
   "cell_type": "code",
   "execution_count": null,
   "id": "902d853c",
   "metadata": {
    "scrolled": false
   },
   "outputs": [],
   "source": [
    "data_pve_id = data_game_act[(data_game_act['event'] == 'project')]\n",
    "\n",
    "data_finish = data_game_act[(data_game_act['event'] == 'finished_stage_1')]\n",
    "\n",
    "data_pve =  data_finish.merge(data_pve_id['user_id'], on='user_id', how='inner')\n",
    "\n",
    "print(data_pve['user_id'].nunique(), 'пользователей завершили 1 уровень, завершив проект')"
   ]
  },
  {
   "cell_type": "code",
   "execution_count": null,
   "id": "d50768f1",
   "metadata": {},
   "outputs": [],
   "source": [
    "data_pve = data_game_act.merge(data_pve['user_id'], on = 'user_id', how='right')"
   ]
  },
  {
   "cell_type": "code",
   "execution_count": null,
   "id": "c3ed4358",
   "metadata": {},
   "outputs": [],
   "source": [
    "data_pve_agg = data_pve.query('event == \"building\"').groupby('user_id').agg({'event': 'count'}).reset_index()\n",
    "data_pve_agg.columns = ['user_id', 'count_build']\n",
    "data_pve_agg['strategy'] = 'PVE'\n",
    "print(round(data_pve_agg['count_build'].mean(), 2), 'среднее количество зданий на пользователя PVE')\n",
    "print(data_pve_agg['count_build'].min(), 'минимальное количество зданий на пользователя PVE')\n",
    "print(data_pve_agg['count_build'].max(), 'максимальное количество зданий на пользователя PVE')\n",
    "display(data_pve_agg)"
   ]
  },
  {
   "cell_type": "code",
   "execution_count": null,
   "id": "d9905d6a",
   "metadata": {},
   "outputs": [],
   "source": [
    "fig, hist = plt.subplots()\n",
    "hist = sns.histplot(data=data_pve_agg, x=\"count_build\")\n",
    "hist.set_title('количество построек PVE') \n",
    "fig.set_figwidth(10)\n",
    "fig.set_figheight(8);"
   ]
  },
  {
   "cell_type": "markdown",
   "id": "a05d4103",
   "metadata": {},
   "source": [
    "____"
   ]
  },
  {
   "cell_type": "markdown",
   "id": "915f6d6c",
   "metadata": {},
   "source": [
    "#### Группа PVP\n",
    "\n",
    "Посчитаем сколько зданий строяк игроки PVP"
   ]
  },
  {
   "cell_type": "code",
   "execution_count": null,
   "id": "a19ae271",
   "metadata": {
    "scrolled": true
   },
   "outputs": [],
   "source": [
    "# выбираем пользователей, которые завершили уровень без проекта\n",
    "data_pvp = pd.concat([data_game_act, data_pve]).drop_duplicates(keep=False) #объединяем таблицы и удаляем дубли, чтобы найти пользователей не их группы pve\n",
    "data_pvp = data_pvp.loc[(data_game_act['event'] == 'finished_stage_1')] #берем тех, кто закончил\n",
    "\n",
    "display(data_pvp['user_id'].nunique())"
   ]
  },
  {
   "cell_type": "code",
   "execution_count": null,
   "id": "5999e826",
   "metadata": {},
   "outputs": [],
   "source": [
    "data_pvp = data_game_act.merge(data_pvp['user_id'], on='user_id', how='inner')"
   ]
  },
  {
   "cell_type": "code",
   "execution_count": null,
   "id": "830dc797",
   "metadata": {},
   "outputs": [],
   "source": [
    "data_pvp = data_pvp.query('event == \"building\"').groupby('user_id').agg({'event': 'count'}).reset_index()\n",
    "data_pvp.columns = ['user_id', 'count_build']\n",
    "data_pvp['strategy'] = 'PVP'\n",
    "print(round(data_pvp['count_build'].mean(), 2), 'среднее количество зданий на пользователя PVP')\n",
    "print(data_pvp['count_build'].min(), 'минимальное количество зданий на пользователя PVP')\n",
    "print(data_pvp['count_build'].max(), 'максимальное количество зданий на пользователя PVP')"
   ]
  },
  {
   "cell_type": "code",
   "execution_count": null,
   "id": "3d4f57b8",
   "metadata": {},
   "outputs": [],
   "source": [
    "fig, hist = plt.subplots()\n",
    "hist = sns.histplot(data=data_pvp, x=\"count_build\")\n",
    "hist.set_title('количество построек PVP') \n",
    "fig.set_figwidth(10)\n",
    "fig.set_figheight(8);"
   ]
  },
  {
   "cell_type": "markdown",
   "id": "f5847a89",
   "metadata": {},
   "source": [
    "Пользователи PVP в среднем строят на 3 здания меньше, но надо учесть, что их почти в 2 раза больше, чем пользователей PVE\n",
    "\n",
    "### Общее количество зданий"
   ]
  },
  {
   "cell_type": "code",
   "execution_count": null,
   "id": "86cf97d2",
   "metadata": {},
   "outputs": [],
   "source": [
    "print(data_game_act[data_game_act['event'] == 'building']['event'].count(), 'всего было построено зданий')"
   ]
  },
  {
   "cell_type": "markdown",
   "id": "f7b0f771",
   "metadata": {},
   "source": [
    "### Среднее количество построек на пользователя "
   ]
  },
  {
   "cell_type": "code",
   "execution_count": null,
   "id": "55a10896",
   "metadata": {},
   "outputs": [],
   "source": [
    "print(round(data_game_act.query('event == \"building\"').groupby('user_id').agg({'event': 'count'}).median(), 2), 'среднее количество зданий на пользователя')"
   ]
  },
  {
   "cell_type": "markdown",
   "id": "9d2511ca",
   "metadata": {},
   "source": [
    "### Периодичность построек"
   ]
  },
  {
   "cell_type": "code",
   "execution_count": null,
   "id": "ffd96e4a",
   "metadata": {},
   "outputs": [],
   "source": [
    "data_act_buil = data_game_act.query('event == \"building\"')\n",
    "\n",
    "data_act_buil['prev'] = (data_act_buil.query('event == \"building\"').sort_values(by=['event_datetime'], ascending=True)\n",
    "                       .groupby(['user_id'])['event_datetime'].shift(1))\n",
    "\n",
    "data_act_buil['diff'] = data_act_buil['event_datetime'] - data_act_buil['prev']\n",
    "\n",
    "print('в среднем времени между каждой постройков проходит', data_act_buil['diff'].median()) #используем медиану, чтобы избежать выбросов"
   ]
  },
  {
   "cell_type": "code",
   "execution_count": null,
   "id": "f96f79c3",
   "metadata": {},
   "outputs": [],
   "source": [
    "day_f = data_game_act.query('event == \"building\"').groupby('user_id').apply(lambda x: x['event_datetime'].max() - x['event_datetime'].min()).dt.round('D').reset_index()\n",
    "day_f.columns = ['user_id', 'time']\n",
    "day_f['time'] = (day_f['time']/ np.timedelta64(1, 'D')).astype(int) #переводим в формат int\n",
    "print('от первой постройки до последней в среднем проходит', day_f['time'].median(), 'дней')"
   ]
  },
  {
   "cell_type": "code",
   "execution_count": null,
   "id": "0bf566c8",
   "metadata": {},
   "outputs": [],
   "source": [
    "fig, hist = plt.subplots()\n",
    "hist = sns.histplot(data=day_f, x=\"time\")\n",
    "hist.set_title('количество дней стройки') \n",
    "fig.set_figwidth(10)\n",
    "fig.set_figheight(8);"
   ]
  },
  {
   "cell_type": "markdown",
   "id": "eccfb14f",
   "metadata": {},
   "source": [
    "###  Проанализировать влияние событий на совершение целевого события (переход на 2 уровень)\n",
    "\n",
    "Разделим пользователей на, завершивших уровень (1) и не завершивших (0), и сверим их показатели"
   ]
  },
  {
   "cell_type": "code",
   "execution_count": null,
   "id": "d2ec0727",
   "metadata": {},
   "outputs": [],
   "source": [
    "#создаем df с пользователями, которые завершили уровень\n",
    "data_finished = data_game_act.merge(data_finish['user_id'], on = 'user_id', how='right')\n",
    "display(data_finished['user_id'].nunique())\n",
    "\n",
    "#создаем df с пользователями, которые не завершили уровень\n",
    "data_not_finished = pd.concat([data_game_act, data_finished]).drop_duplicates(keep=False)\n",
    "display(data_not_finished['user_id'].nunique())"
   ]
  },
  {
   "cell_type": "markdown",
   "id": "1e48304e",
   "metadata": {},
   "source": [
    "#### среднее количество времени, проведенное пользователем на 1 уровне"
   ]
  },
  {
   "cell_type": "code",
   "execution_count": null,
   "id": "3d9665ae",
   "metadata": {},
   "outputs": [],
   "source": [
    "day_to_f = data_finished.query('event == \"building\"').groupby('user_id').apply(lambda x: x['event_datetime'].max() - x['event_datetime'].min()).dt.round('D').reset_index()\n",
    "day_to_f.columns = ['user_id', 'day_to_finish']\n",
    "day_to_f['day_to_finish'] = (day_to_f['day_to_finish']/ np.timedelta64(1, 'D')).astype(int) #переводим в формат int\n",
    "\n",
    "sns.boxplot(y='day_to_finish', data=day_to_f)\n",
    "plt.ylim(0, 30);\n",
    "\n",
    "day_to_f = day_to_f[day_to_f['day_to_finish'] < 20]\n",
    "print('от первой постройки до последней в среднем проходит', day_to_f['day_to_finish'].mean(), 'дней')"
   ]
  },
  {
   "cell_type": "code",
   "execution_count": null,
   "id": "fce846a9",
   "metadata": {},
   "outputs": [],
   "source": [
    "fig, hist = plt.subplots()\n",
    "hist = sns.histplot(data=day_to_f, x=\"day_to_finish\", bins = 20)\n",
    "hist.set_title('количество дней стройки') \n",
    "fig.set_figwidth(10)\n",
    "fig.set_figheight(8);"
   ]
  },
  {
   "cell_type": "code",
   "execution_count": null,
   "id": "dcec9310",
   "metadata": {},
   "outputs": [],
   "source": [
    "day_to_end = data_not_finished.query('event == \"building\"').groupby('user_id').apply(lambda x: x['event_datetime'].max() - x['event_datetime'].min()).dt.round('D').reset_index()\n",
    "day_to_end.columns = ['user_id', 'time']\n",
    "day_to_end['time'] = (day_to_end['time']/ np.timedelta64(1, 'D')).astype(int) #переводим в формат int\n",
    "\n",
    "sns.boxplot(y='time', data=day_to_end)\n",
    "plt.ylim(0, 50);\n",
    "\n",
    "day_to_end = day_to_end[day_to_end['time'] < 25]\n",
    "print('от первой постройки до прекращения игры в среднем проходит', day_to_end['time'].mean(), 'дней')"
   ]
  },
  {
   "cell_type": "code",
   "execution_count": null,
   "id": "23c5a940",
   "metadata": {},
   "outputs": [],
   "source": [
    "fig, hist = plt.subplots()\n",
    "hist = sns.histplot(data=day_to_end, x=\"time\")\n",
    "hist.set_title('количество дней игры до конца') \n",
    "fig.set_figwidth(10)\n",
    "fig.set_figheight(8);"
   ]
  },
  {
   "cell_type": "markdown",
   "id": "4b44c3bc",
   "metadata": {},
   "source": [
    "у большинства пользователей заканчивается терпение с 6-11 день, именно в это время др пользователи переходили на 2 уровень \n",
    "\n",
    "#### скорость постройки"
   ]
  },
  {
   "cell_type": "code",
   "execution_count": null,
   "id": "610c86b1",
   "metadata": {},
   "outputs": [],
   "source": [
    "data_act_buil_1 = data_finished.query('event == \"building\"')\n",
    "\n",
    "data_act_buil_1['prev'] = (data_act_buil_1.query('event == \"building\"').sort_values(by=['event_datetime'], ascending=True)\n",
    "                       .groupby(['user_id'])['event_datetime'].shift(1))\n",
    "\n",
    "data_act_buil_1['diff'] = data_act_buil_1['event_datetime'] - data_act_buil_1['prev']"
   ]
  },
  {
   "cell_type": "code",
   "execution_count": null,
   "id": "f4fabd61",
   "metadata": {},
   "outputs": [],
   "source": [
    "diff_buil_1 = data_act_buil_1['diff'].dropna() #удаляем пустые строки, чтобы перевести в часы\n",
    "diff_buil_1 = data_act_buil_1.merge(diff_buil_1, on = 'diff', how = 'inner').drop_duplicates()\n",
    "diff_buil_1['diff'] = (diff_buil_1['diff']/ np.timedelta64(1, 'h')).astype(int)\n",
    "\n",
    "display(diff_buil_1.head(5))"
   ]
  },
  {
   "cell_type": "code",
   "execution_count": null,
   "id": "2c2a4f8b",
   "metadata": {},
   "outputs": [],
   "source": [
    "#посчитаем для каждого пользователя среднее время между постройками\n",
    "time_diff_mean = diff_buil_1.groupby('user_id').agg({'diff':'mean'}).reset_index()\n",
    "time_diff_mean.columns = ['user_id', 'mean_time_building']"
   ]
  },
  {
   "cell_type": "code",
   "execution_count": null,
   "id": "7e9e00df",
   "metadata": {},
   "outputs": [],
   "source": [
    "sns.boxplot(y='mean_time_building', data=time_diff_mean)\n",
    "plt.title('среднее время между постройками группы 1 (ч)')\n",
    "plt.ylim(0, 80);"
   ]
  },
  {
   "cell_type": "code",
   "execution_count": null,
   "id": "42895862",
   "metadata": {},
   "outputs": [],
   "source": [
    "a = time_diff_mean[time_diff_mean['mean_time_building'] < 60]"
   ]
  },
  {
   "cell_type": "code",
   "execution_count": null,
   "id": "14d2843b",
   "metadata": {},
   "outputs": [],
   "source": [
    "fig, hist = plt.subplots()\n",
    "hist = sns.histplot(data=a, x=\"mean_time_building\")\n",
    "hist.set_title('количество часов между постройками 1') \n",
    "fig.set_figwidth(10)\n",
    "fig.set_figheight(8);"
   ]
  },
  {
   "cell_type": "code",
   "execution_count": null,
   "id": "74ef1f85",
   "metadata": {},
   "outputs": [],
   "source": [
    "print(' у группы 1 в среднем между каждой постройкой проходит', a['mean_time_building'].mean().round(2), 'часов')"
   ]
  },
  {
   "cell_type": "code",
   "execution_count": null,
   "id": "249785be",
   "metadata": {},
   "outputs": [],
   "source": [
    "data_act_buil = data_not_finished.query('event == \"building\"')\n",
    "\n",
    "data_act_buil['prev'] = (data_act_buil.query('event == \"building\"').sort_values(by=['event_datetime'], ascending=True)\n",
    "                       .groupby(['user_id'])['event_datetime'].shift(1))\n",
    "\n",
    "data_act_buil['diff'] = data_act_buil['event_datetime'] - data_act_buil['prev']"
   ]
  },
  {
   "cell_type": "code",
   "execution_count": null,
   "id": "b7c19d94",
   "metadata": {},
   "outputs": [],
   "source": [
    "diff_buil = data_act_buil['diff'].dropna() #удаляем пустые строки, чтобы перевести в часы\n",
    "diff_buil = data_act_buil.merge(diff_buil, on = 'diff', how = 'inner').drop_duplicates()\n",
    "diff_buil['diff'] = (diff_buil['diff']/ np.timedelta64(1, 'h')).astype(int)\n",
    "\n",
    "display(diff_buil.head(5))"
   ]
  },
  {
   "cell_type": "code",
   "execution_count": null,
   "id": "a0c554d1",
   "metadata": {},
   "outputs": [],
   "source": [
    "time_diff_mean_0 = diff_buil.groupby('user_id').agg({'diff':'mean'}).reset_index()\n",
    "time_diff_mean_0.columns = ['user_id', 'mean_time_building']\n",
    "\n",
    "sns.boxplot(y='mean_time_building', data=time_diff_mean_0)\n",
    "plt.title('среднее время между постройками группы 0(ч)')\n",
    "plt.ylim(0, 80);"
   ]
  },
  {
   "cell_type": "code",
   "execution_count": null,
   "id": "3278dcf0",
   "metadata": {},
   "outputs": [],
   "source": [
    "b = time_diff_mean_0[time_diff_mean_0['mean_time_building'] < 80]\n",
    "\n",
    "print('в среднем у группы 0 времени между каждой постройков проходит', b['mean_time_building'].mean().round(2), 'часов')"
   ]
  },
  {
   "cell_type": "code",
   "execution_count": null,
   "id": "36436043",
   "metadata": {},
   "outputs": [],
   "source": [
    "fig, hist = plt.subplots()\n",
    "hist = sns.histplot(data=b, x=\"mean_time_building\")\n",
    "hist.set_title('количество часов между постройками 0') \n",
    "fig.set_figwidth(10)\n",
    "fig.set_figheight(8);"
   ]
  },
  {
   "cell_type": "markdown",
   "id": "f0a4474c",
   "metadata": {},
   "source": [
    "#### количество построек"
   ]
  },
  {
   "cell_type": "code",
   "execution_count": null,
   "id": "3b0b5693",
   "metadata": {},
   "outputs": [],
   "source": [
    "total_1 = pd.concat([data_pve_agg, data_pvp])\n",
    "print('Среднее количество построек у группы 1:', total_1['count_build'].median().round(2))\n",
    "\n",
    "fig, hist = plt.subplots()\n",
    "hist = sns.histplot(data=total_1, x=\"count_build\")\n",
    "hist.set_title('количество построек группа 1') \n",
    "fig.set_figwidth(10)\n",
    "fig.set_figheight(8);"
   ]
  },
  {
   "cell_type": "code",
   "execution_count": null,
   "id": "66536b87",
   "metadata": {},
   "outputs": [],
   "source": [
    "bild_0 = data_not_finished.query('event == \"building\"').groupby('user_id').agg({'event_datetime':'count'}).reset_index()\n",
    "bild_0.columns = ['user_id', 'cnt_buil']\n",
    "print('Среднее количество построек у группы 0:', bild_0['cnt_buil'].median().round(2))\n",
    "display(bild_0)\n",
    "fig, hist = plt.subplots()\n",
    "hist = sns.histplot(data=bild_0, x=\"cnt_buil\", bins = 20)\n",
    "hist.set_title('количество построек группа 0') \n",
    "fig.set_figwidth(10)\n",
    "fig.set_figheight(8);"
   ]
  },
  {
   "cell_type": "markdown",
   "id": "f541232c",
   "metadata": {},
   "source": [
    "**Создадим таблицу со всей нашей подготовленной инф**"
   ]
  },
  {
   "cell_type": "code",
   "execution_count": null,
   "id": "a623837b",
   "metadata": {},
   "outputs": [],
   "source": [
    "total_1 = total_1.merge(day_to_f, on = 'user_id', how = 'inner')\n",
    "\n",
    "total_1 = total_1.merge(a, on = 'user_id', how = 'inner')\n",
    "\n",
    "display(total_1)"
   ]
  },
  {
   "cell_type": "code",
   "execution_count": null,
   "id": "0729a69b",
   "metadata": {},
   "outputs": [],
   "source": [
    "total_0 = data_not_finished['user_id'].drop_duplicates()\n",
    "total_0 = day_to_end.merge(total_0, on = 'user_id', how = 'inner')\n",
    "total_0 = total_0.merge(b, on = 'user_id', how = 'inner')\n",
    "total_0 = total_0.merge(bild_0, on = 'user_id', how = 'inner')\n",
    "display(total_0)"
   ]
  },
  {
   "cell_type": "markdown",
   "id": "69f6b748",
   "metadata": {},
   "source": [
    "#### канал привлечения"
   ]
  },
  {
   "cell_type": "code",
   "execution_count": null,
   "id": "66776dff",
   "metadata": {},
   "outputs": [],
   "source": [
    "#добавим канал привлечения в таблицу\n",
    "total_1 = total_1.merge(data_users, on = 'user_id', how = 'inner')\n",
    "\n",
    "total_0 = total_0.merge(data_users, on = 'user_id', how = 'inner')"
   ]
  },
  {
   "cell_type": "code",
   "execution_count": null,
   "id": "bf1de856",
   "metadata": {},
   "outputs": [],
   "source": [
    "total_1.groupby('source', as_index = False).agg({'user_id':'count'})"
   ]
  },
  {
   "cell_type": "code",
   "execution_count": null,
   "id": "1b6b20bf",
   "metadata": {},
   "outputs": [],
   "source": [
    "total_0.groupby('source', as_index = False).agg({'user_id':'count'})"
   ]
  },
  {
   "cell_type": "markdown",
   "id": "b00d79ff",
   "metadata": {},
   "source": [
    "преданность игре не зависит от источника пользователя"
   ]
  },
  {
   "cell_type": "markdown",
   "id": "aeb50b29",
   "metadata": {},
   "source": [
    "## Проверка гипотез\n",
    "\n",
    "H0 - Различие среднего времени прохождения 1 уровня между пользователями стратегии PvP и PvE отсутствует\n",
    "\n",
    "H1 - Различие среднего времени прохождения 1 уровня между пользователями стратегии PvP и PvE есть"
   ]
  },
  {
   "cell_type": "code",
   "execution_count": null,
   "id": "0c4ebdf6",
   "metadata": {},
   "outputs": [],
   "source": [
    "a = total_1[total_1['strategy'] == 'PVE']['day_to_finish']\n",
    "b = total_1[total_1['strategy'] == 'PVP']['day_to_finish']\n",
    "\n",
    "alpha = .05\n",
    "result = st.ttest_ind(a, b, equal_var=False)\n",
    "print('p-значение:', result.pvalue)\n",
    "\n",
    "if result.pvalue < alpha:\n",
    "    print(\"Отвергаем нулевую гипотезу\")\n",
    "else:\n",
    "    print(\"Не получилось отвергнуть нулевую гипотезу\")"
   ]
  },
  {
   "cell_type": "markdown",
   "id": "0578061c",
   "metadata": {},
   "source": [
    "__________\n",
    "\n",
    "H0 - Среднее время между постройками не влияет на завершение 1 уровня\n",
    "\n",
    "H1 - Среднее время между постройками влияет на завершение 1 уровня\n"
   ]
  },
  {
   "cell_type": "code",
   "execution_count": null,
   "id": "b5f86369",
   "metadata": {},
   "outputs": [],
   "source": [
    "a = total_1['mean_time_building']\n",
    "b = total_0['mean_time_building']\n",
    "\n",
    "alpha = .05\n",
    "result = st.ttest_ind(a, b, equal_var=False)\n",
    "print('p-значение:', result.pvalue)\n",
    "\n",
    "if result.pvalue < alpha:\n",
    "    print(\"Отвергаем нулевую гипотезу\")\n",
    "else:\n",
    "    print(\"Не получилось отвергнуть нулевую гипотезу\")"
   ]
  },
  {
   "cell_type": "markdown",
   "id": "2192ad96",
   "metadata": {},
   "source": [
    "____\n",
    "H0 - Среднее количество построек между PVP и PVE одинаково\n",
    "\n",
    "H1 - Среднее количество построек между PVP и PVE различно"
   ]
  },
  {
   "cell_type": "code",
   "execution_count": null,
   "id": "10557973",
   "metadata": {},
   "outputs": [],
   "source": [
    "a = total_1['count_build']\n",
    "b = total_0['cnt_buil']\n",
    "\n",
    "alpha = .05\n",
    "result = st.ttest_ind(a, b, equal_var=False)\n",
    "print('p-значение:', result.pvalue)\n",
    "\n",
    "if result.pvalue < alpha:\n",
    "    print(\"Отвергаем нулевую гипотезу\")\n",
    "else:\n",
    "    print(\"Не получилось отвергнуть нулевую гипотезу\")"
   ]
  },
  {
   "cell_type": "markdown",
   "id": "4b00a866",
   "metadata": {},
   "source": [
    "что мы имеем, кол-во построек, скороcть прохождения уровня у двух групп различается, среднее время постройки влияет на завершение 1 уровня\n",
    "\n",
    "_____\n",
    "## Проверка модели монетизации\n",
    "\n",
    "один показ рекламы приносит 0.07 у.е\n",
    "\n",
    "нам известно, что было решено показывать рекламу на экране с выбором постройки\n",
    "\n",
    "всего было построено 127956 зданий"
   ]
  },
  {
   "cell_type": "code",
   "execution_count": null,
   "id": "45e85e46",
   "metadata": {},
   "outputs": [],
   "source": [
    "#Общая сумма затрат на рекламу игры\n",
    "\n",
    "data_ad_сost['cost'].sum()\n",
    "\n",
    "#Один показ рекламы приносит 0.07 у.е.\n",
    "\n",
    "print(round(data_ad_сost['cost'].sum()/0.07, 0), 'нужно показов, чтобы окупить затраты на рекламу')"
   ]
  },
  {
   "cell_type": "markdown",
   "id": "5ecee840",
   "metadata": {},
   "source": [
    "с текущей моделью затраты на маркетинг окупаются, но можно снизить рекламную нагрузку. Надо еще учесть, что пользователи могли открыть экран с постройкой и до завершения предыдущей. \n",
    "\n",
    "Сейчас пользователям показывают рекламу в среднем 10 раз (среднее кол-во построек на пользователя) раз в 20 часов (среднее время между постройками). всего пользователи проводят 240 часов в игре."
   ]
  },
  {
   "cell_type": "markdown",
   "id": "7783eddb",
   "metadata": {},
   "source": [
    "1. Предлагаю отвязаться от показа рекламы на экране выбора постройки. И перейти к показу рекламы по времени.\n",
    "\n",
    "В среднем пользователи строят новое здание раз в 20 часов и играют 10 дней.\n",
    "\n",
    "Если показывать рекламу раз в сутки, то прибыль = 135760 уе.\n",
    "Тем самым снизим рекламную нагрузку на пользователей (экран выбора постройки могли открывать и до завершения предыдущей, т.е. до возможности стройки).\n",
    "И снизим риск снижения дохода при большем количестве пользователей PVP."
   ]
  },
  {
   "cell_type": "code",
   "execution_count": null,
   "id": "27d97bf7",
   "metadata": {
    "scrolled": true
   },
   "outputs": [],
   "source": [
    "data_game_act.groupby('building_type').agg({'user_id':'count'})"
   ]
  },
  {
   "cell_type": "code",
   "execution_count": null,
   "id": "3fcb097d",
   "metadata": {},
   "outputs": [],
   "source": [
    "data_game_act = data_game_act.sort_values(by = ['user_id', 'event_datetime'])\n",
    "first_buil = data_game_act.groupby('user_id').agg({'event_datetime': 'min', 'building_type': 'first'}).reset_index()\n",
    "\n",
    "display(first_buil.groupby('building_type').agg({'user_id':'count'}))"
   ]
  },
  {
   "cell_type": "code",
   "execution_count": null,
   "id": "a3a48486",
   "metadata": {},
   "outputs": [],
   "source": [
    "first_diff = pd.concat([diff_buil_1, diff_buil]).sort_values(by = ['user_id', 'event_datetime'])\n",
    "first_diff = first_diff.groupby('user_id').agg({'diff': 'first'}).reset_index()\n",
    "display(first_diff.query('diff < 20').count())"
   ]
  },
  {
   "cell_type": "markdown",
   "id": "bfb37af1",
   "metadata": {
    "pycharm": {
     "name": "#%% md\n"
    }
   },
   "source": [
    "2. Пропуск рекламы на первых зданиях.\n",
    "\n",
    "первая постройка у всех assembly_shop. в среднем можно снизить кол-во рекламы на 1,4 показа на пользователя. \n",
    "например, у пользователей, которые чаще заходят в игру можно сделать первые 2 постройки без рекламы(в нашей когорте это 5968 пользователей), у др 1. Т.к. пользователи, которые заходят в игру чаще, вероятнее закончат 1 уровень. \n",
    "\n",
    "\n",
    "Дополнительные идеи:\n",
    "\n",
    "1 Интегрировать рекламу в интерфейс игры (формы зданий, кораблей,\n",
    "надписи, окраска)\n",
    "\n",
    "2 Показ рекламы для ускорения постройки (Rewarded video ads). Может\n",
    "способствовать удержанию пользователей в игре, так и увеличить кол-во пользователей PVE"
   ]
  }
 ],
 "metadata": {
  "ExecuteTimeLog": [
   {
    "duration": 138,
    "start_time": "2022-07-27T09:46:51.904Z"
   },
   {
    "duration": 61,
    "start_time": "2022-07-27T15:38:33.337Z"
   },
   {
    "duration": 52,
    "start_time": "2022-07-27T15:39:04.229Z"
   },
   {
    "duration": 1289,
    "start_time": "2022-07-27T15:39:07.267Z"
   },
   {
    "duration": 101,
    "start_time": "2022-07-27T15:39:10.660Z"
   },
   {
    "duration": 71,
    "start_time": "2022-07-27T15:39:31.758Z"
   },
   {
    "duration": 67,
    "start_time": "2022-07-27T15:45:47.939Z"
   },
   {
    "duration": 111,
    "start_time": "2022-07-27T15:45:51.251Z"
   },
   {
    "duration": 1085,
    "start_time": "2022-07-27T15:45:56.653Z"
   },
   {
    "duration": 63,
    "start_time": "2022-07-27T15:45:57.739Z"
   },
   {
    "duration": 583,
    "start_time": "2022-07-27T15:45:57.803Z"
   },
   {
    "duration": 22,
    "start_time": "2022-07-27T15:45:58.389Z"
   },
   {
    "duration": 120,
    "start_time": "2022-07-27T15:45:58.413Z"
   },
   {
    "duration": 32,
    "start_time": "2022-07-27T15:45:58.535Z"
   },
   {
    "duration": 25,
    "start_time": "2022-07-27T15:45:58.569Z"
   },
   {
    "duration": 42,
    "start_time": "2022-07-27T15:45:58.596Z"
   },
   {
    "duration": 21,
    "start_time": "2022-07-27T15:45:58.639Z"
   },
   {
    "duration": 18,
    "start_time": "2022-07-27T15:45:58.663Z"
   },
   {
    "duration": 192,
    "start_time": "2022-07-27T15:45:58.682Z"
   },
   {
    "duration": 98,
    "start_time": "2022-07-27T15:45:58.876Z"
   },
   {
    "duration": 24,
    "start_time": "2022-07-27T15:45:58.976Z"
   },
   {
    "duration": 34,
    "start_time": "2022-07-27T15:45:59.002Z"
   },
   {
    "duration": 190,
    "start_time": "2022-07-27T15:45:59.038Z"
   },
   {
    "duration": 23,
    "start_time": "2022-07-27T15:45:59.233Z"
   },
   {
    "duration": 48,
    "start_time": "2022-07-27T15:45:59.258Z"
   },
   {
    "duration": 96,
    "start_time": "2022-07-27T15:45:59.307Z"
   },
   {
    "duration": 2545,
    "start_time": "2022-07-27T15:45:59.405Z"
   },
   {
    "duration": 218,
    "start_time": "2022-07-27T15:46:01.951Z"
   },
   {
    "duration": 148,
    "start_time": "2022-07-27T15:46:02.170Z"
   },
   {
    "duration": 1217,
    "start_time": "2022-07-27T15:46:02.320Z"
   },
   {
    "duration": 188,
    "start_time": "2022-07-27T15:46:03.539Z"
   },
   {
    "duration": 1567,
    "start_time": "2022-07-27T15:46:03.728Z"
   },
   {
    "duration": 196,
    "start_time": "2022-07-27T15:46:05.297Z"
   },
   {
    "duration": 51,
    "start_time": "2022-07-27T15:46:05.495Z"
   },
   {
    "duration": 127,
    "start_time": "2022-07-27T15:46:05.547Z"
   },
   {
    "duration": 0,
    "start_time": "2022-07-27T15:46:05.676Z"
   },
   {
    "duration": 0,
    "start_time": "2022-07-27T15:46:05.677Z"
   },
   {
    "duration": 0,
    "start_time": "2022-07-27T15:46:05.678Z"
   },
   {
    "duration": 0,
    "start_time": "2022-07-27T15:46:05.679Z"
   },
   {
    "duration": 0,
    "start_time": "2022-07-27T15:46:05.680Z"
   },
   {
    "duration": 0,
    "start_time": "2022-07-27T15:46:05.681Z"
   },
   {
    "duration": 0,
    "start_time": "2022-07-27T15:46:05.682Z"
   },
   {
    "duration": 0,
    "start_time": "2022-07-27T15:46:05.683Z"
   },
   {
    "duration": 0,
    "start_time": "2022-07-27T15:46:05.684Z"
   },
   {
    "duration": 0,
    "start_time": "2022-07-27T15:46:05.685Z"
   },
   {
    "duration": 0,
    "start_time": "2022-07-27T15:46:05.685Z"
   },
   {
    "duration": 0,
    "start_time": "2022-07-27T15:46:05.686Z"
   },
   {
    "duration": 0,
    "start_time": "2022-07-27T15:46:05.687Z"
   },
   {
    "duration": 0,
    "start_time": "2022-07-27T15:46:05.688Z"
   },
   {
    "duration": 0,
    "start_time": "2022-07-27T15:46:05.689Z"
   },
   {
    "duration": 0,
    "start_time": "2022-07-27T15:46:05.690Z"
   },
   {
    "duration": 0,
    "start_time": "2022-07-27T15:46:05.690Z"
   },
   {
    "duration": 0,
    "start_time": "2022-07-27T15:46:05.691Z"
   },
   {
    "duration": 58,
    "start_time": "2022-07-27T15:47:02.953Z"
   },
   {
    "duration": 17,
    "start_time": "2022-07-27T15:47:15.643Z"
   },
   {
    "duration": 15,
    "start_time": "2022-07-27T15:47:19.985Z"
   },
   {
    "duration": 15,
    "start_time": "2022-07-27T15:47:22.466Z"
   },
   {
    "duration": 23,
    "start_time": "2022-07-27T15:49:40.644Z"
   },
   {
    "duration": 24,
    "start_time": "2022-07-27T15:49:50.232Z"
   },
   {
    "duration": 1170,
    "start_time": "2022-07-27T15:52:18.421Z"
   },
   {
    "duration": 152,
    "start_time": "2022-07-27T15:52:21.782Z"
   },
   {
    "duration": 1251,
    "start_time": "2022-07-27T15:52:42.167Z"
   },
   {
    "duration": 188,
    "start_time": "2022-07-27T15:52:44.151Z"
   },
   {
    "duration": 165,
    "start_time": "2022-07-27T15:53:05.585Z"
   },
   {
    "duration": 203,
    "start_time": "2022-07-27T15:53:14.833Z"
   },
   {
    "duration": 182,
    "start_time": "2022-07-27T15:53:22.728Z"
   },
   {
    "duration": 234,
    "start_time": "2022-07-27T15:58:54.878Z"
   },
   {
    "duration": 171,
    "start_time": "2022-07-27T15:59:04.934Z"
   },
   {
    "duration": 178,
    "start_time": "2022-07-27T15:59:09.229Z"
   },
   {
    "duration": 176,
    "start_time": "2022-07-27T15:59:13.864Z"
   },
   {
    "duration": 168,
    "start_time": "2022-07-27T15:59:18.232Z"
   },
   {
    "duration": 169,
    "start_time": "2022-07-27T15:59:25.982Z"
   },
   {
    "duration": 167,
    "start_time": "2022-07-27T15:59:30.543Z"
   },
   {
    "duration": 188,
    "start_time": "2022-07-27T16:00:48.497Z"
   },
   {
    "duration": 958,
    "start_time": "2022-07-27T16:07:03.424Z"
   },
   {
    "duration": 65,
    "start_time": "2022-07-27T16:07:32.032Z"
   },
   {
    "duration": 54,
    "start_time": "2022-07-27T16:29:53.834Z"
   },
   {
    "duration": 778,
    "start_time": "2022-07-27T16:30:06.825Z"
   },
   {
    "duration": 803,
    "start_time": "2022-07-27T16:30:13.649Z"
   },
   {
    "duration": 46,
    "start_time": "2022-07-27T16:30:27.569Z"
   },
   {
    "duration": 49,
    "start_time": "2022-07-27T16:30:43.021Z"
   },
   {
    "duration": 16,
    "start_time": "2022-07-27T16:31:29.970Z"
   },
   {
    "duration": 818,
    "start_time": "2022-07-27T16:36:04.935Z"
   },
   {
    "duration": 604,
    "start_time": "2022-07-27T16:36:15.411Z"
   },
   {
    "duration": 775,
    "start_time": "2022-07-27T16:36:25.584Z"
   },
   {
    "duration": 55,
    "start_time": "2022-07-27T16:36:46.728Z"
   },
   {
    "duration": 67,
    "start_time": "2022-07-27T16:36:52.727Z"
   },
   {
    "duration": 45,
    "start_time": "2022-07-27T16:37:02.915Z"
   },
   {
    "duration": 61,
    "start_time": "2022-07-27T16:37:08.812Z"
   },
   {
    "duration": 76,
    "start_time": "2022-07-27T16:37:24.088Z"
   },
   {
    "duration": 58,
    "start_time": "2022-07-27T16:38:56.243Z"
   },
   {
    "duration": 774,
    "start_time": "2022-07-27T16:39:15.411Z"
   },
   {
    "duration": 1082,
    "start_time": "2022-07-27T16:39:31.279Z"
   },
   {
    "duration": 63,
    "start_time": "2022-07-27T16:39:32.362Z"
   },
   {
    "duration": 370,
    "start_time": "2022-07-27T16:39:32.427Z"
   },
   {
    "duration": 51,
    "start_time": "2022-07-27T16:39:32.798Z"
   },
   {
    "duration": 108,
    "start_time": "2022-07-27T16:39:32.850Z"
   },
   {
    "duration": 31,
    "start_time": "2022-07-27T16:39:32.959Z"
   },
   {
    "duration": 24,
    "start_time": "2022-07-27T16:39:32.991Z"
   },
   {
    "duration": 33,
    "start_time": "2022-07-27T16:39:33.016Z"
   },
   {
    "duration": 21,
    "start_time": "2022-07-27T16:39:33.050Z"
   },
   {
    "duration": 17,
    "start_time": "2022-07-27T16:39:33.074Z"
   },
   {
    "duration": 200,
    "start_time": "2022-07-27T16:39:33.092Z"
   },
   {
    "duration": 105,
    "start_time": "2022-07-27T16:39:33.293Z"
   },
   {
    "duration": 23,
    "start_time": "2022-07-27T16:39:33.400Z"
   },
   {
    "duration": 21,
    "start_time": "2022-07-27T16:39:33.433Z"
   },
   {
    "duration": 203,
    "start_time": "2022-07-27T16:39:33.456Z"
   },
   {
    "duration": 24,
    "start_time": "2022-07-27T16:39:33.660Z"
   },
   {
    "duration": 85,
    "start_time": "2022-07-27T16:39:33.685Z"
   },
   {
    "duration": 107,
    "start_time": "2022-07-27T16:39:33.772Z"
   },
   {
    "duration": 2479,
    "start_time": "2022-07-27T16:39:33.881Z"
   },
   {
    "duration": 205,
    "start_time": "2022-07-27T16:39:36.362Z"
   },
   {
    "duration": 147,
    "start_time": "2022-07-27T16:39:36.569Z"
   },
   {
    "duration": 1163,
    "start_time": "2022-07-27T16:39:36.718Z"
   },
   {
    "duration": 191,
    "start_time": "2022-07-27T16:39:37.883Z"
   },
   {
    "duration": 1603,
    "start_time": "2022-07-27T16:39:38.075Z"
   },
   {
    "duration": 198,
    "start_time": "2022-07-27T16:39:39.680Z"
   },
   {
    "duration": 149,
    "start_time": "2022-07-27T16:39:39.879Z"
   },
   {
    "duration": 0,
    "start_time": "2022-07-27T16:39:40.030Z"
   },
   {
    "duration": 0,
    "start_time": "2022-07-27T16:39:40.033Z"
   },
   {
    "duration": 0,
    "start_time": "2022-07-27T16:39:40.034Z"
   },
   {
    "duration": 0,
    "start_time": "2022-07-27T16:39:40.035Z"
   },
   {
    "duration": 0,
    "start_time": "2022-07-27T16:39:40.036Z"
   },
   {
    "duration": 0,
    "start_time": "2022-07-27T16:39:40.037Z"
   },
   {
    "duration": 0,
    "start_time": "2022-07-27T16:39:40.038Z"
   },
   {
    "duration": 0,
    "start_time": "2022-07-27T16:39:40.038Z"
   },
   {
    "duration": 0,
    "start_time": "2022-07-27T16:39:40.039Z"
   },
   {
    "duration": 0,
    "start_time": "2022-07-27T16:39:40.040Z"
   },
   {
    "duration": 0,
    "start_time": "2022-07-27T16:39:40.041Z"
   },
   {
    "duration": 0,
    "start_time": "2022-07-27T16:39:40.042Z"
   },
   {
    "duration": 0,
    "start_time": "2022-07-27T16:39:40.042Z"
   },
   {
    "duration": 0,
    "start_time": "2022-07-27T16:39:40.043Z"
   },
   {
    "duration": 0,
    "start_time": "2022-07-27T16:39:40.045Z"
   },
   {
    "duration": 0,
    "start_time": "2022-07-27T16:39:40.045Z"
   },
   {
    "duration": 0,
    "start_time": "2022-07-27T16:39:40.046Z"
   },
   {
    "duration": 0,
    "start_time": "2022-07-27T16:39:40.047Z"
   },
   {
    "duration": 0,
    "start_time": "2022-07-27T16:39:40.048Z"
   },
   {
    "duration": 50,
    "start_time": "2022-07-27T16:41:16.976Z"
   },
   {
    "duration": 56,
    "start_time": "2022-07-27T16:41:34.760Z"
   },
   {
    "duration": 48,
    "start_time": "2022-07-27T16:41:42.009Z"
   },
   {
    "duration": 55,
    "start_time": "2022-07-27T16:42:02.642Z"
   },
   {
    "duration": 47,
    "start_time": "2022-07-27T16:42:13.002Z"
   },
   {
    "duration": 46,
    "start_time": "2022-07-27T16:42:19.817Z"
   },
   {
    "duration": 829,
    "start_time": "2022-07-27T16:42:50.818Z"
   },
   {
    "duration": 264,
    "start_time": "2022-07-27T16:43:07.883Z"
   },
   {
    "duration": 63,
    "start_time": "2022-07-27T16:44:04.509Z"
   },
   {
    "duration": 58,
    "start_time": "2022-07-27T16:44:35.164Z"
   },
   {
    "duration": 73,
    "start_time": "2022-07-27T16:44:44.206Z"
   },
   {
    "duration": 81,
    "start_time": "2022-07-27T16:44:53.612Z"
   },
   {
    "duration": 61,
    "start_time": "2022-07-27T16:45:48.927Z"
   },
   {
    "duration": 1164,
    "start_time": "2022-07-27T16:46:16.854Z"
   },
   {
    "duration": 81,
    "start_time": "2022-07-27T16:46:18.020Z"
   },
   {
    "duration": 312,
    "start_time": "2022-07-27T16:46:18.103Z"
   },
   {
    "duration": 42,
    "start_time": "2022-07-27T16:46:18.417Z"
   },
   {
    "duration": 118,
    "start_time": "2022-07-27T16:46:18.461Z"
   },
   {
    "duration": 31,
    "start_time": "2022-07-27T16:46:18.581Z"
   },
   {
    "duration": 33,
    "start_time": "2022-07-27T16:46:18.614Z"
   },
   {
    "duration": 28,
    "start_time": "2022-07-27T16:46:18.649Z"
   },
   {
    "duration": 31,
    "start_time": "2022-07-27T16:46:18.679Z"
   },
   {
    "duration": 25,
    "start_time": "2022-07-27T16:46:18.733Z"
   },
   {
    "duration": 194,
    "start_time": "2022-07-27T16:46:18.760Z"
   },
   {
    "duration": 99,
    "start_time": "2022-07-27T16:46:18.955Z"
   },
   {
    "duration": 24,
    "start_time": "2022-07-27T16:46:19.056Z"
   },
   {
    "duration": 21,
    "start_time": "2022-07-27T16:46:19.082Z"
   },
   {
    "duration": 208,
    "start_time": "2022-07-27T16:46:19.105Z"
   },
   {
    "duration": 32,
    "start_time": "2022-07-27T16:46:19.314Z"
   },
   {
    "duration": 51,
    "start_time": "2022-07-27T16:46:19.347Z"
   },
   {
    "duration": 95,
    "start_time": "2022-07-27T16:46:19.400Z"
   },
   {
    "duration": 3504,
    "start_time": "2022-07-27T16:46:19.497Z"
   },
   {
    "duration": 216,
    "start_time": "2022-07-27T16:46:23.003Z"
   },
   {
    "duration": 153,
    "start_time": "2022-07-27T16:46:23.220Z"
   },
   {
    "duration": 1223,
    "start_time": "2022-07-27T16:46:23.374Z"
   },
   {
    "duration": 190,
    "start_time": "2022-07-27T16:46:24.598Z"
   },
   {
    "duration": 1632,
    "start_time": "2022-07-27T16:46:24.789Z"
   },
   {
    "duration": 192,
    "start_time": "2022-07-27T16:46:26.423Z"
   },
   {
    "duration": 47,
    "start_time": "2022-07-27T16:46:26.617Z"
   },
   {
    "duration": 0,
    "start_time": "2022-07-27T16:46:26.667Z"
   },
   {
    "duration": 0,
    "start_time": "2022-07-27T16:46:26.667Z"
   },
   {
    "duration": 0,
    "start_time": "2022-07-27T16:46:26.669Z"
   },
   {
    "duration": 0,
    "start_time": "2022-07-27T16:46:26.670Z"
   },
   {
    "duration": 0,
    "start_time": "2022-07-27T16:46:26.672Z"
   },
   {
    "duration": 0,
    "start_time": "2022-07-27T16:46:26.673Z"
   },
   {
    "duration": 0,
    "start_time": "2022-07-27T16:46:26.674Z"
   },
   {
    "duration": 0,
    "start_time": "2022-07-27T16:46:26.676Z"
   },
   {
    "duration": 0,
    "start_time": "2022-07-27T16:46:26.677Z"
   },
   {
    "duration": 0,
    "start_time": "2022-07-27T16:46:26.679Z"
   },
   {
    "duration": 0,
    "start_time": "2022-07-27T16:46:26.680Z"
   },
   {
    "duration": 0,
    "start_time": "2022-07-27T16:46:26.681Z"
   },
   {
    "duration": 0,
    "start_time": "2022-07-27T16:46:26.682Z"
   },
   {
    "duration": 0,
    "start_time": "2022-07-27T16:46:26.683Z"
   },
   {
    "duration": 0,
    "start_time": "2022-07-27T16:46:26.687Z"
   },
   {
    "duration": 0,
    "start_time": "2022-07-27T16:46:26.688Z"
   },
   {
    "duration": 0,
    "start_time": "2022-07-27T16:46:26.689Z"
   },
   {
    "duration": 0,
    "start_time": "2022-07-27T16:46:26.690Z"
   },
   {
    "duration": 0,
    "start_time": "2022-07-27T16:46:26.691Z"
   },
   {
    "duration": 52,
    "start_time": "2022-07-27T16:46:50.325Z"
   },
   {
    "duration": 52,
    "start_time": "2022-07-27T16:47:06.825Z"
   },
   {
    "duration": 43,
    "start_time": "2022-07-27T16:47:12.454Z"
   },
   {
    "duration": 48,
    "start_time": "2022-07-27T16:47:19.457Z"
   },
   {
    "duration": 66,
    "start_time": "2022-07-27T16:47:40.270Z"
   },
   {
    "duration": 65,
    "start_time": "2022-07-27T16:47:48.544Z"
   },
   {
    "duration": 48,
    "start_time": "2022-07-27T16:47:54.879Z"
   },
   {
    "duration": 47,
    "start_time": "2022-07-27T16:48:16.039Z"
   },
   {
    "duration": 67,
    "start_time": "2022-07-27T16:48:18.297Z"
   },
   {
    "duration": 56,
    "start_time": "2022-07-27T16:48:51.112Z"
   },
   {
    "duration": 121,
    "start_time": "2022-07-27T16:49:12.802Z"
   },
   {
    "duration": 27,
    "start_time": "2022-07-27T16:49:16.760Z"
   },
   {
    "duration": 77,
    "start_time": "2022-07-27T16:49:39.737Z"
   },
   {
    "duration": 62,
    "start_time": "2022-07-27T16:50:32.913Z"
   },
   {
    "duration": 57,
    "start_time": "2022-07-27T16:50:40.474Z"
   },
   {
    "duration": 62,
    "start_time": "2022-07-27T16:50:57.806Z"
   },
   {
    "duration": 61,
    "start_time": "2022-07-27T16:51:06.842Z"
   },
   {
    "duration": 25,
    "start_time": "2022-07-27T16:51:25.508Z"
   },
   {
    "duration": 17,
    "start_time": "2022-07-27T16:51:42.963Z"
   },
   {
    "duration": 48,
    "start_time": "2022-07-27T16:52:32.884Z"
   },
   {
    "duration": 88,
    "start_time": "2022-07-27T16:52:36.140Z"
   },
   {
    "duration": 97,
    "start_time": "2022-07-27T16:52:44.052Z"
   },
   {
    "duration": 5,
    "start_time": "2022-07-27T16:52:48.721Z"
   },
   {
    "duration": 196,
    "start_time": "2022-07-27T16:52:50.636Z"
   },
   {
    "duration": 4,
    "start_time": "2022-07-27T16:52:55.109Z"
   },
   {
    "duration": 121,
    "start_time": "2022-07-27T16:54:05.078Z"
   },
   {
    "duration": 90,
    "start_time": "2022-07-27T16:55:07.623Z"
   },
   {
    "duration": 109,
    "start_time": "2022-07-27T16:55:13.630Z"
   },
   {
    "duration": 110,
    "start_time": "2022-07-27T16:55:37.936Z"
   },
   {
    "duration": 5,
    "start_time": "2022-07-27T16:56:07.631Z"
   },
   {
    "duration": 4,
    "start_time": "2022-07-27T16:56:39.546Z"
   },
   {
    "duration": 4,
    "start_time": "2022-07-27T16:56:46.977Z"
   },
   {
    "duration": 4,
    "start_time": "2022-07-27T16:56:58.561Z"
   },
   {
    "duration": 1155,
    "start_time": "2022-07-27T16:57:26.800Z"
   },
   {
    "duration": 64,
    "start_time": "2022-07-27T16:57:27.957Z"
   },
   {
    "duration": 322,
    "start_time": "2022-07-27T16:57:28.022Z"
   },
   {
    "duration": 37,
    "start_time": "2022-07-27T16:57:28.345Z"
   },
   {
    "duration": 126,
    "start_time": "2022-07-27T16:57:28.384Z"
   },
   {
    "duration": 31,
    "start_time": "2022-07-27T16:57:28.512Z"
   },
   {
    "duration": 24,
    "start_time": "2022-07-27T16:57:28.544Z"
   },
   {
    "duration": 24,
    "start_time": "2022-07-27T16:57:28.569Z"
   },
   {
    "duration": 54,
    "start_time": "2022-07-27T16:57:28.594Z"
   },
   {
    "duration": 18,
    "start_time": "2022-07-27T16:57:28.649Z"
   },
   {
    "duration": 202,
    "start_time": "2022-07-27T16:57:28.669Z"
   },
   {
    "duration": 96,
    "start_time": "2022-07-27T16:57:28.873Z"
   },
   {
    "duration": 26,
    "start_time": "2022-07-27T16:57:28.971Z"
   },
   {
    "duration": 39,
    "start_time": "2022-07-27T16:57:29.001Z"
   },
   {
    "duration": 198,
    "start_time": "2022-07-27T16:57:29.042Z"
   },
   {
    "duration": 22,
    "start_time": "2022-07-27T16:57:29.241Z"
   },
   {
    "duration": 50,
    "start_time": "2022-07-27T16:57:29.265Z"
   },
   {
    "duration": 81,
    "start_time": "2022-07-27T16:57:29.335Z"
   },
   {
    "duration": 2571,
    "start_time": "2022-07-27T16:57:29.417Z"
   },
   {
    "duration": 213,
    "start_time": "2022-07-27T16:57:31.989Z"
   },
   {
    "duration": 155,
    "start_time": "2022-07-27T16:57:32.203Z"
   },
   {
    "duration": 1296,
    "start_time": "2022-07-27T16:57:32.359Z"
   },
   {
    "duration": 210,
    "start_time": "2022-07-27T16:57:33.656Z"
   },
   {
    "duration": 1628,
    "start_time": "2022-07-27T16:57:33.867Z"
   },
   {
    "duration": 223,
    "start_time": "2022-07-27T16:57:35.496Z"
   },
   {
    "duration": 69,
    "start_time": "2022-07-27T16:57:35.721Z"
   },
   {
    "duration": 80,
    "start_time": "2022-07-27T16:57:35.792Z"
   },
   {
    "duration": 18,
    "start_time": "2022-07-27T16:57:35.874Z"
   },
   {
    "duration": 116,
    "start_time": "2022-07-27T16:57:35.894Z"
   },
   {
    "duration": 4,
    "start_time": "2022-07-27T16:57:36.011Z"
   },
   {
    "duration": 210,
    "start_time": "2022-07-27T16:57:36.016Z"
   },
   {
    "duration": 10,
    "start_time": "2022-07-27T16:57:36.227Z"
   },
   {
    "duration": 47,
    "start_time": "2022-07-27T16:57:36.238Z"
   },
   {
    "duration": 122,
    "start_time": "2022-07-27T16:57:36.286Z"
   },
   {
    "duration": 0,
    "start_time": "2022-07-27T16:57:36.410Z"
   },
   {
    "duration": 0,
    "start_time": "2022-07-27T16:57:36.411Z"
   },
   {
    "duration": 0,
    "start_time": "2022-07-27T16:57:36.412Z"
   },
   {
    "duration": 0,
    "start_time": "2022-07-27T16:57:36.412Z"
   },
   {
    "duration": 0,
    "start_time": "2022-07-27T16:57:36.413Z"
   },
   {
    "duration": 0,
    "start_time": "2022-07-27T16:57:36.414Z"
   },
   {
    "duration": 0,
    "start_time": "2022-07-27T16:57:36.415Z"
   },
   {
    "duration": 0,
    "start_time": "2022-07-27T16:57:36.416Z"
   },
   {
    "duration": 0,
    "start_time": "2022-07-27T16:57:36.417Z"
   },
   {
    "duration": 0,
    "start_time": "2022-07-27T16:57:36.418Z"
   },
   {
    "duration": 0,
    "start_time": "2022-07-27T16:57:36.419Z"
   },
   {
    "duration": 0,
    "start_time": "2022-07-27T16:57:36.434Z"
   },
   {
    "duration": 17,
    "start_time": "2022-07-27T16:59:45.629Z"
   },
   {
    "duration": 66,
    "start_time": "2022-07-27T16:59:47.821Z"
   },
   {
    "duration": 16,
    "start_time": "2022-07-27T16:59:51.653Z"
   },
   {
    "duration": 108,
    "start_time": "2022-07-27T17:00:02.045Z"
   },
   {
    "duration": 7,
    "start_time": "2022-07-27T17:00:10.077Z"
   },
   {
    "duration": 4,
    "start_time": "2022-07-27T17:00:23.326Z"
   },
   {
    "duration": 5,
    "start_time": "2022-07-27T17:00:30.445Z"
   },
   {
    "duration": 6,
    "start_time": "2022-07-27T17:00:49.358Z"
   },
   {
    "duration": 6,
    "start_time": "2022-07-27T17:00:55.414Z"
   },
   {
    "duration": 136,
    "start_time": "2022-07-27T17:01:19.615Z"
   },
   {
    "duration": 202,
    "start_time": "2022-07-27T17:01:26.166Z"
   },
   {
    "duration": 1111,
    "start_time": "2022-07-27T17:01:37.902Z"
   },
   {
    "duration": 82,
    "start_time": "2022-07-27T17:01:39.015Z"
   },
   {
    "duration": 353,
    "start_time": "2022-07-27T17:01:39.098Z"
   },
   {
    "duration": 38,
    "start_time": "2022-07-27T17:01:39.453Z"
   },
   {
    "duration": 126,
    "start_time": "2022-07-27T17:01:39.492Z"
   },
   {
    "duration": 37,
    "start_time": "2022-07-27T17:01:39.619Z"
   },
   {
    "duration": 26,
    "start_time": "2022-07-27T17:01:39.657Z"
   },
   {
    "duration": 25,
    "start_time": "2022-07-27T17:01:39.684Z"
   },
   {
    "duration": 57,
    "start_time": "2022-07-27T17:01:39.710Z"
   },
   {
    "duration": 18,
    "start_time": "2022-07-27T17:01:39.770Z"
   },
   {
    "duration": 196,
    "start_time": "2022-07-27T17:01:39.790Z"
   },
   {
    "duration": 108,
    "start_time": "2022-07-27T17:01:39.987Z"
   },
   {
    "duration": 37,
    "start_time": "2022-07-27T17:01:40.097Z"
   },
   {
    "duration": 29,
    "start_time": "2022-07-27T17:01:40.136Z"
   },
   {
    "duration": 207,
    "start_time": "2022-07-27T17:01:40.167Z"
   },
   {
    "duration": 22,
    "start_time": "2022-07-27T17:01:40.375Z"
   },
   {
    "duration": 73,
    "start_time": "2022-07-27T17:01:40.398Z"
   },
   {
    "duration": 88,
    "start_time": "2022-07-27T17:01:40.473Z"
   },
   {
    "duration": 2830,
    "start_time": "2022-07-27T17:01:40.563Z"
   },
   {
    "duration": 233,
    "start_time": "2022-07-27T17:01:43.395Z"
   },
   {
    "duration": 156,
    "start_time": "2022-07-27T17:01:43.633Z"
   },
   {
    "duration": 1277,
    "start_time": "2022-07-27T17:01:43.790Z"
   },
   {
    "duration": 190,
    "start_time": "2022-07-27T17:01:45.068Z"
   },
   {
    "duration": 1701,
    "start_time": "2022-07-27T17:01:45.260Z"
   },
   {
    "duration": 226,
    "start_time": "2022-07-27T17:01:46.963Z"
   },
   {
    "duration": 58,
    "start_time": "2022-07-27T17:01:47.191Z"
   },
   {
    "duration": 63,
    "start_time": "2022-07-27T17:01:47.252Z"
   },
   {
    "duration": 31,
    "start_time": "2022-07-27T17:01:47.318Z"
   },
   {
    "duration": 106,
    "start_time": "2022-07-27T17:01:47.351Z"
   },
   {
    "duration": 5,
    "start_time": "2022-07-27T17:01:47.459Z"
   },
   {
    "duration": 227,
    "start_time": "2022-07-27T17:01:47.465Z"
   },
   {
    "duration": 3,
    "start_time": "2022-07-27T17:01:47.694Z"
   },
   {
    "duration": 58,
    "start_time": "2022-07-27T17:01:47.699Z"
   },
   {
    "duration": 67,
    "start_time": "2022-07-27T17:01:47.759Z"
   },
   {
    "duration": 131,
    "start_time": "2022-07-27T17:01:47.834Z"
   },
   {
    "duration": 5,
    "start_time": "2022-07-27T17:01:47.967Z"
   },
   {
    "duration": 217,
    "start_time": "2022-07-27T17:01:47.974Z"
   },
   {
    "duration": 25,
    "start_time": "2022-07-27T17:01:48.192Z"
   },
   {
    "duration": 44,
    "start_time": "2022-07-27T17:01:48.219Z"
   },
   {
    "duration": 19,
    "start_time": "2022-07-27T17:01:48.264Z"
   },
   {
    "duration": 10,
    "start_time": "2022-07-27T17:01:48.284Z"
   },
   {
    "duration": 50,
    "start_time": "2022-07-27T17:01:48.296Z"
   },
   {
    "duration": 5,
    "start_time": "2022-07-27T17:01:48.347Z"
   },
   {
    "duration": 9,
    "start_time": "2022-07-27T17:01:48.354Z"
   },
   {
    "duration": 8,
    "start_time": "2022-07-27T17:01:48.365Z"
   },
   {
    "duration": 6,
    "start_time": "2022-07-27T17:01:48.375Z"
   },
   {
    "duration": 4,
    "start_time": "2022-07-27T17:01:48.383Z"
   },
   {
    "duration": 1135,
    "start_time": "2022-07-27T17:07:47.718Z"
   },
   {
    "duration": 66,
    "start_time": "2022-07-27T17:07:48.856Z"
   },
   {
    "duration": 341,
    "start_time": "2022-07-27T17:07:48.923Z"
   },
   {
    "duration": 42,
    "start_time": "2022-07-27T17:07:49.265Z"
   },
   {
    "duration": 134,
    "start_time": "2022-07-27T17:07:49.309Z"
   },
   {
    "duration": 31,
    "start_time": "2022-07-27T17:07:49.445Z"
   },
   {
    "duration": 28,
    "start_time": "2022-07-27T17:07:49.478Z"
   },
   {
    "duration": 49,
    "start_time": "2022-07-27T17:07:49.508Z"
   },
   {
    "duration": 35,
    "start_time": "2022-07-27T17:07:49.559Z"
   },
   {
    "duration": 40,
    "start_time": "2022-07-27T17:07:49.596Z"
   },
   {
    "duration": 196,
    "start_time": "2022-07-27T17:07:49.638Z"
   },
   {
    "duration": 103,
    "start_time": "2022-07-27T17:07:49.835Z"
   },
   {
    "duration": 30,
    "start_time": "2022-07-27T17:07:49.940Z"
   },
   {
    "duration": 30,
    "start_time": "2022-07-27T17:07:49.975Z"
   },
   {
    "duration": 239,
    "start_time": "2022-07-27T17:07:50.007Z"
   },
   {
    "duration": 21,
    "start_time": "2022-07-27T17:07:50.248Z"
   },
   {
    "duration": 69,
    "start_time": "2022-07-27T17:07:50.271Z"
   },
   {
    "duration": 92,
    "start_time": "2022-07-27T17:07:50.342Z"
   },
   {
    "duration": 2815,
    "start_time": "2022-07-27T17:07:50.436Z"
   },
   {
    "duration": 225,
    "start_time": "2022-07-27T17:07:53.253Z"
   },
   {
    "duration": 156,
    "start_time": "2022-07-27T17:07:53.480Z"
   },
   {
    "duration": 2216,
    "start_time": "2022-07-27T17:07:53.638Z"
   },
   {
    "duration": 0,
    "start_time": "2022-07-27T17:07:55.855Z"
   },
   {
    "duration": 0,
    "start_time": "2022-07-27T17:07:55.856Z"
   },
   {
    "duration": 0,
    "start_time": "2022-07-27T17:07:55.858Z"
   },
   {
    "duration": 0,
    "start_time": "2022-07-27T17:07:55.859Z"
   },
   {
    "duration": 0,
    "start_time": "2022-07-27T17:07:55.859Z"
   },
   {
    "duration": 0,
    "start_time": "2022-07-27T17:07:55.861Z"
   },
   {
    "duration": 0,
    "start_time": "2022-07-27T17:07:55.862Z"
   },
   {
    "duration": 0,
    "start_time": "2022-07-27T17:07:55.863Z"
   },
   {
    "duration": 0,
    "start_time": "2022-07-27T17:07:55.864Z"
   },
   {
    "duration": 0,
    "start_time": "2022-07-27T17:07:55.865Z"
   },
   {
    "duration": 0,
    "start_time": "2022-07-27T17:07:55.866Z"
   },
   {
    "duration": 0,
    "start_time": "2022-07-27T17:07:55.866Z"
   },
   {
    "duration": 0,
    "start_time": "2022-07-27T17:07:55.867Z"
   },
   {
    "duration": 0,
    "start_time": "2022-07-27T17:07:55.868Z"
   },
   {
    "duration": 0,
    "start_time": "2022-07-27T17:07:55.869Z"
   },
   {
    "duration": 0,
    "start_time": "2022-07-27T17:07:55.870Z"
   },
   {
    "duration": 0,
    "start_time": "2022-07-27T17:07:55.871Z"
   },
   {
    "duration": 0,
    "start_time": "2022-07-27T17:07:55.872Z"
   },
   {
    "duration": 0,
    "start_time": "2022-07-27T17:07:55.873Z"
   },
   {
    "duration": 0,
    "start_time": "2022-07-27T17:07:55.873Z"
   },
   {
    "duration": 0,
    "start_time": "2022-07-27T17:07:55.874Z"
   },
   {
    "duration": 0,
    "start_time": "2022-07-27T17:07:55.875Z"
   },
   {
    "duration": 0,
    "start_time": "2022-07-27T17:07:55.876Z"
   },
   {
    "duration": 0,
    "start_time": "2022-07-27T17:07:55.877Z"
   },
   {
    "duration": 1098,
    "start_time": "2022-07-27T17:08:12.283Z"
   },
   {
    "duration": 64,
    "start_time": "2022-07-27T17:08:13.384Z"
   },
   {
    "duration": 321,
    "start_time": "2022-07-27T17:08:13.453Z"
   },
   {
    "duration": 43,
    "start_time": "2022-07-27T17:08:13.775Z"
   },
   {
    "duration": 116,
    "start_time": "2022-07-27T17:08:13.833Z"
   },
   {
    "duration": 32,
    "start_time": "2022-07-27T17:08:13.951Z"
   },
   {
    "duration": 24,
    "start_time": "2022-07-27T17:08:13.985Z"
   },
   {
    "duration": 39,
    "start_time": "2022-07-27T17:08:14.011Z"
   },
   {
    "duration": 28,
    "start_time": "2022-07-27T17:08:14.053Z"
   },
   {
    "duration": 19,
    "start_time": "2022-07-27T17:08:14.083Z"
   },
   {
    "duration": 214,
    "start_time": "2022-07-27T17:08:14.103Z"
   },
   {
    "duration": 123,
    "start_time": "2022-07-27T17:08:14.319Z"
   },
   {
    "duration": 26,
    "start_time": "2022-07-27T17:08:14.443Z"
   },
   {
    "duration": 22,
    "start_time": "2022-07-27T17:08:14.471Z"
   },
   {
    "duration": 226,
    "start_time": "2022-07-27T17:08:14.495Z"
   },
   {
    "duration": 24,
    "start_time": "2022-07-27T17:08:14.722Z"
   },
   {
    "duration": 48,
    "start_time": "2022-07-27T17:08:14.748Z"
   },
   {
    "duration": 94,
    "start_time": "2022-07-27T17:08:14.798Z"
   },
   {
    "duration": 2503,
    "start_time": "2022-07-27T17:08:14.894Z"
   },
   {
    "duration": 244,
    "start_time": "2022-07-27T17:08:17.399Z"
   },
   {
    "duration": 179,
    "start_time": "2022-07-27T17:08:17.645Z"
   },
   {
    "duration": 1198,
    "start_time": "2022-07-27T17:08:17.825Z"
   },
   {
    "duration": 196,
    "start_time": "2022-07-27T17:08:19.024Z"
   },
   {
    "duration": 1636,
    "start_time": "2022-07-27T17:08:19.222Z"
   },
   {
    "duration": 205,
    "start_time": "2022-07-27T17:08:20.860Z"
   },
   {
    "duration": 50,
    "start_time": "2022-07-27T17:08:21.067Z"
   },
   {
    "duration": 79,
    "start_time": "2022-07-27T17:08:21.120Z"
   },
   {
    "duration": 17,
    "start_time": "2022-07-27T17:08:21.200Z"
   },
   {
    "duration": 118,
    "start_time": "2022-07-27T17:08:21.218Z"
   },
   {
    "duration": 5,
    "start_time": "2022-07-27T17:08:21.337Z"
   },
   {
    "duration": 216,
    "start_time": "2022-07-27T17:08:21.344Z"
   },
   {
    "duration": 1153,
    "start_time": "2022-07-27T17:08:21.561Z"
   },
   {
    "duration": 0,
    "start_time": "2022-07-27T17:08:22.717Z"
   },
   {
    "duration": 0,
    "start_time": "2022-07-27T17:08:22.718Z"
   },
   {
    "duration": 0,
    "start_time": "2022-07-27T17:08:22.719Z"
   },
   {
    "duration": 0,
    "start_time": "2022-07-27T17:08:22.720Z"
   },
   {
    "duration": 0,
    "start_time": "2022-07-27T17:08:22.722Z"
   },
   {
    "duration": 0,
    "start_time": "2022-07-27T17:08:22.723Z"
   },
   {
    "duration": 0,
    "start_time": "2022-07-27T17:08:22.724Z"
   },
   {
    "duration": 0,
    "start_time": "2022-07-27T17:08:22.725Z"
   },
   {
    "duration": 0,
    "start_time": "2022-07-27T17:08:22.726Z"
   },
   {
    "duration": 0,
    "start_time": "2022-07-27T17:08:22.732Z"
   },
   {
    "duration": 0,
    "start_time": "2022-07-27T17:08:22.734Z"
   },
   {
    "duration": 0,
    "start_time": "2022-07-27T17:08:22.735Z"
   },
   {
    "duration": 0,
    "start_time": "2022-07-27T17:08:22.736Z"
   },
   {
    "duration": 0,
    "start_time": "2022-07-27T17:08:22.737Z"
   },
   {
    "duration": 1071,
    "start_time": "2022-07-27T17:13:54.182Z"
   },
   {
    "duration": 65,
    "start_time": "2022-07-27T17:13:55.255Z"
   },
   {
    "duration": 336,
    "start_time": "2022-07-27T17:13:55.321Z"
   },
   {
    "duration": 55,
    "start_time": "2022-07-27T17:13:55.659Z"
   },
   {
    "duration": 136,
    "start_time": "2022-07-27T17:13:55.716Z"
   },
   {
    "duration": 31,
    "start_time": "2022-07-27T17:13:55.854Z"
   },
   {
    "duration": 25,
    "start_time": "2022-07-27T17:13:55.886Z"
   },
   {
    "duration": 44,
    "start_time": "2022-07-27T17:13:55.913Z"
   },
   {
    "duration": 20,
    "start_time": "2022-07-27T17:13:55.959Z"
   },
   {
    "duration": 18,
    "start_time": "2022-07-27T17:13:55.981Z"
   },
   {
    "duration": 216,
    "start_time": "2022-07-27T17:13:56.001Z"
   },
   {
    "duration": 107,
    "start_time": "2022-07-27T17:13:56.220Z"
   },
   {
    "duration": 37,
    "start_time": "2022-07-27T17:13:56.329Z"
   },
   {
    "duration": 21,
    "start_time": "2022-07-27T17:13:56.369Z"
   },
   {
    "duration": 215,
    "start_time": "2022-07-27T17:13:56.392Z"
   },
   {
    "duration": 32,
    "start_time": "2022-07-27T17:13:56.608Z"
   },
   {
    "duration": 54,
    "start_time": "2022-07-27T17:13:56.642Z"
   },
   {
    "duration": 100,
    "start_time": "2022-07-27T17:13:56.698Z"
   },
   {
    "duration": 2680,
    "start_time": "2022-07-27T17:13:56.800Z"
   },
   {
    "duration": 231,
    "start_time": "2022-07-27T17:13:59.481Z"
   },
   {
    "duration": 167,
    "start_time": "2022-07-27T17:13:59.714Z"
   },
   {
    "duration": 1291,
    "start_time": "2022-07-27T17:13:59.883Z"
   },
   {
    "duration": 192,
    "start_time": "2022-07-27T17:14:01.175Z"
   },
   {
    "duration": 1797,
    "start_time": "2022-07-27T17:14:01.369Z"
   },
   {
    "duration": 210,
    "start_time": "2022-07-27T17:14:03.168Z"
   },
   {
    "duration": 42,
    "start_time": "2022-07-27T17:14:03.379Z"
   },
   {
    "duration": 87,
    "start_time": "2022-07-27T17:14:03.423Z"
   },
   {
    "duration": 17,
    "start_time": "2022-07-27T17:14:03.511Z"
   },
   {
    "duration": 104,
    "start_time": "2022-07-27T17:14:03.545Z"
   },
   {
    "duration": 5,
    "start_time": "2022-07-27T17:14:03.651Z"
   },
   {
    "duration": 201,
    "start_time": "2022-07-27T17:14:03.657Z"
   },
   {
    "duration": 4,
    "start_time": "2022-07-27T17:14:03.860Z"
   },
   {
    "duration": 43,
    "start_time": "2022-07-27T17:14:03.866Z"
   },
   {
    "duration": 88,
    "start_time": "2022-07-27T17:14:03.911Z"
   },
   {
    "duration": 146,
    "start_time": "2022-07-27T17:14:04.001Z"
   },
   {
    "duration": 6,
    "start_time": "2022-07-27T17:14:04.149Z"
   },
   {
    "duration": 209,
    "start_time": "2022-07-27T17:14:04.156Z"
   },
   {
    "duration": 24,
    "start_time": "2022-07-27T17:14:04.367Z"
   },
   {
    "duration": 21,
    "start_time": "2022-07-27T17:14:04.393Z"
   },
   {
    "duration": 41,
    "start_time": "2022-07-27T17:14:04.416Z"
   },
   {
    "duration": 11,
    "start_time": "2022-07-27T17:14:04.460Z"
   },
   {
    "duration": 13,
    "start_time": "2022-07-27T17:14:04.473Z"
   },
   {
    "duration": 1467,
    "start_time": "2022-07-27T17:14:04.487Z"
   },
   {
    "duration": 0,
    "start_time": "2022-07-27T17:14:05.956Z"
   },
   {
    "duration": 0,
    "start_time": "2022-07-27T17:14:05.957Z"
   },
   {
    "duration": 0,
    "start_time": "2022-07-27T17:14:05.958Z"
   },
   {
    "duration": 31,
    "start_time": "2022-07-27T17:15:23.101Z"
   },
   {
    "duration": 998,
    "start_time": "2022-07-27T17:15:42.670Z"
   },
   {
    "duration": 8,
    "start_time": "2022-07-27T17:16:03.470Z"
   },
   {
    "duration": 851,
    "start_time": "2022-07-27T17:18:10.648Z"
   },
   {
    "duration": 5,
    "start_time": "2022-07-27T17:18:25.247Z"
   },
   {
    "duration": 26,
    "start_time": "2022-07-27T17:32:10.464Z"
   },
   {
    "duration": 7,
    "start_time": "2022-07-27T17:33:05.265Z"
   },
   {
    "duration": 6,
    "start_time": "2022-07-27T17:33:12.089Z"
   },
   {
    "duration": 8,
    "start_time": "2022-07-27T17:33:17.265Z"
   },
   {
    "duration": 235,
    "start_time": "2022-07-27T17:33:46.043Z"
   },
   {
    "duration": 14,
    "start_time": "2022-07-27T17:34:53.779Z"
   },
   {
    "duration": 17,
    "start_time": "2022-07-27T17:36:06.612Z"
   },
   {
    "duration": 16,
    "start_time": "2022-07-27T17:36:29.164Z"
   },
   {
    "duration": 24,
    "start_time": "2022-07-27T17:36:41.269Z"
   },
   {
    "duration": 32,
    "start_time": "2022-07-27T17:36:46.045Z"
   },
   {
    "duration": 834,
    "start_time": "2022-07-27T17:37:18.406Z"
   },
   {
    "duration": 26,
    "start_time": "2022-07-27T17:37:54.663Z"
   },
   {
    "duration": 916,
    "start_time": "2022-07-27T17:38:02.262Z"
   },
   {
    "duration": 38,
    "start_time": "2022-07-27T17:38:26.021Z"
   },
   {
    "duration": 31,
    "start_time": "2022-07-27T17:38:37.510Z"
   },
   {
    "duration": 30,
    "start_time": "2022-07-27T17:38:43.775Z"
   },
   {
    "duration": 33,
    "start_time": "2022-07-27T17:38:47.303Z"
   },
   {
    "duration": 239,
    "start_time": "2022-07-27T17:39:19.593Z"
   },
   {
    "duration": 215,
    "start_time": "2022-07-27T17:39:35.216Z"
   },
   {
    "duration": 28,
    "start_time": "2022-07-27T17:40:09.432Z"
   },
   {
    "duration": 246,
    "start_time": "2022-07-27T17:40:36.306Z"
   },
   {
    "duration": 22,
    "start_time": "2022-07-27T17:40:50.314Z"
   },
   {
    "duration": 1128,
    "start_time": "2022-07-27T17:40:55.340Z"
   },
   {
    "duration": 65,
    "start_time": "2022-07-27T17:40:56.470Z"
   },
   {
    "duration": 349,
    "start_time": "2022-07-27T17:40:56.536Z"
   },
   {
    "duration": 62,
    "start_time": "2022-07-27T17:40:56.886Z"
   },
   {
    "duration": 113,
    "start_time": "2022-07-27T17:40:56.950Z"
   },
   {
    "duration": 36,
    "start_time": "2022-07-27T17:40:57.066Z"
   },
   {
    "duration": 40,
    "start_time": "2022-07-27T17:40:57.104Z"
   },
   {
    "duration": 26,
    "start_time": "2022-07-27T17:40:57.146Z"
   },
   {
    "duration": 27,
    "start_time": "2022-07-27T17:40:57.173Z"
   },
   {
    "duration": 50,
    "start_time": "2022-07-27T17:40:57.202Z"
   },
   {
    "duration": 200,
    "start_time": "2022-07-27T17:40:57.255Z"
   },
   {
    "duration": 122,
    "start_time": "2022-07-27T17:40:57.457Z"
   },
   {
    "duration": 41,
    "start_time": "2022-07-27T17:40:57.580Z"
   },
   {
    "duration": 28,
    "start_time": "2022-07-27T17:40:57.639Z"
   },
   {
    "duration": 217,
    "start_time": "2022-07-27T17:40:57.669Z"
   },
   {
    "duration": 23,
    "start_time": "2022-07-27T17:40:57.888Z"
   },
   {
    "duration": 73,
    "start_time": "2022-07-27T17:40:57.913Z"
   },
   {
    "duration": 95,
    "start_time": "2022-07-27T17:40:57.988Z"
   },
   {
    "duration": 2719,
    "start_time": "2022-07-27T17:40:58.085Z"
   },
   {
    "duration": 251,
    "start_time": "2022-07-27T17:41:00.806Z"
   },
   {
    "duration": 169,
    "start_time": "2022-07-27T17:41:01.059Z"
   },
   {
    "duration": 1244,
    "start_time": "2022-07-27T17:41:01.229Z"
   },
   {
    "duration": 214,
    "start_time": "2022-07-27T17:41:02.474Z"
   },
   {
    "duration": 1733,
    "start_time": "2022-07-27T17:41:02.689Z"
   },
   {
    "duration": 202,
    "start_time": "2022-07-27T17:41:04.423Z"
   },
   {
    "duration": 60,
    "start_time": "2022-07-27T17:41:04.633Z"
   },
   {
    "duration": 80,
    "start_time": "2022-07-27T17:41:04.695Z"
   },
   {
    "duration": 18,
    "start_time": "2022-07-27T17:41:04.777Z"
   },
   {
    "duration": 115,
    "start_time": "2022-07-27T17:41:04.796Z"
   },
   {
    "duration": 4,
    "start_time": "2022-07-27T17:41:04.912Z"
   },
   {
    "duration": 221,
    "start_time": "2022-07-27T17:41:04.918Z"
   },
   {
    "duration": 4,
    "start_time": "2022-07-27T17:41:05.150Z"
   },
   {
    "duration": 47,
    "start_time": "2022-07-27T17:41:05.156Z"
   },
   {
    "duration": 72,
    "start_time": "2022-07-27T17:41:05.205Z"
   },
   {
    "duration": 128,
    "start_time": "2022-07-27T17:41:05.279Z"
   },
   {
    "duration": 6,
    "start_time": "2022-07-27T17:41:05.409Z"
   },
   {
    "duration": 235,
    "start_time": "2022-07-27T17:41:05.417Z"
   },
   {
    "duration": 238,
    "start_time": "2022-07-27T17:41:05.654Z"
   },
   {
    "duration": 270,
    "start_time": "2022-07-27T17:41:05.894Z"
   },
   {
    "duration": 30,
    "start_time": "2022-07-27T17:41:06.165Z"
   },
   {
    "duration": 58,
    "start_time": "2022-07-27T17:41:06.198Z"
   },
   {
    "duration": 20,
    "start_time": "2022-07-27T17:41:06.258Z"
   },
   {
    "duration": 13,
    "start_time": "2022-07-27T17:41:06.280Z"
   },
   {
    "duration": 12,
    "start_time": "2022-07-27T17:41:06.295Z"
   },
   {
    "duration": 44,
    "start_time": "2022-07-27T17:41:06.309Z"
   },
   {
    "duration": 8,
    "start_time": "2022-07-27T17:41:06.355Z"
   },
   {
    "duration": 10,
    "start_time": "2022-07-27T17:41:06.364Z"
   },
   {
    "duration": 6,
    "start_time": "2022-07-27T17:41:06.375Z"
   },
   {
    "duration": 15,
    "start_time": "2022-07-27T17:42:00.850Z"
   },
   {
    "duration": 1209,
    "start_time": "2022-07-27T17:46:00.149Z"
   },
   {
    "duration": 70,
    "start_time": "2022-07-27T17:46:01.360Z"
   },
   {
    "duration": 341,
    "start_time": "2022-07-27T17:46:01.431Z"
   },
   {
    "duration": 38,
    "start_time": "2022-07-27T17:46:01.774Z"
   },
   {
    "duration": 134,
    "start_time": "2022-07-27T17:46:01.815Z"
   },
   {
    "duration": 31,
    "start_time": "2022-07-27T17:46:01.950Z"
   },
   {
    "duration": 25,
    "start_time": "2022-07-27T17:46:01.982Z"
   },
   {
    "duration": 43,
    "start_time": "2022-07-27T17:46:02.008Z"
   },
   {
    "duration": 23,
    "start_time": "2022-07-27T17:46:02.053Z"
   },
   {
    "duration": 28,
    "start_time": "2022-07-27T17:46:02.078Z"
   },
   {
    "duration": 205,
    "start_time": "2022-07-27T17:46:02.108Z"
   },
   {
    "duration": 98,
    "start_time": "2022-07-27T17:46:02.315Z"
   },
   {
    "duration": 40,
    "start_time": "2022-07-27T17:46:02.415Z"
   },
   {
    "duration": 21,
    "start_time": "2022-07-27T17:46:02.458Z"
   },
   {
    "duration": 232,
    "start_time": "2022-07-27T17:46:02.481Z"
   },
   {
    "duration": 30,
    "start_time": "2022-07-27T17:46:02.716Z"
   },
   {
    "duration": 65,
    "start_time": "2022-07-27T17:46:02.747Z"
   },
   {
    "duration": 97,
    "start_time": "2022-07-27T17:46:02.814Z"
   },
   {
    "duration": 2560,
    "start_time": "2022-07-27T17:46:02.913Z"
   },
   {
    "duration": 216,
    "start_time": "2022-07-27T17:46:05.475Z"
   },
   {
    "duration": 160,
    "start_time": "2022-07-27T17:46:05.692Z"
   },
   {
    "duration": 1213,
    "start_time": "2022-07-27T17:46:05.853Z"
   },
   {
    "duration": 183,
    "start_time": "2022-07-27T17:46:07.068Z"
   },
   {
    "duration": 1603,
    "start_time": "2022-07-27T17:46:07.253Z"
   },
   {
    "duration": 234,
    "start_time": "2022-07-27T17:46:08.858Z"
   },
   {
    "duration": 51,
    "start_time": "2022-07-27T17:46:09.094Z"
   },
   {
    "duration": 64,
    "start_time": "2022-07-27T17:46:09.147Z"
   },
   {
    "duration": 36,
    "start_time": "2022-07-27T17:46:09.213Z"
   },
   {
    "duration": 104,
    "start_time": "2022-07-27T17:46:09.251Z"
   },
   {
    "duration": 4,
    "start_time": "2022-07-27T17:46:09.357Z"
   },
   {
    "duration": 213,
    "start_time": "2022-07-27T17:46:09.363Z"
   },
   {
    "duration": 4,
    "start_time": "2022-07-27T17:46:09.578Z"
   },
   {
    "duration": 62,
    "start_time": "2022-07-27T17:46:09.583Z"
   },
   {
    "duration": 67,
    "start_time": "2022-07-27T17:46:09.647Z"
   },
   {
    "duration": 131,
    "start_time": "2022-07-27T17:46:09.716Z"
   },
   {
    "duration": 6,
    "start_time": "2022-07-27T17:46:09.849Z"
   },
   {
    "duration": 233,
    "start_time": "2022-07-27T17:46:09.857Z"
   },
   {
    "duration": 236,
    "start_time": "2022-07-27T17:46:10.093Z"
   },
   {
    "duration": 207,
    "start_time": "2022-07-27T17:46:10.344Z"
   },
   {
    "duration": 22,
    "start_time": "2022-07-27T17:46:10.553Z"
   },
   {
    "duration": 33,
    "start_time": "2022-07-27T17:46:10.579Z"
   },
   {
    "duration": 46,
    "start_time": "2022-07-27T17:46:10.614Z"
   },
   {
    "duration": 16,
    "start_time": "2022-07-27T17:46:10.662Z"
   },
   {
    "duration": 24,
    "start_time": "2022-07-27T17:46:10.679Z"
   },
   {
    "duration": 17,
    "start_time": "2022-07-27T17:46:10.705Z"
   },
   {
    "duration": 1254,
    "start_time": "2022-07-27T17:46:10.724Z"
   },
   {
    "duration": 0,
    "start_time": "2022-07-27T17:46:11.979Z"
   },
   {
    "duration": 0,
    "start_time": "2022-07-27T17:46:11.981Z"
   },
   {
    "duration": 4,
    "start_time": "2022-07-27T17:46:19.430Z"
   },
   {
    "duration": 5,
    "start_time": "2022-07-27T17:46:34.669Z"
   },
   {
    "duration": 9,
    "start_time": "2022-07-27T17:49:08.610Z"
   },
   {
    "duration": 5,
    "start_time": "2022-07-27T17:56:43.847Z"
   },
   {
    "duration": 6,
    "start_time": "2022-07-27T17:56:55.233Z"
   },
   {
    "duration": 4,
    "start_time": "2022-07-27T18:42:44.299Z"
   },
   {
    "duration": 1083,
    "start_time": "2022-07-27T18:42:49.282Z"
   },
   {
    "duration": 63,
    "start_time": "2022-07-27T18:42:50.367Z"
   },
   {
    "duration": 314,
    "start_time": "2022-07-27T18:42:50.431Z"
   },
   {
    "duration": 38,
    "start_time": "2022-07-27T18:42:50.747Z"
   },
   {
    "duration": 125,
    "start_time": "2022-07-27T18:42:50.788Z"
   },
   {
    "duration": 33,
    "start_time": "2022-07-27T18:42:50.914Z"
   },
   {
    "duration": 25,
    "start_time": "2022-07-27T18:42:50.948Z"
   },
   {
    "duration": 25,
    "start_time": "2022-07-27T18:42:50.975Z"
   },
   {
    "duration": 48,
    "start_time": "2022-07-27T18:42:51.002Z"
   },
   {
    "duration": 26,
    "start_time": "2022-07-27T18:42:51.052Z"
   },
   {
    "duration": 196,
    "start_time": "2022-07-27T18:42:51.079Z"
   },
   {
    "duration": 106,
    "start_time": "2022-07-27T18:42:51.277Z"
   },
   {
    "duration": 28,
    "start_time": "2022-07-27T18:42:51.385Z"
   },
   {
    "duration": 33,
    "start_time": "2022-07-27T18:42:51.416Z"
   },
   {
    "duration": 187,
    "start_time": "2022-07-27T18:42:51.451Z"
   },
   {
    "duration": 20,
    "start_time": "2022-07-27T18:42:51.640Z"
   },
   {
    "duration": 48,
    "start_time": "2022-07-27T18:42:51.662Z"
   },
   {
    "duration": 99,
    "start_time": "2022-07-27T18:42:51.711Z"
   },
   {
    "duration": 2636,
    "start_time": "2022-07-27T18:42:51.811Z"
   },
   {
    "duration": 219,
    "start_time": "2022-07-27T18:42:54.449Z"
   },
   {
    "duration": 145,
    "start_time": "2022-07-27T18:42:54.669Z"
   },
   {
    "duration": 1207,
    "start_time": "2022-07-27T18:42:54.816Z"
   },
   {
    "duration": 179,
    "start_time": "2022-07-27T18:42:56.024Z"
   },
   {
    "duration": 1625,
    "start_time": "2022-07-27T18:42:56.205Z"
   },
   {
    "duration": 199,
    "start_time": "2022-07-27T18:42:57.833Z"
   },
   {
    "duration": 45,
    "start_time": "2022-07-27T18:42:58.033Z"
   },
   {
    "duration": 75,
    "start_time": "2022-07-27T18:42:58.079Z"
   },
   {
    "duration": 16,
    "start_time": "2022-07-27T18:42:58.156Z"
   },
   {
    "duration": 114,
    "start_time": "2022-07-27T18:42:58.173Z"
   },
   {
    "duration": 3,
    "start_time": "2022-07-27T18:42:58.289Z"
   },
   {
    "duration": 210,
    "start_time": "2022-07-27T18:42:58.294Z"
   },
   {
    "duration": 3,
    "start_time": "2022-07-27T18:42:58.506Z"
   },
   {
    "duration": 54,
    "start_time": "2022-07-27T18:42:58.511Z"
   },
   {
    "duration": 69,
    "start_time": "2022-07-27T18:42:58.566Z"
   },
   {
    "duration": 115,
    "start_time": "2022-07-27T18:42:58.637Z"
   },
   {
    "duration": 5,
    "start_time": "2022-07-27T18:42:58.754Z"
   },
   {
    "duration": 218,
    "start_time": "2022-07-27T18:42:58.760Z"
   },
   {
    "duration": 219,
    "start_time": "2022-07-27T18:42:58.980Z"
   },
   {
    "duration": 212,
    "start_time": "2022-07-27T18:42:59.201Z"
   },
   {
    "duration": 28,
    "start_time": "2022-07-27T18:42:59.414Z"
   },
   {
    "duration": 29,
    "start_time": "2022-07-27T18:42:59.446Z"
   },
   {
    "duration": 18,
    "start_time": "2022-07-27T18:42:59.477Z"
   },
   {
    "duration": 10,
    "start_time": "2022-07-27T18:42:59.497Z"
   },
   {
    "duration": 35,
    "start_time": "2022-07-27T18:42:59.508Z"
   },
   {
    "duration": 7,
    "start_time": "2022-07-27T18:42:59.545Z"
   },
   {
    "duration": 4,
    "start_time": "2022-07-27T18:42:59.554Z"
   },
   {
    "duration": 5,
    "start_time": "2022-07-27T18:42:59.560Z"
   },
   {
    "duration": 6,
    "start_time": "2022-07-27T18:42:59.566Z"
   },
   {
    "duration": 5,
    "start_time": "2022-07-27T18:59:06.568Z"
   },
   {
    "duration": 106,
    "start_time": "2022-07-27T18:59:09.040Z"
   },
   {
    "duration": 30,
    "start_time": "2022-07-27T19:01:13.724Z"
   },
   {
    "duration": 41,
    "start_time": "2022-07-27T19:01:23.763Z"
   },
   {
    "duration": 38,
    "start_time": "2022-07-27T19:02:23.764Z"
   },
   {
    "duration": 7,
    "start_time": "2022-07-27T19:02:40.108Z"
   },
   {
    "duration": 7,
    "start_time": "2022-07-27T19:02:48.565Z"
   },
   {
    "duration": 24,
    "start_time": "2022-07-27T19:02:59.605Z"
   },
   {
    "duration": 5,
    "start_time": "2022-07-27T19:05:15.207Z"
   },
   {
    "duration": 36,
    "start_time": "2022-07-27T19:05:18.215Z"
   },
   {
    "duration": 4,
    "start_time": "2022-07-27T19:06:02.000Z"
   },
   {
    "duration": 37,
    "start_time": "2022-07-27T19:06:04.550Z"
   },
   {
    "duration": 20,
    "start_time": "2022-07-27T19:12:15.030Z"
   },
   {
    "duration": 91,
    "start_time": "2022-07-27T19:18:47.517Z"
   },
   {
    "duration": 121,
    "start_time": "2022-07-27T19:19:45.966Z"
   },
   {
    "duration": 126,
    "start_time": "2022-07-27T19:20:34.431Z"
   },
   {
    "duration": 138,
    "start_time": "2022-07-27T19:20:52.634Z"
   },
   {
    "duration": 124,
    "start_time": "2022-07-27T19:21:01.400Z"
   },
   {
    "duration": 122,
    "start_time": "2022-07-27T19:21:05.938Z"
   },
   {
    "duration": 7,
    "start_time": "2022-07-27T19:40:14.892Z"
   },
   {
    "duration": 16,
    "start_time": "2022-07-27T19:40:58.870Z"
   },
   {
    "duration": 20,
    "start_time": "2022-07-27T19:41:03.500Z"
   },
   {
    "duration": 110,
    "start_time": "2022-07-27T19:41:19.787Z"
   },
   {
    "duration": 124,
    "start_time": "2022-07-27T19:42:57.526Z"
   },
   {
    "duration": 125,
    "start_time": "2022-07-27T19:43:17.214Z"
   },
   {
    "duration": 125,
    "start_time": "2022-07-27T19:43:30.798Z"
   },
   {
    "duration": 128,
    "start_time": "2022-07-27T19:43:36.550Z"
   },
   {
    "duration": 1178,
    "start_time": "2022-07-27T19:48:33.517Z"
   },
   {
    "duration": 78,
    "start_time": "2022-07-27T19:48:34.697Z"
   },
   {
    "duration": 392,
    "start_time": "2022-07-27T19:48:34.778Z"
   },
   {
    "duration": 43,
    "start_time": "2022-07-27T19:48:35.171Z"
   },
   {
    "duration": 150,
    "start_time": "2022-07-27T19:48:35.235Z"
   },
   {
    "duration": 31,
    "start_time": "2022-07-27T19:48:35.387Z"
   },
   {
    "duration": 41,
    "start_time": "2022-07-27T19:48:35.420Z"
   },
   {
    "duration": 25,
    "start_time": "2022-07-27T19:48:35.463Z"
   },
   {
    "duration": 26,
    "start_time": "2022-07-27T19:48:35.490Z"
   },
   {
    "duration": 27,
    "start_time": "2022-07-27T19:48:35.533Z"
   },
   {
    "duration": 219,
    "start_time": "2022-07-27T19:48:35.562Z"
   },
   {
    "duration": 110,
    "start_time": "2022-07-27T19:48:35.783Z"
   },
   {
    "duration": 24,
    "start_time": "2022-07-27T19:48:35.894Z"
   },
   {
    "duration": 45,
    "start_time": "2022-07-27T19:48:35.920Z"
   },
   {
    "duration": 226,
    "start_time": "2022-07-27T19:48:35.967Z"
   },
   {
    "duration": 23,
    "start_time": "2022-07-27T19:48:36.195Z"
   },
   {
    "duration": 73,
    "start_time": "2022-07-27T19:48:36.219Z"
   },
   {
    "duration": 97,
    "start_time": "2022-07-27T19:48:36.294Z"
   },
   {
    "duration": 2680,
    "start_time": "2022-07-27T19:48:36.394Z"
   },
   {
    "duration": 223,
    "start_time": "2022-07-27T19:48:39.076Z"
   },
   {
    "duration": 158,
    "start_time": "2022-07-27T19:48:39.301Z"
   },
   {
    "duration": 1231,
    "start_time": "2022-07-27T19:48:39.461Z"
   },
   {
    "duration": 188,
    "start_time": "2022-07-27T19:48:40.694Z"
   },
   {
    "duration": 1698,
    "start_time": "2022-07-27T19:48:40.884Z"
   },
   {
    "duration": 244,
    "start_time": "2022-07-27T19:48:42.584Z"
   },
   {
    "duration": 45,
    "start_time": "2022-07-27T19:48:42.834Z"
   },
   {
    "duration": 79,
    "start_time": "2022-07-27T19:48:42.881Z"
   },
   {
    "duration": 18,
    "start_time": "2022-07-27T19:48:42.963Z"
   },
   {
    "duration": 112,
    "start_time": "2022-07-27T19:48:42.983Z"
   },
   {
    "duration": 4,
    "start_time": "2022-07-27T19:48:43.096Z"
   },
   {
    "duration": 208,
    "start_time": "2022-07-27T19:48:43.101Z"
   },
   {
    "duration": 4,
    "start_time": "2022-07-27T19:48:43.311Z"
   },
   {
    "duration": 55,
    "start_time": "2022-07-27T19:48:43.317Z"
   },
   {
    "duration": 68,
    "start_time": "2022-07-27T19:48:43.373Z"
   },
   {
    "duration": 126,
    "start_time": "2022-07-27T19:48:43.443Z"
   },
   {
    "duration": 6,
    "start_time": "2022-07-27T19:48:43.570Z"
   },
   {
    "duration": 208,
    "start_time": "2022-07-27T19:48:43.577Z"
   },
   {
    "duration": 233,
    "start_time": "2022-07-27T19:48:43.787Z"
   },
   {
    "duration": 219,
    "start_time": "2022-07-27T19:48:44.021Z"
   },
   {
    "duration": 24,
    "start_time": "2022-07-27T19:48:44.242Z"
   },
   {
    "duration": 31,
    "start_time": "2022-07-27T19:48:44.267Z"
   },
   {
    "duration": 48,
    "start_time": "2022-07-27T19:48:44.299Z"
   },
   {
    "duration": 12,
    "start_time": "2022-07-27T19:48:44.349Z"
   },
   {
    "duration": 12,
    "start_time": "2022-07-27T19:48:44.362Z"
   },
   {
    "duration": 8,
    "start_time": "2022-07-27T19:48:44.376Z"
   },
   {
    "duration": 15,
    "start_time": "2022-07-27T19:48:44.386Z"
   },
   {
    "duration": 13,
    "start_time": "2022-07-27T19:48:44.402Z"
   },
   {
    "duration": 17,
    "start_time": "2022-07-27T19:48:44.417Z"
   },
   {
    "duration": 24,
    "start_time": "2022-07-27T19:48:44.436Z"
   },
   {
    "duration": 139,
    "start_time": "2022-07-27T19:48:44.462Z"
   },
   {
    "duration": 212,
    "start_time": "2022-07-27T19:48:44.603Z"
   },
   {
    "duration": 1249,
    "start_time": "2022-07-28T19:25:34.890Z"
   },
   {
    "duration": 105,
    "start_time": "2022-07-28T19:25:36.143Z"
   },
   {
    "duration": 609,
    "start_time": "2022-07-28T19:25:36.249Z"
   },
   {
    "duration": 38,
    "start_time": "2022-07-28T19:25:36.860Z"
   },
   {
    "duration": 121,
    "start_time": "2022-07-28T19:25:36.900Z"
   },
   {
    "duration": 63,
    "start_time": "2022-07-28T19:25:37.023Z"
   },
   {
    "duration": 24,
    "start_time": "2022-07-28T19:25:37.088Z"
   },
   {
    "duration": 25,
    "start_time": "2022-07-28T19:25:37.113Z"
   },
   {
    "duration": 21,
    "start_time": "2022-07-28T19:25:37.139Z"
   },
   {
    "duration": 25,
    "start_time": "2022-07-28T19:25:37.162Z"
   },
   {
    "duration": 190,
    "start_time": "2022-07-28T19:25:37.189Z"
   },
   {
    "duration": 98,
    "start_time": "2022-07-28T19:25:37.380Z"
   },
   {
    "duration": 23,
    "start_time": "2022-07-28T19:25:37.480Z"
   },
   {
    "duration": 35,
    "start_time": "2022-07-28T19:25:37.505Z"
   },
   {
    "duration": 192,
    "start_time": "2022-07-28T19:25:37.541Z"
   },
   {
    "duration": 22,
    "start_time": "2022-07-28T19:25:37.734Z"
   },
   {
    "duration": 49,
    "start_time": "2022-07-28T19:25:37.757Z"
   },
   {
    "duration": 98,
    "start_time": "2022-07-28T19:25:37.807Z"
   },
   {
    "duration": 2508,
    "start_time": "2022-07-28T19:25:37.907Z"
   },
   {
    "duration": 218,
    "start_time": "2022-07-28T19:25:40.417Z"
   },
   {
    "duration": 149,
    "start_time": "2022-07-28T19:25:40.637Z"
   },
   {
    "duration": 1221,
    "start_time": "2022-07-28T19:25:40.787Z"
   },
   {
    "duration": 183,
    "start_time": "2022-07-28T19:25:42.009Z"
   },
   {
    "duration": 1614,
    "start_time": "2022-07-28T19:25:42.194Z"
   },
   {
    "duration": 213,
    "start_time": "2022-07-28T19:25:43.810Z"
   },
   {
    "duration": 48,
    "start_time": "2022-07-28T19:25:44.024Z"
   },
   {
    "duration": 66,
    "start_time": "2022-07-28T19:25:44.074Z"
   },
   {
    "duration": 17,
    "start_time": "2022-07-28T19:25:44.143Z"
   },
   {
    "duration": 110,
    "start_time": "2022-07-28T19:25:44.161Z"
   },
   {
    "duration": 5,
    "start_time": "2022-07-28T19:25:44.272Z"
   },
   {
    "duration": 207,
    "start_time": "2022-07-28T19:25:44.279Z"
   },
   {
    "duration": 5,
    "start_time": "2022-07-28T19:25:44.488Z"
   },
   {
    "duration": 59,
    "start_time": "2022-07-28T19:25:44.495Z"
   },
   {
    "duration": 65,
    "start_time": "2022-07-28T19:25:44.555Z"
   },
   {
    "duration": 117,
    "start_time": "2022-07-28T19:25:44.633Z"
   },
   {
    "duration": 6,
    "start_time": "2022-07-28T19:25:44.751Z"
   },
   {
    "duration": 202,
    "start_time": "2022-07-28T19:25:44.758Z"
   },
   {
    "duration": 223,
    "start_time": "2022-07-28T19:25:44.962Z"
   },
   {
    "duration": 211,
    "start_time": "2022-07-28T19:25:45.186Z"
   },
   {
    "duration": 24,
    "start_time": "2022-07-28T19:25:45.399Z"
   },
   {
    "duration": 32,
    "start_time": "2022-07-28T19:25:45.434Z"
   },
   {
    "duration": 18,
    "start_time": "2022-07-28T19:25:45.468Z"
   },
   {
    "duration": 10,
    "start_time": "2022-07-28T19:25:45.488Z"
   },
   {
    "duration": 37,
    "start_time": "2022-07-28T19:25:45.500Z"
   },
   {
    "duration": 8,
    "start_time": "2022-07-28T19:25:45.539Z"
   },
   {
    "duration": 9,
    "start_time": "2022-07-28T19:25:45.549Z"
   },
   {
    "duration": 15,
    "start_time": "2022-07-28T19:25:45.560Z"
   },
   {
    "duration": 16,
    "start_time": "2022-07-28T19:25:45.576Z"
   },
   {
    "duration": 30,
    "start_time": "2022-07-28T19:25:45.594Z"
   },
   {
    "duration": 139,
    "start_time": "2022-07-28T19:25:45.626Z"
   },
   {
    "duration": 210,
    "start_time": "2022-07-28T19:25:45.766Z"
   },
   {
    "duration": 77,
    "start_time": "2022-07-28T19:26:02.285Z"
   },
   {
    "duration": 45,
    "start_time": "2022-07-28T19:56:21.640Z"
   },
   {
    "duration": 1297,
    "start_time": "2022-07-28T19:56:29.804Z"
   },
   {
    "duration": 104,
    "start_time": "2022-07-28T19:56:31.103Z"
   },
   {
    "duration": 609,
    "start_time": "2022-07-28T19:56:31.210Z"
   },
   {
    "duration": 47,
    "start_time": "2022-07-28T19:56:31.821Z"
   },
   {
    "duration": 115,
    "start_time": "2022-07-28T19:56:31.870Z"
   },
   {
    "duration": 62,
    "start_time": "2022-07-28T19:56:31.987Z"
   },
   {
    "duration": 26,
    "start_time": "2022-07-28T19:56:32.051Z"
   },
   {
    "duration": 25,
    "start_time": "2022-07-28T19:56:32.078Z"
   },
   {
    "duration": 43,
    "start_time": "2022-07-28T19:56:32.104Z"
   },
   {
    "duration": 24,
    "start_time": "2022-07-28T19:56:32.149Z"
   },
   {
    "duration": 209,
    "start_time": "2022-07-28T19:56:32.174Z"
   },
   {
    "duration": 93,
    "start_time": "2022-07-28T19:56:32.385Z"
   },
   {
    "duration": 25,
    "start_time": "2022-07-28T19:56:32.480Z"
   },
   {
    "duration": 35,
    "start_time": "2022-07-28T19:56:32.507Z"
   },
   {
    "duration": 195,
    "start_time": "2022-07-28T19:56:32.543Z"
   },
   {
    "duration": 22,
    "start_time": "2022-07-28T19:56:32.741Z"
   },
   {
    "duration": 48,
    "start_time": "2022-07-28T19:56:32.765Z"
   },
   {
    "duration": 99,
    "start_time": "2022-07-28T19:56:32.815Z"
   },
   {
    "duration": 2598,
    "start_time": "2022-07-28T19:56:32.916Z"
   },
   {
    "duration": 223,
    "start_time": "2022-07-28T19:56:35.516Z"
   },
   {
    "duration": 147,
    "start_time": "2022-07-28T19:56:35.742Z"
   },
   {
    "duration": 1250,
    "start_time": "2022-07-28T19:56:35.891Z"
   },
   {
    "duration": 176,
    "start_time": "2022-07-28T19:56:37.143Z"
   },
   {
    "duration": 1704,
    "start_time": "2022-07-28T19:56:37.321Z"
   },
   {
    "duration": 252,
    "start_time": "2022-07-28T19:56:39.027Z"
   },
   {
    "duration": 40,
    "start_time": "2022-07-28T19:56:39.281Z"
   },
   {
    "duration": 70,
    "start_time": "2022-07-28T19:56:39.322Z"
   },
   {
    "duration": 17,
    "start_time": "2022-07-28T19:56:39.393Z"
   },
   {
    "duration": 114,
    "start_time": "2022-07-28T19:56:39.412Z"
   },
   {
    "duration": 11,
    "start_time": "2022-07-28T19:56:39.528Z"
   },
   {
    "duration": 212,
    "start_time": "2022-07-28T19:56:39.541Z"
   },
   {
    "duration": 4,
    "start_time": "2022-07-28T19:56:39.755Z"
   },
   {
    "duration": 39,
    "start_time": "2022-07-28T19:56:39.761Z"
   },
   {
    "duration": 81,
    "start_time": "2022-07-28T19:56:39.802Z"
   },
   {
    "duration": 121,
    "start_time": "2022-07-28T19:56:39.885Z"
   },
   {
    "duration": 6,
    "start_time": "2022-07-28T19:56:40.009Z"
   },
   {
    "duration": 208,
    "start_time": "2022-07-28T19:56:40.016Z"
   },
   {
    "duration": 232,
    "start_time": "2022-07-28T19:56:40.225Z"
   },
   {
    "duration": 211,
    "start_time": "2022-07-28T19:56:40.459Z"
   },
   {
    "duration": 23,
    "start_time": "2022-07-28T19:56:40.675Z"
   },
   {
    "duration": 48,
    "start_time": "2022-07-28T19:56:40.700Z"
   },
   {
    "duration": 19,
    "start_time": "2022-07-28T19:56:40.750Z"
   },
   {
    "duration": 11,
    "start_time": "2022-07-28T19:56:40.770Z"
   },
   {
    "duration": 13,
    "start_time": "2022-07-28T19:56:40.782Z"
   },
   {
    "duration": 18,
    "start_time": "2022-07-28T19:56:40.796Z"
   },
   {
    "duration": 24,
    "start_time": "2022-07-28T19:56:40.816Z"
   },
   {
    "duration": 13,
    "start_time": "2022-07-28T19:56:40.841Z"
   },
   {
    "duration": 17,
    "start_time": "2022-07-28T19:56:40.855Z"
   },
   {
    "duration": 37,
    "start_time": "2022-07-28T19:56:40.873Z"
   },
   {
    "duration": 114,
    "start_time": "2022-07-28T19:56:40.911Z"
   },
   {
    "duration": 192,
    "start_time": "2022-07-28T19:56:41.027Z"
   },
   {
    "duration": 121,
    "start_time": "2022-07-28T19:56:54.141Z"
   },
   {
    "duration": 1130,
    "start_time": "2022-07-28T20:28:35.560Z"
   },
   {
    "duration": 66,
    "start_time": "2022-07-28T20:28:36.692Z"
   },
   {
    "duration": 322,
    "start_time": "2022-07-28T20:28:36.759Z"
   },
   {
    "duration": 38,
    "start_time": "2022-07-28T20:28:37.082Z"
   },
   {
    "duration": 149,
    "start_time": "2022-07-28T20:28:37.135Z"
   },
   {
    "duration": 34,
    "start_time": "2022-07-28T20:28:37.285Z"
   },
   {
    "duration": 35,
    "start_time": "2022-07-28T20:28:37.321Z"
   },
   {
    "duration": 24,
    "start_time": "2022-07-28T20:28:37.358Z"
   },
   {
    "duration": 22,
    "start_time": "2022-07-28T20:28:37.383Z"
   },
   {
    "duration": 48,
    "start_time": "2022-07-28T20:28:37.408Z"
   },
   {
    "duration": 188,
    "start_time": "2022-07-28T20:28:37.458Z"
   },
   {
    "duration": 101,
    "start_time": "2022-07-28T20:28:37.648Z"
   },
   {
    "duration": 25,
    "start_time": "2022-07-28T20:28:37.750Z"
   },
   {
    "duration": 22,
    "start_time": "2022-07-28T20:28:37.777Z"
   },
   {
    "duration": 208,
    "start_time": "2022-07-28T20:28:37.801Z"
   },
   {
    "duration": 31,
    "start_time": "2022-07-28T20:28:38.010Z"
   },
   {
    "duration": 53,
    "start_time": "2022-07-28T20:28:38.043Z"
   },
   {
    "duration": 97,
    "start_time": "2022-07-28T20:28:38.098Z"
   },
   {
    "duration": 2486,
    "start_time": "2022-07-28T20:28:38.196Z"
   },
   {
    "duration": 213,
    "start_time": "2022-07-28T20:28:40.684Z"
   },
   {
    "duration": 156,
    "start_time": "2022-07-28T20:28:40.899Z"
   },
   {
    "duration": 1194,
    "start_time": "2022-07-28T20:28:41.057Z"
   },
   {
    "duration": 183,
    "start_time": "2022-07-28T20:28:42.252Z"
   },
   {
    "duration": 1609,
    "start_time": "2022-07-28T20:28:42.437Z"
   },
   {
    "duration": 214,
    "start_time": "2022-07-28T20:28:44.047Z"
   },
   {
    "duration": 48,
    "start_time": "2022-07-28T20:28:44.263Z"
   },
   {
    "duration": 75,
    "start_time": "2022-07-28T20:28:44.313Z"
   },
   {
    "duration": 16,
    "start_time": "2022-07-28T20:28:44.391Z"
   },
   {
    "duration": 108,
    "start_time": "2022-07-28T20:28:44.409Z"
   },
   {
    "duration": 15,
    "start_time": "2022-07-28T20:28:44.518Z"
   },
   {
    "duration": 201,
    "start_time": "2022-07-28T20:28:44.535Z"
   },
   {
    "duration": 4,
    "start_time": "2022-07-28T20:28:44.737Z"
   },
   {
    "duration": 44,
    "start_time": "2022-07-28T20:28:44.742Z"
   },
   {
    "duration": 89,
    "start_time": "2022-07-28T20:28:44.788Z"
   },
   {
    "duration": 133,
    "start_time": "2022-07-28T20:28:44.880Z"
   },
   {
    "duration": 5,
    "start_time": "2022-07-28T20:28:45.015Z"
   },
   {
    "duration": 218,
    "start_time": "2022-07-28T20:28:45.022Z"
   },
   {
    "duration": 229,
    "start_time": "2022-07-28T20:28:45.242Z"
   },
   {
    "duration": 212,
    "start_time": "2022-07-28T20:28:45.472Z"
   },
   {
    "duration": 32,
    "start_time": "2022-07-28T20:28:45.686Z"
   },
   {
    "duration": 39,
    "start_time": "2022-07-28T20:28:45.733Z"
   },
   {
    "duration": 20,
    "start_time": "2022-07-28T20:28:45.774Z"
   },
   {
    "duration": 12,
    "start_time": "2022-07-28T20:28:45.796Z"
   },
   {
    "duration": 13,
    "start_time": "2022-07-28T20:28:45.834Z"
   },
   {
    "duration": 11,
    "start_time": "2022-07-28T20:28:45.849Z"
   },
   {
    "duration": 6,
    "start_time": "2022-07-28T20:28:45.862Z"
   },
   {
    "duration": 9,
    "start_time": "2022-07-28T20:28:45.869Z"
   },
   {
    "duration": 6,
    "start_time": "2022-07-28T20:28:45.879Z"
   },
   {
    "duration": 50,
    "start_time": "2022-07-28T20:28:45.887Z"
   },
   {
    "duration": 132,
    "start_time": "2022-07-28T20:28:45.939Z"
   },
   {
    "duration": 144,
    "start_time": "2022-07-28T20:28:46.072Z"
   }
  ],
  "kernelspec": {
   "display_name": "Python 3 (ipykernel)",
   "language": "python",
   "name": "python3"
  },
  "language_info": {
   "codemirror_mode": {
    "name": "ipython",
    "version": 3
   },
   "file_extension": ".py",
   "mimetype": "text/x-python",
   "name": "python",
   "nbconvert_exporter": "python",
   "pygments_lexer": "ipython3",
   "version": "3.9.5"
  },
  "toc": {
   "base_numbering": 1,
   "nav_menu": {},
   "number_sections": true,
   "sideBar": true,
   "skip_h1_title": true,
   "title_cell": "Table of Contents",
   "title_sidebar": "Contents",
   "toc_cell": false,
   "toc_position": {},
   "toc_section_display": true,
   "toc_window_display": true
  }
 },
 "nbformat": 4,
 "nbformat_minor": 5
}