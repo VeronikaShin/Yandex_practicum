{
 "cells": [
  {
   "cell_type": "markdown",
   "id": "b3db3bad",
   "metadata": {},
   "source": [
    "### Задание № 1\n",
    "Посчитайте, сколько книг вышло после 1 января 2000 года"
   ]
  },
  {
   "cell_type": "code",
   "execution_count": null,
   "id": "dda1ca11",
   "metadata": {
    "pycharm": {
     "is_executing": true
    }
   },
   "outputs": [],
   "source": [
    "query = '''\n",
    "select count(book_id)\n",
    "from books\n",
    "where publication_date::date > '2000-01-01'\n",
    "\n",
    "'''\n",
    "\n",
    "pd.io.sql.read_sql(query, con = engine)"
   ]
  },
  {
   "cell_type": "markdown",
   "id": "679c1f36",
   "metadata": {},
   "source": [
    "### Задание № 2\n",
    "Для каждой книги посчитайте количество обзоров и среднюю оценку"
   ]
  },
  {
   "cell_type": "code",
   "execution_count": null,
   "id": "964c9a9d",
   "metadata": {},
   "outputs": [],
   "source": [
    "query = '''\n",
    "with reviews as\n",
    "(\n",
    "select count(review_id) as re_cnt, book_id\n",
    "from reviews \n",
    "group by book_id), \n",
    "\n",
    "rating as \n",
    "(\n",
    "select avg(rating), book_id\n",
    "from ratings\n",
    "group by book_id)\n",
    "\n",
    "select ra.book_id, avg, re_cnt\n",
    "from rating as ra\n",
    "left join reviews as re on ra.book_id = re.book_id \n",
    "'''\n",
    "\n",
    "pd.io.sql.read_sql(query, con = engine)"
   ]
  },
  {
   "cell_type": "markdown",
   "id": "a20b275f",
   "metadata": {},
   "source": [
    "### Задание № 3\n",
    "Определите издательство, которое выпустило наибольшее число книг толще 50 страниц — так вы исключите из анализа брошюры;"
   ]
  },
  {
   "cell_type": "code",
   "execution_count": null,
   "id": "054f9b22",
   "metadata": {},
   "outputs": [],
   "source": [
    "query = '''\n",
    "select p.publisher, count(distinct b.book_id)\n",
    "from books as b\n",
    "join publishers as p on p.publisher_id = b.publisher_id\n",
    "where num_pages > 50\n",
    "group by p.publisher\n",
    "order by count(distinct b.book_id) desc\n",
    "limit 1\n",
    "\n",
    "'''\n",
    "\n",
    "pd.io.sql.read_sql(query, con = engine)"
   ]
  },
  {
   "cell_type": "markdown",
   "id": "67e68fa6",
   "metadata": {},
   "source": [
    "### Задание № 4\n",
    "\n",
    "Определите автора с самой высокой средней оценкой книг — учитывайте только книги с 50 и более оценками;"
   ]
  },
  {
   "cell_type": "code",
   "execution_count": null,
   "id": "6825f65c",
   "metadata": {},
   "outputs": [],
   "source": [
    "query = '''\n",
    "/*находим книги с более 50 оценками (book_id), присоединяем авторов к таблице (authors)/\n",
    ", делим сумму всех оценок на количество оценок, чтобы узнать avg*/\n",
    "\n",
    "with books_id as \n",
    "(\n",
    "select book_id,\n",
    "       count(rating_id) as cnt_rating\n",
    "       , sum(rating) as sum_rating\n",
    "from ratings\n",
    "group by book_id\n",
    "having count(rating_id)>50\n",
    "),\n",
    "\n",
    "authors as\n",
    "(\n",
    "select books_id.book_id, books_id.cnt_rating, a.author, sum_rating\n",
    "from books_id\n",
    "join books as b on books_id.book_id = b.book_id\n",
    "join authors as a on a.author_id = b.author_id)\n",
    "\n",
    "select author, sum(sum_rating)/sum(cnt_rating) as avg_rating\n",
    "from authors\n",
    "group by author\n",
    "order by avg_rating desc\n",
    "'''\n",
    "\n",
    "pd.io.sql.read_sql(query, con = engine)"
   ]
  },
  {
   "cell_type": "markdown",
   "id": "d0f46cf9",
   "metadata": {},
   "source": [
    "### Задача № 5\n",
    "Посчитайте среднее количество обзоров от пользователей, которые поставили больше 50 оценок."
   ]
  },
  {
   "cell_type": "code",
   "execution_count": null,
   "id": "30e1b965",
   "metadata": {
    "pycharm": {
     "name": "#%%\n"
    }
   },
   "outputs": [],
   "source": [
    "\n",
    "query = '''\n",
    "/*делаем 2 СТЕ. 1 находим айди пользователей (больше 50 оценок). 2 считаем количество обзоров по каждому пользователю*/ \n",
    "\n",
    "with username as\n",
    "(select distinct username\n",
    "from ratings\n",
    "group by username\n",
    "having count(username) > 50), \n",
    "\n",
    "cnt_rating as \n",
    "(select  count(reviews.review_id), reviews.username\n",
    "from reviews\n",
    "join username on username.username = reviews.username\n",
    "group by reviews.username)\n",
    "\n",
    "select avg(count)\n",
    "from cnt_rating\n",
    "'''\n",
    "\n",
    "pd.io.sql.read_sql(query, con = engine)"
   ]
  }
 ],
 "metadata": {
  "ExecuteTimeLog": [
   {
    "duration": 12622,
    "start_time": "2022-07-31T14:10:15.892Z"
   },
   {
    "duration": 61,
    "start_time": "2022-07-31T14:10:28.515Z"
   },
   {
    "duration": 0,
    "start_time": "2022-07-31T14:10:28.578Z"
   },
   {
    "duration": 0,
    "start_time": "2022-07-31T14:10:28.579Z"
   },
   {
    "duration": 0,
    "start_time": "2022-07-31T14:10:28.580Z"
   },
   {
    "duration": 0,
    "start_time": "2022-07-31T14:10:28.581Z"
   },
   {
    "duration": 0,
    "start_time": "2022-07-31T14:10:28.582Z"
   },
   {
    "duration": 0,
    "start_time": "2022-07-31T14:10:28.582Z"
   },
   {
    "duration": 0,
    "start_time": "2022-07-31T14:10:28.583Z"
   },
   {
    "duration": 0,
    "start_time": "2022-07-31T14:10:28.585Z"
   },
   {
    "duration": 0,
    "start_time": "2022-07-31T14:10:28.585Z"
   },
   {
    "duration": 12086,
    "start_time": "2022-07-31T14:10:44.547Z"
   },
   {
    "duration": 84,
    "start_time": "2022-07-31T14:10:56.635Z"
   },
   {
    "duration": 8,
    "start_time": "2022-07-31T14:10:56.721Z"
   },
   {
    "duration": 9,
    "start_time": "2022-07-31T14:10:56.731Z"
   },
   {
    "duration": 11,
    "start_time": "2022-07-31T14:10:56.741Z"
   },
   {
    "duration": 9,
    "start_time": "2022-07-31T14:10:56.753Z"
   },
   {
    "duration": 8,
    "start_time": "2022-07-31T14:10:56.763Z"
   },
   {
    "duration": 21,
    "start_time": "2022-07-31T14:10:56.772Z"
   },
   {
    "duration": 10,
    "start_time": "2022-07-31T14:10:56.795Z"
   },
   {
    "duration": 11,
    "start_time": "2022-07-31T14:10:56.807Z"
   },
   {
    "duration": 14,
    "start_time": "2022-07-31T14:10:56.819Z"
   },
   {
    "duration": 14,
    "start_time": "2022-07-31T14:11:33.127Z"
   },
   {
    "duration": 61,
    "start_time": "2022-07-31T16:48:11.490Z"
   },
   {
    "duration": 6606,
    "start_time": "2022-07-31T16:48:18.877Z"
   },
   {
    "duration": 250,
    "start_time": "2022-07-31T16:48:25.484Z"
   },
   {
    "duration": 71,
    "start_time": "2022-07-31T16:48:25.736Z"
   },
   {
    "duration": 74,
    "start_time": "2022-07-31T16:48:25.809Z"
   },
   {
    "duration": 75,
    "start_time": "2022-07-31T16:48:25.885Z"
   },
   {
    "duration": 69,
    "start_time": "2022-07-31T16:48:25.962Z"
   },
   {
    "duration": 80,
    "start_time": "2022-07-31T16:48:26.032Z"
   },
   {
    "duration": 100,
    "start_time": "2022-07-31T16:48:26.113Z"
   },
   {
    "duration": 75,
    "start_time": "2022-07-31T16:48:26.217Z"
   },
   {
    "duration": 83,
    "start_time": "2022-07-31T16:48:26.293Z"
   },
   {
    "duration": 80,
    "start_time": "2022-07-31T16:48:26.378Z"
   },
   {
    "duration": 99,
    "start_time": "2022-07-31T16:50:29.903Z"
   },
   {
    "duration": 102,
    "start_time": "2022-07-31T16:50:52.863Z"
   },
   {
    "duration": 96,
    "start_time": "2022-07-31T16:53:42.970Z"
   },
   {
    "duration": 112,
    "start_time": "2022-07-31T16:54:33.899Z"
   },
   {
    "duration": 204,
    "start_time": "2022-07-31T16:55:21.716Z"
   },
   {
    "duration": 67,
    "start_time": "2022-07-31T16:55:31.700Z"
   },
   {
    "duration": 93,
    "start_time": "2022-07-31T16:56:54.013Z"
   },
   {
    "duration": 66,
    "start_time": "2022-07-31T16:57:14.886Z"
   },
   {
    "duration": 118,
    "start_time": "2022-07-31T16:57:33.814Z"
   },
   {
    "duration": 87,
    "start_time": "2022-07-31T16:58:09.055Z"
   },
   {
    "duration": 90,
    "start_time": "2022-07-31T16:58:31.671Z"
   },
   {
    "duration": 130,
    "start_time": "2022-07-31T17:04:26.532Z"
   },
   {
    "duration": 73,
    "start_time": "2022-07-31T17:05:35.199Z"
   },
   {
    "duration": 143,
    "start_time": "2022-07-31T17:06:22.528Z"
   },
   {
    "duration": 68,
    "start_time": "2022-07-31T17:06:53.257Z"
   },
   {
    "duration": 168,
    "start_time": "2022-07-31T17:08:21.841Z"
   },
   {
    "duration": 82,
    "start_time": "2022-07-31T17:08:36.258Z"
   },
   {
    "duration": 68,
    "start_time": "2022-07-31T17:09:00.179Z"
   },
   {
    "duration": 83,
    "start_time": "2022-07-31T17:09:08.162Z"
   },
   {
    "duration": 137,
    "start_time": "2022-07-31T17:09:47.068Z"
   },
   {
    "duration": 68,
    "start_time": "2022-07-31T17:10:09.980Z"
   },
   {
    "duration": 82,
    "start_time": "2022-07-31T17:10:36.917Z"
   },
   {
    "duration": 138,
    "start_time": "2022-07-31T17:11:31.453Z"
   },
   {
    "duration": 121,
    "start_time": "2022-07-31T17:11:55.590Z"
   },
   {
    "duration": 125,
    "start_time": "2022-07-31T17:12:07.766Z"
   },
   {
    "duration": 135,
    "start_time": "2022-07-31T17:12:51.279Z"
   },
   {
    "duration": 77,
    "start_time": "2022-07-31T17:13:20.584Z"
   },
   {
    "duration": 70,
    "start_time": "2022-07-31T17:13:32.359Z"
   },
   {
    "duration": 76,
    "start_time": "2022-07-31T17:14:48.697Z"
   },
   {
    "duration": 82,
    "start_time": "2022-07-31T17:15:04.880Z"
   },
   {
    "duration": 79,
    "start_time": "2022-07-31T17:16:39.298Z"
   },
   {
    "duration": 129,
    "start_time": "2022-07-31T17:18:39.123Z"
   },
   {
    "duration": 203,
    "start_time": "2022-07-31T17:19:38.413Z"
   },
   {
    "duration": 148,
    "start_time": "2022-07-31T17:21:27.672Z"
   },
   {
    "duration": 146,
    "start_time": "2022-07-31T17:21:38.375Z"
   },
   {
    "duration": 143,
    "start_time": "2022-07-31T17:22:06.960Z"
   },
   {
    "duration": 103,
    "start_time": "2022-07-31T17:22:09.992Z"
   },
   {
    "duration": 157,
    "start_time": "2022-07-31T17:22:48.760Z"
   },
   {
    "duration": 107,
    "start_time": "2022-07-31T17:23:34.282Z"
   },
   {
    "duration": 165,
    "start_time": "2022-07-31T17:23:55.283Z"
   },
   {
    "duration": 82,
    "start_time": "2022-07-31T17:24:14.587Z"
   },
   {
    "duration": 168,
    "start_time": "2022-07-31T17:26:35.318Z"
   },
   {
    "duration": 183,
    "start_time": "2022-07-31T17:26:41.644Z"
   },
   {
    "duration": 90,
    "start_time": "2022-07-31T17:26:51.166Z"
   },
   {
    "duration": 94,
    "start_time": "2022-07-31T17:28:28.205Z"
   },
   {
    "duration": 92,
    "start_time": "2022-07-31T17:28:39.895Z"
   },
   {
    "duration": 82,
    "start_time": "2022-07-31T17:29:04.358Z"
   },
   {
    "duration": 86,
    "start_time": "2022-07-31T17:29:54.817Z"
   },
   {
    "duration": 146,
    "start_time": "2022-07-31T17:30:53.162Z"
   },
   {
    "duration": 173,
    "start_time": "2022-07-31T17:30:59.066Z"
   },
   {
    "duration": 94,
    "start_time": "2022-07-31T17:31:15.170Z"
   },
   {
    "duration": 175,
    "start_time": "2022-07-31T17:31:44.331Z"
   },
   {
    "duration": 141,
    "start_time": "2022-07-31T17:31:51.962Z"
   },
   {
    "duration": 80,
    "start_time": "2022-07-31T17:31:58.360Z"
   },
   {
    "duration": 94,
    "start_time": "2022-07-31T17:32:18.715Z"
   },
   {
    "duration": 204,
    "start_time": "2022-07-31T17:33:24.788Z"
   },
   {
    "duration": 103,
    "start_time": "2022-07-31T17:33:33.965Z"
   },
   {
    "duration": 110,
    "start_time": "2022-07-31T17:34:26.562Z"
   },
   {
    "duration": 82,
    "start_time": "2022-07-31T17:39:33.045Z"
   },
   {
    "duration": 163,
    "start_time": "2022-07-31T17:42:06.693Z"
   },
   {
    "duration": 145,
    "start_time": "2022-07-31T17:42:29.370Z"
   },
   {
    "duration": 93,
    "start_time": "2022-07-31T17:42:38.623Z"
   },
   {
    "duration": 72,
    "start_time": "2022-07-31T17:42:55.759Z"
   },
   {
    "duration": 81,
    "start_time": "2022-07-31T17:43:29.760Z"
   },
   {
    "duration": 95,
    "start_time": "2022-07-31T17:44:12.392Z"
   },
   {
    "duration": 360,
    "start_time": "2022-07-31T17:44:17.769Z"
   },
   {
    "duration": 89,
    "start_time": "2022-07-31T17:46:17.226Z"
   },
   {
    "duration": 7718,
    "start_time": "2022-07-31T17:47:10.560Z"
   },
   {
    "duration": 315,
    "start_time": "2022-07-31T17:47:18.280Z"
   },
   {
    "duration": 93,
    "start_time": "2022-07-31T17:47:18.597Z"
   },
   {
    "duration": 92,
    "start_time": "2022-07-31T17:47:18.691Z"
   },
   {
    "duration": 83,
    "start_time": "2022-07-31T17:47:18.786Z"
   },
   {
    "duration": 93,
    "start_time": "2022-07-31T17:47:18.871Z"
   },
   {
    "duration": 96,
    "start_time": "2022-07-31T17:47:18.966Z"
   },
   {
    "duration": 111,
    "start_time": "2022-07-31T17:47:19.064Z"
   },
   {
    "duration": 83,
    "start_time": "2022-07-31T17:47:19.177Z"
   },
   {
    "duration": 97,
    "start_time": "2022-07-31T17:47:19.262Z"
   },
   {
    "duration": 88,
    "start_time": "2022-07-31T17:47:19.360Z"
   },
   {
    "duration": 12485,
    "start_time": "2022-08-01T13:16:04.093Z"
   },
   {
    "duration": 119,
    "start_time": "2022-08-01T13:16:16.580Z"
   },
   {
    "duration": 9,
    "start_time": "2022-08-01T13:16:16.701Z"
   },
   {
    "duration": 9,
    "start_time": "2022-08-01T13:16:16.712Z"
   },
   {
    "duration": 10,
    "start_time": "2022-08-01T13:16:16.722Z"
   },
   {
    "duration": 10,
    "start_time": "2022-08-01T13:16:16.733Z"
   },
   {
    "duration": 8,
    "start_time": "2022-08-01T13:16:16.745Z"
   },
   {
    "duration": 24,
    "start_time": "2022-08-01T13:16:16.755Z"
   },
   {
    "duration": 12,
    "start_time": "2022-08-01T13:16:16.781Z"
   },
   {
    "duration": 13,
    "start_time": "2022-08-01T13:16:16.795Z"
   },
   {
    "duration": 12,
    "start_time": "2022-08-01T13:16:16.809Z"
   },
   {
    "duration": 50,
    "start_time": "2022-08-01T13:45:48.459Z"
   },
   {
    "duration": 9490,
    "start_time": "2022-08-01T13:45:54.562Z"
   },
   {
    "duration": 135,
    "start_time": "2022-08-01T13:46:04.054Z"
   },
   {
    "duration": 11,
    "start_time": "2022-08-01T13:46:04.191Z"
   },
   {
    "duration": 10,
    "start_time": "2022-08-01T13:46:04.204Z"
   },
   {
    "duration": 11,
    "start_time": "2022-08-01T13:46:04.215Z"
   },
   {
    "duration": 11,
    "start_time": "2022-08-01T13:46:04.228Z"
   },
   {
    "duration": 10,
    "start_time": "2022-08-01T13:46:04.240Z"
   },
   {
    "duration": 25,
    "start_time": "2022-08-01T13:46:04.252Z"
   },
   {
    "duration": 30,
    "start_time": "2022-08-01T13:46:04.278Z"
   },
   {
    "duration": 13,
    "start_time": "2022-08-01T13:46:04.310Z"
   },
   {
    "duration": 15,
    "start_time": "2022-08-01T13:46:04.325Z"
   },
   {
    "duration": 17,
    "start_time": "2022-08-01T13:46:04.342Z"
   },
   {
    "duration": 159,
    "start_time": "2022-08-01T13:48:13.094Z"
   },
   {
    "duration": 9043,
    "start_time": "2022-08-01T13:48:39.277Z"
   },
   {
    "duration": 121,
    "start_time": "2022-08-01T13:48:48.322Z"
   },
   {
    "duration": 11,
    "start_time": "2022-08-01T13:48:48.445Z"
   },
   {
    "duration": 11,
    "start_time": "2022-08-01T13:48:48.458Z"
   },
   {
    "duration": 12,
    "start_time": "2022-08-01T13:48:48.471Z"
   },
   {
    "duration": 12,
    "start_time": "2022-08-01T13:48:48.484Z"
   },
   {
    "duration": 10,
    "start_time": "2022-08-01T13:48:48.498Z"
   },
   {
    "duration": 24,
    "start_time": "2022-08-01T13:48:48.510Z"
   },
   {
    "duration": 163,
    "start_time": "2022-08-01T13:48:48.535Z"
   },
   {
    "duration": 0,
    "start_time": "2022-08-01T13:48:48.700Z"
   },
   {
    "duration": 0,
    "start_time": "2022-08-01T13:48:48.701Z"
   },
   {
    "duration": 0,
    "start_time": "2022-08-01T13:48:48.702Z"
   },
   {
    "duration": 99,
    "start_time": "2022-08-01T13:49:52.151Z"
   },
   {
    "duration": 18,
    "start_time": "2022-08-01T13:50:24.831Z"
   },
   {
    "duration": 29,
    "start_time": "2022-08-01T13:51:07.496Z"
   },
   {
    "duration": 18,
    "start_time": "2022-08-01T13:53:22.788Z"
   },
   {
    "duration": 160,
    "start_time": "2022-08-01T13:55:02.780Z"
   },
   {
    "duration": 22,
    "start_time": "2022-08-01T13:55:22.954Z"
   },
   {
    "duration": 29,
    "start_time": "2022-08-01T13:55:48.222Z"
   },
   {
    "duration": 30,
    "start_time": "2022-08-01T13:55:54.997Z"
   },
   {
    "duration": 23,
    "start_time": "2022-08-01T13:56:26.818Z"
   },
   {
    "duration": 22,
    "start_time": "2022-08-01T13:57:04.928Z"
   },
   {
    "duration": 21,
    "start_time": "2022-08-01T13:57:31.640Z"
   },
   {
    "duration": 8964,
    "start_time": "2022-08-01T13:57:58.962Z"
   },
   {
    "duration": 118,
    "start_time": "2022-08-01T13:58:07.928Z"
   },
   {
    "duration": 11,
    "start_time": "2022-08-01T13:58:08.048Z"
   },
   {
    "duration": 28,
    "start_time": "2022-08-01T13:58:08.061Z"
   },
   {
    "duration": 14,
    "start_time": "2022-08-01T13:58:08.091Z"
   },
   {
    "duration": 13,
    "start_time": "2022-08-01T13:58:08.107Z"
   },
   {
    "duration": 16,
    "start_time": "2022-08-01T13:58:08.122Z"
   },
   {
    "duration": 35,
    "start_time": "2022-08-01T13:58:08.140Z"
   },
   {
    "duration": 88,
    "start_time": "2022-08-01T13:58:08.178Z"
   },
   {
    "duration": 31,
    "start_time": "2022-08-01T13:58:08.267Z"
   },
   {
    "duration": 43,
    "start_time": "2022-08-01T13:58:08.299Z"
   }
  ],
  "kernelspec": {
   "display_name": "Python 3 (ipykernel)",
   "language": "python",
   "name": "python3"
  },
  "language_info": {
   "codemirror_mode": {
    "name": "ipython",
    "version": 3
   },
   "file_extension": ".py",
   "mimetype": "text/x-python",
   "name": "python",
   "nbconvert_exporter": "python",
   "pygments_lexer": "ipython3",
   "version": "3.9.5"
  },
  "toc": {
   "base_numbering": 1,
   "nav_menu": {},
   "number_sections": false,
   "sideBar": true,
   "skip_h1_title": false,
   "title_cell": "Table of Contents",
   "title_sidebar": "Contents",
   "toc_cell": true,
   "toc_position": {},
   "toc_section_display": true,
   "toc_window_display": true
  }
 },
 "nbformat": 4,
 "nbformat_minor": 5
}