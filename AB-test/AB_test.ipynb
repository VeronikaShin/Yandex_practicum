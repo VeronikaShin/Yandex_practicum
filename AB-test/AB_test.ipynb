{
 "cells": [
  {
   "cell_type": "code",
   "execution_count": 1,
   "id": "68457ea7",
   "metadata": {},
   "outputs": [],
   "source": [
    "import pandas as pd\n",
    "import numpy as np\n",
    "import math as mth\n",
    "from scipy import stats as st\n",
    "from datetime import datetime\n",
    "from statsmodels.stats.proportion import proportions_ztest\n",
    "from datetime import timedelta\n",
    "\n",
    "import seaborn as sns\n",
    "import matplotlib.pyplot as plt\n",
    "from plotly import graph_objects as go\n",
    "plt.style.use('ggplot')\n",
    "\n",
    "import warnings\n",
    "\n",
    "warnings.filterwarnings(\"ignore\")"
   ]
  },
  {
   "cell_type": "markdown",
   "id": "260ea303",
   "metadata": {},
   "source": [
    "## Шаг 1. Предобработка данных"
   ]
  },
  {
   "cell_type": "code",
   "execution_count": null,
   "id": "d15d7a9f",
   "metadata": {
    "pycharm": {
     "is_executing": true
    }
   },
   "outputs": [],
   "source": [
    "final_ab_events = pd.read_csv('/datasets/final_ab_events.csv')\n",
    "display(final_ab_events.head(5), final_ab_events.info(), final_ab_events.describe())"
   ]
  },
  {
   "cell_type": "code",
   "execution_count": null,
   "id": "c49c6be1",
   "metadata": {},
   "outputs": [],
   "source": [
    "final_ab_events['event_dt'] = pd.to_datetime(final_ab_events['event_dt'])"
   ]
  },
  {
   "cell_type": "markdown",
   "id": "e7cd6c60",
   "metadata": {},
   "source": [
    "Меняем тип данных в колонке с датой"
   ]
  },
  {
   "cell_type": "code",
   "execution_count": null,
   "id": "68388a45",
   "metadata": {},
   "outputs": [],
   "source": [
    "final_ab_events['event_name'].unique()"
   ]
  },
  {
   "cell_type": "code",
   "execution_count": null,
   "id": "29629444",
   "metadata": {},
   "outputs": [],
   "source": [
    "final_ab_events.isnull().sum()"
   ]
  },
  {
   "cell_type": "markdown",
   "id": "1b631e4a",
   "metadata": {},
   "source": [
    "Пропуски в details оставляем, тк не все пользователи совершили покупку"
   ]
  },
  {
   "cell_type": "code",
   "execution_count": null,
   "id": "bf8c1101",
   "metadata": {},
   "outputs": [],
   "source": [
    "final_ab_events.duplicated().sum()"
   ]
  },
  {
   "cell_type": "code",
   "execution_count": null,
   "id": "ad18f994",
   "metadata": {},
   "outputs": [],
   "source": [
    "ab_project_marketing_events = pd.read_csv('/datasets/ab_project_marketing_events.csv') \n",
    "display(ab_project_marketing_events.head(5), ab_project_marketing_events.info())"
   ]
  },
  {
   "cell_type": "code",
   "execution_count": null,
   "id": "aada4491",
   "metadata": {},
   "outputs": [],
   "source": [
    "ab_project_marketing_events['start_dt'] = pd.to_datetime(ab_project_marketing_events['start_dt'])\n",
    "ab_project_marketing_events['finish_dt'] = pd.to_datetime(ab_project_marketing_events['finish_dt'])"
   ]
  },
  {
   "cell_type": "markdown",
   "id": "66e70fc3",
   "metadata": {},
   "source": [
    "Меняем тип данных в колонках с датой"
   ]
  },
  {
   "cell_type": "code",
   "execution_count": null,
   "id": "eae0db8b",
   "metadata": {},
   "outputs": [],
   "source": [
    "print(ab_project_marketing_events.isnull().sum())\n",
    "print()\n",
    "print(ab_project_marketing_events.duplicated().sum())"
   ]
  },
  {
   "cell_type": "code",
   "execution_count": null,
   "id": "6b56379c",
   "metadata": {},
   "outputs": [],
   "source": [
    "final_ab_new_users = pd.read_csv('/datasets/final_ab_new_users.csv')\n",
    "display(final_ab_new_users.head(5), final_ab_new_users.info())"
   ]
  },
  {
   "cell_type": "code",
   "execution_count": null,
   "id": "04cb3031",
   "metadata": {},
   "outputs": [],
   "source": [
    "print(final_ab_new_users.isnull().sum())\n",
    "print()\n",
    "print(final_ab_new_users.duplicated().sum())\n",
    "\n",
    "final_ab_new_users['first_date'] = pd.to_datetime(final_ab_new_users['first_date'])"
   ]
  },
  {
   "cell_type": "markdown",
   "id": "393dabc3",
   "metadata": {},
   "source": [
    "Меняем тип данных в колонках с датой"
   ]
  },
  {
   "cell_type": "code",
   "execution_count": null,
   "id": "a0689391",
   "metadata": {},
   "outputs": [],
   "source": [
    "final_ab_participants = pd.read_csv('/datasets/final_ab_participants.csv')\n",
    "display(final_ab_participants.head(5), final_ab_participants.info())"
   ]
  },
  {
   "cell_type": "code",
   "execution_count": null,
   "id": "b3ddbe8e",
   "metadata": {},
   "outputs": [],
   "source": [
    "print(final_ab_participants.isnull().sum())\n",
    "print()\n",
    "print(final_ab_participants.duplicated().sum())"
   ]
  },
  {
   "cell_type": "markdown",
   "id": "c333ee8d",
   "metadata": {},
   "source": [
    "## Шаг 2. Оценка корректности проведения теста:\n",
    "\n",
    "### Соответствие данных требованиям технического задания. Проверка корректности всех пунктов технического задания.\n"
   ]
  },
  {
   "cell_type": "code",
   "execution_count": null,
   "id": "7e510e84",
   "metadata": {},
   "outputs": [],
   "source": [
    "#Выбираем всех пользователей из теста\n",
    "final_ab = final_ab_participants.query('ab_test == \"recommender_system_test\"')\n",
    "print(final_ab['user_id'].nunique())"
   ]
  },
  {
   "cell_type": "code",
   "execution_count": null,
   "id": "a32c071c",
   "metadata": {},
   "outputs": [],
   "source": [
    "#объединяем с пользователями, зарегистрировавшимися с 7 по 21 декабря 2020 года.\n",
    "final_ab = final_ab.merge(final_ab_new_users, on = 'user_id', how = 'inner')\n",
    "display(final_ab['user_id'].nunique())"
   ]
  },
  {
   "cell_type": "code",
   "execution_count": null,
   "id": "931485f9",
   "metadata": {},
   "outputs": [],
   "source": [
    "display(final_ab['first_date'].min(), final_ab['first_date'].max())"
   ]
  },
  {
   "cell_type": "code",
   "execution_count": null,
   "id": "a6a3dead",
   "metadata": {
    "scrolled": true
   },
   "outputs": [],
   "source": [
    "print(ab_project_marketing_events.query(\"start_dt > '2020-12-01'\"))"
   ]
  },
  {
   "cell_type": "code",
   "execution_count": null,
   "id": "eaec1edb",
   "metadata": {},
   "outputs": [],
   "source": [
    "print(final_ab.groupby('group').agg({'user_id':'count'}))\n",
    "print(final_ab.groupby('group').agg({'user_id':'nunique'}))"
   ]
  },
  {
   "cell_type": "code",
   "execution_count": null,
   "id": "ebfd08ac",
   "metadata": {},
   "outputs": [],
   "source": [
    "a_group = final_ab_participants.query('ab_test == \"recommender_system_test\" and group == \"A\"')[['user_id']]\n",
    "print(a_group.nunique())\n",
    "b_group = final_ab_participants.query('ab_test == \"recommender_system_test\" and group == \"B\"')[['user_id']]\n",
    "print(b_group.nunique())\n",
    "\n",
    "groups = pd.concat([a_group, b_group]) #полностью объединим таблицы и посчитаем дубликаты\n",
    "\n",
    "print(groups.duplicated().sum(), 'пользователей участвует в двух группах')"
   ]
  },
  {
   "cell_type": "code",
   "execution_count": null,
   "id": "95cedb44",
   "metadata": {},
   "outputs": [],
   "source": [
    "groups_other = final_ab_participants.query('ab_test != \"recommender_system_test\"')[['user_id']]\n",
    "groups_both = pd.concat([groups, groups_other])\n",
    "print(groups_both.duplicated().sum(), 'пользователей участвует в двух тестах')"
   ]
  },
  {
   "cell_type": "code",
   "execution_count": null,
   "id": "eb1ffe7e",
   "metadata": {},
   "outputs": [],
   "source": [
    "#удалим пользователей, попавших в 2 теста\n",
    "users_after_fil = final_ab_participants['user_id']\n",
    "print(users_after_fil.duplicated().sum())\n",
    "\n",
    "users_after_fil = users_after_fil.drop_duplicates(keep=False)\n",
    "print(users_after_fil.nunique())"
   ]
  },
  {
   "cell_type": "code",
   "execution_count": null,
   "id": "8501e7db",
   "metadata": {},
   "outputs": [],
   "source": [
    "final_ab_afetr_fil = final_ab.merge(users_after_fil, on = 'user_id', how = 'inner')\n",
    "print(final_ab_afetr_fil['user_id'].nunique(), 'пользователей было заявлено')"
   ]
  },
  {
   "cell_type": "code",
   "execution_count": null,
   "id": "7bf5bb9e",
   "metadata": {},
   "outputs": [],
   "source": [
    "final_ab_afetr_fil = final_ab_afetr_fil.merge(final_ab_events,  on = 'user_id', how = 'inner')\n",
    "final_ab_afetr_fil['event_dt'] = final_ab_afetr_fil['event_dt'].dt.round('D')\n",
    "display(final_ab_afetr_fil.head(5))\n",
    "display(final_ab_afetr_fil['event_dt'].min(), final_ab_afetr_fil['event_dt'].max())"
   ]
  },
  {
   "cell_type": "code",
   "execution_count": null,
   "id": "17f05d3b",
   "metadata": {},
   "outputs": [],
   "source": [
    "print(final_ab_afetr_fil['user_id'].nunique(), 'пользователей совершили действие')"
   ]
  },
  {
   "cell_type": "code",
   "execution_count": null,
   "id": "db83499d",
   "metadata": {},
   "outputs": [],
   "source": [
    "#присваиваем ранг действиям, чтобы избежать ошибки, если действия были совершены с разницей меньше секунды\n",
    "def find_rating(act):\n",
    "    if act == 'product_page': \n",
    "        return 2\n",
    "    if act == 'product_cart': \n",
    "        return 3\n",
    "    if act == 'purchase': \n",
    "        return 4\n",
    "    else: \n",
    "        return 1\n",
    "final_ab_afetr_fil['rank'] = final_ab_afetr_fil['event_name'].apply(find_rating) \n",
    "display(final_ab_afetr_fil.head(5))"
   ]
  },
  {
   "cell_type": "code",
   "execution_count": null,
   "id": "8919f382",
   "metadata": {},
   "outputs": [],
   "source": [
    "#посчитаем именно действия, которые были совершены за 14 дней с момента регистрации пользователями\n",
    "\n",
    "final_ab_afetr_fil['deadline'] = 0\n",
    "for index, row in final_ab_afetr_fil.iterrows():\n",
    "    final_ab_afetr_fil['deadline'][index] =  (row[3] + pd.Timedelta(days=14))\n",
    "        \n",
    "final_ab_afetr_fil = final_ab_afetr_fil.query('event_dt <= deadline')        \n",
    "display(final_ab_afetr_fil.head(5))"
   ]
  },
  {
   "cell_type": "code",
   "execution_count": null,
   "id": "4bc159a8",
   "metadata": {},
   "outputs": [],
   "source": [
    "perc = final_ab_afetr_fil.groupby('region').agg({'user_id':'nunique'}).reset_index()\n",
    "perc['perc'] = round(((perc['user_id']/perc['user_id'].sum()) * 100), 2)\n",
    "display(perc)"
   ]
  },
  {
   "cell_type": "markdown",
   "id": "c61bcc34",
   "metadata": {},
   "source": [
    "H0 - для пользователя из региона EU вероятность попасть в тест = 15%\n",
    "\n",
    "H1 - для пользователя из региона EU вероятность попасть в тест отличается от 15%"
   ]
  },
  {
   "cell_type": "code",
   "execution_count": null,
   "id": "514ed9ca",
   "metadata": {},
   "outputs": [],
   "source": [
    "count = final_ab_new_users.query('region == \"EU\"').shape[0]\n",
    "\n",
    "nobs = final_ab.query('region == \"EU\"').shape[0]\n",
    "\n",
    "alpha = .01\n",
    "\n",
    "stat, pval = proportions_ztest(count, nobs, alpha)\n",
    "\n",
    "print('p-value: {}'.format(pval))\n",
    "if pval >= alpha: \n",
    "    print('Нулевая гипотеза не отвергается: для пользователя из региона EU вероятность попасть в тест составляет 15%.')\n",
    "else:\n",
    "    print('Нулевая гипотеза отвергается: для пользователя из региона EU вероятность попасть в тест отличается от 15%.')"
   ]
  },
  {
   "cell_type": "code",
   "execution_count": null,
   "id": "26a43646",
   "metadata": {},
   "outputs": [],
   "source": [
    "final_ab_con = final_ab_afetr_fil.sort_values(by=['user_id', 'event_dt', 'rank'])\n",
    "act_rank = final_ab_con.groupby('user_id').agg({'event_dt': 'min', 'event_name': 'first'}).reset_index()\n",
    "display(act_rank.groupby('event_name').agg({'user_id':'count'}))"
   ]
  },
  {
   "cell_type": "code",
   "execution_count": null,
   "id": "d7f1819f",
   "metadata": {},
   "outputs": [],
   "source": [
    "#удаляем эти 5 пользователей\n",
    "act_rank = act_rank[act_rank['event_name'] == 'login']\n",
    "final_ab_afetr_fil = final_ab_afetr_fil.merge(act_rank, on = 'user_id', how='inner')"
   ]
  },
  {
   "cell_type": "markdown",
   "id": "8b043eee",
   "metadata": {},
   "source": [
    "У 5 пользователей первое действие покупка. удалили их"
   ]
  },
  {
   "attachments": {
    "image-2.png": {
     "image/png": "[encoded data removed]"
    }
   },
   "cell_type": "markdown",
   "id": "422e4dd9",
   "metadata": {},
   "source": [
    "В тесте recommender_system_test участвовали пользователи, зарегистрированные с 07-21 декабря, но 5 пользователей были зарегистрированы раннее, на 07.12 приходится purchase\n",
    "\n",
    "Группы А и В неравны.\n",
    "\n",
    "Между группами А и В нет перечесений в пользователях.\n",
    "\n",
    "Но есть пересечения пользователей между тестами\n",
    "\n",
    "Дата остановки в ТЗ 2021-01-04, в данных 2020-12-31\n",
    "\n",
    "Есть пересечение с др маркетинговыми активностями 'Christmas&New Year Promo  EU', 'CIS New Year Gift Lottery'\n",
    "\n",
    "Процент новых пользователей из региона EU не 15%, а 93.04%\n",
    "\n",
    "всего пользователей 6701, но действия совершили только 2788\n",
    "\n",
    "2020-12-31 есть данные только по группе В\n",
    "\n",
    "для проведения теста нужно пользователей: \n",
    "![image-2.png](attachment:image-2.png)\n",
    "\n"
   ]
  },
  {
   "cell_type": "markdown",
   "id": "aedf0af0",
   "metadata": {},
   "source": [
    "\n",
    "\n",
    "## Шаг 3. EDA:\n",
    "\n",
    "### Количество событий на пользователя одинаково распределены в выборках?"
   ]
  },
  {
   "cell_type": "code",
   "execution_count": null,
   "id": "5ebf64a4",
   "metadata": {},
   "outputs": [],
   "source": [
    "a = final_ab_afetr_fil.query('group == \"A\"').groupby(['user_id'], as_index=False).agg({'event_name':'count'}).sort_values(by='event_name', ascending=False)\n",
    "\n",
    "fig = plt.figure()\n",
    "\n",
    "hist = sns.histplot(data=a, x=\"event_name\", bins = 25)\n",
    "hist.set_title('количество событий на пользователя (А)') \n",
    "fig.set_figwidth(10)\n",
    "fig.set_figheight(8);\n",
    "\n",
    "display(a.median())"
   ]
  },
  {
   "cell_type": "code",
   "execution_count": null,
   "id": "e5b92d97",
   "metadata": {},
   "outputs": [],
   "source": [
    "b = final_ab_afetr_fil.query('group == \"B\"').groupby(['user_id'], as_index=False).agg({'event_name':'count'}).sort_values(by='event_name', ascending=False)\n",
    "\n",
    "fig = plt.figure()\n",
    "\n",
    "hist = sns.histplot(data=b, x=\"event_name\", bins = 25)\n",
    "hist.set_title('количество событий на пользователя (В)')\n",
    "fig.set_figwidth(10)\n",
    "fig.set_figheight(8);\n",
    "\n",
    "display(b.median())"
   ]
  },
  {
   "cell_type": "markdown",
   "id": "ea337c43",
   "metadata": {},
   "source": [
    "в группе В явно меньше активных пользователей, действий на пользователя меньше\n",
    "____\n",
    "\n",
    "### Как число событий в выборках распределено по дням?"
   ]
  },
  {
   "cell_type": "code",
   "execution_count": null,
   "id": "2f9316aa",
   "metadata": {},
   "outputs": [],
   "source": [
    "a = final_ab_afetr_fil.query('group == \"A\"').groupby('event_dt', as_index=False).agg({'event_name':'count'}).sort_values(by='event_dt', ascending=True)\n",
    "fig = plt.figure()\n",
    "a['event_dt'] = a['event_dt'].astype('str')\n",
    "sns.barplot(x='event_dt', y='event_name', data=a)\n",
    "hist.set_title('количество событий по деям (А)') \n",
    "plt.xticks(rotation=50)\n",
    "fig.set_figwidth(10)\n",
    "fig.set_figheight(8);\n",
    "\n",
    "display(a.median())"
   ]
  },
  {
   "cell_type": "code",
   "execution_count": null,
   "id": "5b7e274b",
   "metadata": {},
   "outputs": [],
   "source": [
    "b = final_ab_afetr_fil.query('group == \"B\"').groupby('event_dt', as_index=False).agg({'event_name':'count'}).sort_values(by='event_dt', ascending=True)\n",
    "fig = plt.figure()\n",
    "b['event_dt'] = b['event_dt'].astype('str')\n",
    "sns.barplot(x='event_dt', y='event_name', data=b)\n",
    "hist.set_title('количество событий по деям (B)') \n",
    "plt.xticks(rotation=50)\n",
    "fig.set_figwidth(10)\n",
    "fig.set_figheight(8);\n",
    "\n",
    "display(b.median())"
   ]
  },
  {
   "cell_type": "markdown",
   "id": "62e3957c",
   "metadata": {},
   "source": [
    "число событий в выборках по дням распределено неравномерно. \n",
    "\n",
    "в группе А виден всплеск активности с 14-27 декабря.\n",
    "\n",
    "в группе В, если сравнить относительно А, всплески не сильно выражены, но количество событий по дням не равномерно\n",
    "\n",
    "___\n",
    "\n",
    "### Как меняется конверсия в воронке в выборках на разных этапах?"
   ]
  },
  {
   "cell_type": "code",
   "execution_count": null,
   "id": "9e2be8d5",
   "metadata": {},
   "outputs": [],
   "source": [
    "final_ab_afetr_fil.query('group == \"A\"')['user_id'].nunique()"
   ]
  },
  {
   "cell_type": "code",
   "execution_count": null,
   "id": "b3b20bdb",
   "metadata": {},
   "outputs": [],
   "source": [
    "final_ab_a = final_ab_afetr_fil.query('group == \"A\"').groupby(['event_name', 'rank']).agg({'user_id':'nunique'})\\\n",
    ".sort_values(by='rank', ascending=True).reset_index()\n",
    "display(final_ab_a)"
   ]
  },
  {
   "cell_type": "markdown",
   "id": "4bf2993d",
   "metadata": {},
   "source": [
    "Теперь видно, сколько уникальных пользователей дошло до каждого этапа продуктовой воронки. совершило покупку пользователей больше, чем пользователей, просмотревших корзину. Скорее всего есть возможность перейти на стр покупки, минуя корзину. Плюс была ошибка в формировании групп теста."
   ]
  },
  {
   "cell_type": "code",
   "execution_count": null,
   "id": "b2534c7d",
   "metadata": {},
   "outputs": [],
   "source": [
    "final_ab_a['total'] = final_ab_afetr_fil.query('group == \"A\"')['user_id'].nunique()\n",
    "final_ab_a['percentage_A'] = ((final_ab_a['user_id']/final_ab_a['total']) * 100).round(2)\n",
    "display(final_ab_a)"
   ]
  },
  {
   "cell_type": "code",
   "execution_count": null,
   "id": "23ab895d",
   "metadata": {},
   "outputs": [],
   "source": [
    "fig = go.Figure(go.Funnel(\n",
    "    y = final_ab_a['event_name'],\n",
    "    x = final_ab_a['user_id'],\n",
    "    textinfo = \"value+percent initial+percent previous\"))\n",
    "                \n",
    "fig.show()"
   ]
  },
  {
   "cell_type": "code",
   "execution_count": null,
   "id": "c6bdf360",
   "metadata": {},
   "outputs": [],
   "source": [
    "#добавим данные по воронке в таблицу\n",
    "final_ab_a['percentage_funnel_A'] = (final_ab_a['user_id']/final_ab_a['user_id'].shift(1,fill_value=0)) * 100\n",
    "final_ab_a.head()"
   ]
  },
  {
   "cell_type": "markdown",
   "id": "fead771e",
   "metadata": {},
   "source": [
    "у группы А 31% доходит до покупки"
   ]
  },
  {
   "cell_type": "code",
   "execution_count": null,
   "id": "9ae1e4e4",
   "metadata": {},
   "outputs": [],
   "source": [
    "final_ab_b = final_ab_afetr_fil.query('group == \"B\"').groupby(['event_name', 'rank']).agg({'user_id':'nunique'})\\\n",
    ".sort_values(by='rank', ascending=True).reset_index()\n",
    "\n",
    "final_ab_b['total'] = final_ab_afetr_fil.query('group == \"B\"')['user_id'].nunique()\n",
    "final_ab_b['percentage_A'] = ((final_ab_b['user_id']/final_ab_b['total']) * 100).round(2)\n",
    "\n",
    "fig = go.Figure(go.Funnel(\n",
    "    y = final_ab_b['event_name'],\n",
    "    x = final_ab_b['user_id'],\n",
    "    textinfo = \"value+percent initial+percent previous\"))\n",
    "                \n",
    "fig.show()\n",
    "\n",
    "#добавим данные по воронке в таблицу\n",
    "final_ab_b['percentage_funnel_A'] = (final_ab_b['user_id']/final_ab_b['user_id'].shift(1,fill_value=0)) * 100\n",
    "final_ab_b.head()"
   ]
  },
  {
   "cell_type": "markdown",
   "id": "893b30a5",
   "metadata": {},
   "source": [
    "у группы В 28% доходит до покупки, и конверсии в просмотр карточек товаров ниже, чем у группы А.\n",
    "\n",
    "____\n",
    "\n",
    "### Какие особенности данных нужно учесть, прежде чем приступать к A/B-тестированию?\n",
    "\n",
    "выборки неравны, есть пользователи, попавшие в группы не с момента регистрации\n",
    "\n",
    "в группе А больше активных пользователей\n",
    "\n",
    "число событий в выборках по дням распределено неравномерно.\n",
    "\n",
    "\n",
    "у группы А нет данных о действиях 31 декабря"
   ]
  },
  {
   "cell_type": "code",
   "execution_count": null,
   "id": "29323680",
   "metadata": {},
   "outputs": [],
   "source": [
    "final_ab_con = final_ab_afetr_fil[['event_dt','group']].drop_duplicates() \n",
    "display(final_ab_con.sort_values(by='event_dt'))"
   ]
  },
  {
   "cell_type": "markdown",
   "id": "7a254a37",
   "metadata": {},
   "source": [
    "## Шаг 4. Оценка результатов A/B-тестирования:\n",
    "\n",
    "H0 - доли уникальных посетителей, побывавших на этапе воронки, одинаковы.\n",
    "\n",
    "Н1 - между долями уникальных посетителей, побывавших на этапе воронки, есть значимая разница"
   ]
  },
  {
   "cell_type": "code",
   "execution_count": null,
   "id": "bb1404b0",
   "metadata": {},
   "outputs": [],
   "source": [
    "def z_test(pay_A, pay_B, leads_A, leads_B, alpha):\n",
    "    purchases = np.array([pay_A, pay_B])\n",
    "\n",
    "    leads = np.array([leads_A, leads_B])\n",
    "\n",
    "# пропорция успехов в первой и второй группе:\n",
    "    p1 = purchases[0]/leads[0]\n",
    "    p2 = purchases[1]/leads[1]\n",
    "\n",
    "# пропорция успехов в комбинированном датасете:\n",
    "    p_combined = (purchases[0] + purchases[1]) / (leads[0] + leads[1])\n",
    "\n",
    "# разница пропорций в датасетах\n",
    "    difference = p1 - p2 \n",
    "\n",
    "    z_value = difference / mth.sqrt(p_combined * (1 - p_combined) * (1/leads[0] + 1/leads[1]))\n",
    "\n",
    "    distr = st.norm(0, 1) \n",
    "    \n",
    "    p_value = (1 - distr.cdf(abs(z_value))) * 2\n",
    "\n",
    "    print('p-значение: ', p_value)\n",
    "    if p_value < alpha:\n",
    "        print('Отвергаем нулевую гипотезу: между долями есть значимая разница')\n",
    "    else:\n",
    "        print(\n",
    "        'Не получилось отвергнуть нулевую гипотезу, нет оснований считать доли разными'\n",
    "    ) "
   ]
  },
  {
   "cell_type": "code",
   "execution_count": null,
   "id": "63e768b1",
   "metadata": {},
   "outputs": [],
   "source": [
    "a = final_ab_afetr_fil.query('group == \"A\"')['user_id'].nunique() #берем всех уникальных пользователей, которые быди заявлены\n",
    "b = final_ab_afetr_fil.query('group == \"B\"')['user_id'].nunique()\n",
    "\n",
    "print('Сравнение группы Б с контрольной группой А')\n",
    "\n",
    "#login\n",
    "z_test(final_ab_a.loc[0, 'total'], final_ab_b.loc[0, 'total'], a, b, 0.1)\n",
    "\n",
    "#product_page\n",
    "z_test(final_ab_a.loc[1, 'total'], final_ab_b.loc[1, 'total'], a, b, 0.1)\n",
    "\n",
    "#product_cart\n",
    "z_test(final_ab_a.loc[2, 'total'], final_ab_b.loc[2, 'total'], a, b, 0.1)\n",
    "\n",
    "#purchase\n",
    "z_test(final_ab_a.loc[3, 'total'], final_ab_b.loc[3, 'total'], a, b, 0.1)"
   ]
  },
  {
   "cell_type": "markdown",
   "id": "51c0b3ba",
   "metadata": {},
   "source": [
    "к проводится множественное сравнение, то возрастает вероятность ошибки 1 рода. чтобы избежать ее применяется метод корректировки FWER\n",
    "\n",
    "всего сравнений = 5\n",
    "\n",
    "Бонферрони:\n",
    "\n",
    "alpha = 0.05/5\n",
    "\n",
    "alpha = 0.1\n",
    "\n",
    "А и В не сбалансированы по пользователям без событий, из-за этого значение p-value слишком большое.\n",
    "\n",
    "___"
   ]
  },
  {
   "cell_type": "markdown",
   "id": "e18c1ccf",
   "metadata": {
    "pycharm": {
     "name": "#%% md\n"
    }
   },
   "source": [
    "\n",
    "\n",
    "## Вывод\n",
    "\n",
    "рузальтаты АВ-теста считаю некорректными. \n",
    "\n",
    "Тестирование изменений, связанных с внедрением улучшенной рекомендательной системы проверить не получилось,  из-за: \n",
    "- несбалансированных групп, \n",
    "- пересечения тестовой аудитории с конкурирующим тестом, \n",
    "- совпадения теста и маркетинговых событий, \n",
    "- некорректных временных границ тест."
   ]
  }
 ],
 "metadata": {
  "ExecuteTimeLog": [
   {
    "duration": 97,
    "start_time": "2022-07-30T07:18:42.408Z"
   },
   {
    "duration": 1104,
    "start_time": "2022-07-30T07:23:33.441Z"
   },
   {
    "duration": 758,
    "start_time": "2022-07-30T07:23:34.546Z"
   },
   {
    "duration": 109,
    "start_time": "2022-07-30T07:23:35.305Z"
   },
   {
    "duration": 26,
    "start_time": "2022-07-30T07:23:35.423Z"
   },
   {
    "duration": 40,
    "start_time": "2022-07-30T07:23:35.450Z"
   },
   {
    "duration": 187,
    "start_time": "2022-07-30T07:23:35.491Z"
   },
   {
    "duration": 90,
    "start_time": "2022-07-30T07:23:35.680Z"
   },
   {
    "duration": 6,
    "start_time": "2022-07-30T07:23:35.772Z"
   },
   {
    "duration": 16,
    "start_time": "2022-07-30T07:23:35.779Z"
   },
   {
    "duration": 326,
    "start_time": "2022-07-30T07:23:35.797Z"
   },
   {
    "duration": 51,
    "start_time": "2022-07-30T07:23:36.125Z"
   },
   {
    "duration": 74,
    "start_time": "2022-07-30T07:23:36.178Z"
   },
   {
    "duration": 18,
    "start_time": "2022-07-30T07:23:36.254Z"
   },
   {
    "duration": 9,
    "start_time": "2022-07-30T07:23:36.274Z"
   },
   {
    "duration": 50,
    "start_time": "2022-07-30T07:23:36.285Z"
   },
   {
    "duration": 6,
    "start_time": "2022-07-30T07:23:36.337Z"
   },
   {
    "duration": 16,
    "start_time": "2022-07-30T07:23:36.345Z"
   },
   {
    "duration": 13,
    "start_time": "2022-07-30T07:23:36.363Z"
   },
   {
    "duration": 10,
    "start_time": "2022-07-30T07:23:36.377Z"
   },
   {
    "duration": 36,
    "start_time": "2022-07-30T07:23:36.389Z"
   },
   {
    "duration": 16,
    "start_time": "2022-07-30T07:23:36.426Z"
   },
   {
    "duration": 5,
    "start_time": "2022-07-30T07:23:36.444Z"
   },
   {
    "duration": 147,
    "start_time": "2022-07-30T07:23:36.451Z"
   },
   {
    "duration": 6,
    "start_time": "2022-07-30T07:23:36.599Z"
   },
   {
    "duration": 35,
    "start_time": "2022-07-30T07:23:36.607Z"
   },
   {
    "duration": 31,
    "start_time": "2022-07-30T07:23:36.644Z"
   },
   {
    "duration": 219,
    "start_time": "2022-07-30T07:23:36.676Z"
   },
   {
    "duration": 201,
    "start_time": "2022-07-30T07:23:36.899Z"
   },
   {
    "duration": 381,
    "start_time": "2022-07-30T07:23:37.101Z"
   },
   {
    "duration": 333,
    "start_time": "2022-07-30T07:23:37.484Z"
   },
   {
    "duration": 14,
    "start_time": "2022-07-30T07:23:37.819Z"
   },
   {
    "duration": 41,
    "start_time": "2022-07-30T07:23:37.834Z"
   },
   {
    "duration": 16,
    "start_time": "2022-07-30T07:23:37.878Z"
   },
   {
    "duration": 200,
    "start_time": "2022-07-30T07:23:37.895Z"
   },
   {
    "duration": 30,
    "start_time": "2022-07-30T07:23:38.097Z"
   },
   {
    "duration": 95,
    "start_time": "2022-07-30T07:23:38.129Z"
   },
   {
    "duration": 20,
    "start_time": "2022-07-30T07:23:38.226Z"
   },
   {
    "duration": 6,
    "start_time": "2022-07-30T07:23:38.250Z"
   },
   {
    "duration": 69,
    "start_time": "2022-07-30T07:23:38.258Z"
   },
   {
    "duration": 1388,
    "start_time": "2022-07-30T18:25:36.939Z"
   },
   {
    "duration": 798,
    "start_time": "2022-07-30T18:25:38.329Z"
   },
   {
    "duration": 111,
    "start_time": "2022-07-30T18:25:39.129Z"
   },
   {
    "duration": 26,
    "start_time": "2022-07-30T18:25:39.242Z"
   },
   {
    "duration": 56,
    "start_time": "2022-07-30T18:25:39.270Z"
   },
   {
    "duration": 177,
    "start_time": "2022-07-30T18:25:39.328Z"
   },
   {
    "duration": 74,
    "start_time": "2022-07-30T18:25:39.507Z"
   },
   {
    "duration": 6,
    "start_time": "2022-07-30T18:25:39.582Z"
   },
   {
    "duration": 11,
    "start_time": "2022-07-30T18:25:39.590Z"
   },
   {
    "duration": 199,
    "start_time": "2022-07-30T18:25:39.604Z"
   },
   {
    "duration": 48,
    "start_time": "2022-07-30T18:25:39.805Z"
   },
   {
    "duration": 77,
    "start_time": "2022-07-30T18:25:39.855Z"
   },
   {
    "duration": 12,
    "start_time": "2022-07-30T18:25:39.934Z"
   },
   {
    "duration": 9,
    "start_time": "2022-07-30T18:25:39.948Z"
   },
   {
    "duration": 32,
    "start_time": "2022-07-30T18:25:39.959Z"
   },
   {
    "duration": 31,
    "start_time": "2022-07-30T18:25:39.992Z"
   },
   {
    "duration": 13,
    "start_time": "2022-07-30T18:25:40.025Z"
   },
   {
    "duration": 15,
    "start_time": "2022-07-30T18:25:40.040Z"
   },
   {
    "duration": 15,
    "start_time": "2022-07-30T18:25:40.057Z"
   },
   {
    "duration": 19,
    "start_time": "2022-07-30T18:25:40.073Z"
   },
   {
    "duration": 34,
    "start_time": "2022-07-30T18:25:40.094Z"
   },
   {
    "duration": 5,
    "start_time": "2022-07-30T18:25:40.130Z"
   },
   {
    "duration": 149,
    "start_time": "2022-07-30T18:25:40.137Z"
   },
   {
    "duration": 7,
    "start_time": "2022-07-30T18:25:40.288Z"
   },
   {
    "duration": 51,
    "start_time": "2022-07-30T18:25:40.297Z"
   },
   {
    "duration": 32,
    "start_time": "2022-07-30T18:25:40.350Z"
   },
   {
    "duration": 229,
    "start_time": "2022-07-30T18:25:40.384Z"
   },
   {
    "duration": 202,
    "start_time": "2022-07-30T18:25:40.623Z"
   },
   {
    "duration": 297,
    "start_time": "2022-07-30T18:25:40.827Z"
   },
   {
    "duration": 313,
    "start_time": "2022-07-30T18:25:41.126Z"
   },
   {
    "duration": 11,
    "start_time": "2022-07-30T18:25:41.441Z"
   },
   {
    "duration": 20,
    "start_time": "2022-07-30T18:25:41.454Z"
   },
   {
    "duration": 15,
    "start_time": "2022-07-30T18:25:41.475Z"
   },
   {
    "duration": 194,
    "start_time": "2022-07-30T18:25:41.492Z"
   },
   {
    "duration": 11,
    "start_time": "2022-07-30T18:25:41.688Z"
   },
   {
    "duration": 45,
    "start_time": "2022-07-30T18:25:41.700Z"
   },
   {
    "duration": 14,
    "start_time": "2022-07-30T18:25:41.746Z"
   },
   {
    "duration": 4,
    "start_time": "2022-07-30T18:25:41.762Z"
   },
   {
    "duration": 23,
    "start_time": "2022-07-30T18:25:41.823Z"
   },
   {
    "duration": 125,
    "start_time": "2022-07-30T18:55:54.386Z"
   },
   {
    "duration": 16,
    "start_time": "2022-07-30T18:56:00.378Z"
   },
   {
    "duration": 90,
    "start_time": "2022-07-30T18:56:13.900Z"
   },
   {
    "duration": 11,
    "start_time": "2022-07-30T18:56:33.491Z"
   },
   {
    "duration": 15,
    "start_time": "2022-07-30T18:58:02.469Z"
   },
   {
    "duration": 5,
    "start_time": "2022-07-30T18:58:09.788Z"
   },
   {
    "duration": 14,
    "start_time": "2022-07-30T18:58:46.028Z"
   },
   {
    "duration": 7,
    "start_time": "2022-07-30T18:59:48.414Z"
   },
   {
    "duration": 26,
    "start_time": "2022-07-30T19:00:16.679Z"
   },
   {
    "duration": 30,
    "start_time": "2022-07-30T19:00:28.670Z"
   },
   {
    "duration": 1115,
    "start_time": "2022-07-30T19:00:44.337Z"
   },
   {
    "duration": 570,
    "start_time": "2022-07-30T19:00:45.454Z"
   },
   {
    "duration": 109,
    "start_time": "2022-07-30T19:00:46.025Z"
   },
   {
    "duration": 26,
    "start_time": "2022-07-30T19:00:46.136Z"
   },
   {
    "duration": 40,
    "start_time": "2022-07-30T19:00:46.164Z"
   },
   {
    "duration": 212,
    "start_time": "2022-07-30T19:00:46.206Z"
   },
   {
    "duration": 27,
    "start_time": "2022-07-30T19:00:46.420Z"
   },
   {
    "duration": 5,
    "start_time": "2022-07-30T19:00:46.449Z"
   },
   {
    "duration": 12,
    "start_time": "2022-07-30T19:00:46.455Z"
   },
   {
    "duration": 103,
    "start_time": "2022-07-30T19:00:46.470Z"
   },
   {
    "duration": 53,
    "start_time": "2022-07-30T19:00:46.575Z"
   },
   {
    "duration": 39,
    "start_time": "2022-07-30T19:00:46.630Z"
   },
   {
    "duration": 12,
    "start_time": "2022-07-30T19:00:46.671Z"
   },
   {
    "duration": 8,
    "start_time": "2022-07-30T19:00:46.685Z"
   },
   {
    "duration": 51,
    "start_time": "2022-07-30T19:00:46.695Z"
   },
   {
    "duration": 5,
    "start_time": "2022-07-30T19:00:46.748Z"
   },
   {
    "duration": 13,
    "start_time": "2022-07-30T19:00:46.755Z"
   },
   {
    "duration": 14,
    "start_time": "2022-07-30T19:00:46.769Z"
   },
   {
    "duration": 11,
    "start_time": "2022-07-30T19:00:46.784Z"
   },
   {
    "duration": 8,
    "start_time": "2022-07-30T19:00:46.825Z"
   },
   {
    "duration": 18,
    "start_time": "2022-07-30T19:00:46.834Z"
   },
   {
    "duration": 5,
    "start_time": "2022-07-30T19:00:46.853Z"
   },
   {
    "duration": 23,
    "start_time": "2022-07-30T19:00:46.860Z"
   },
   {
    "duration": 162,
    "start_time": "2022-07-30T19:00:46.884Z"
   },
   {
    "duration": 14,
    "start_time": "2022-07-30T19:00:47.048Z"
   },
   {
    "duration": 65,
    "start_time": "2022-07-30T19:00:47.064Z"
   },
   {
    "duration": 119,
    "start_time": "2022-07-30T19:00:47.132Z"
   },
   {
    "duration": 241,
    "start_time": "2022-07-30T19:00:47.255Z"
   },
   {
    "duration": 202,
    "start_time": "2022-07-30T19:00:47.498Z"
   },
   {
    "duration": 293,
    "start_time": "2022-07-30T19:00:47.702Z"
   },
   {
    "duration": 308,
    "start_time": "2022-07-30T19:00:47.997Z"
   },
   {
    "duration": 20,
    "start_time": "2022-07-30T19:00:48.307Z"
   },
   {
    "duration": 18,
    "start_time": "2022-07-30T19:00:48.329Z"
   },
   {
    "duration": 15,
    "start_time": "2022-07-30T19:00:48.349Z"
   },
   {
    "duration": 157,
    "start_time": "2022-07-30T19:00:48.365Z"
   },
   {
    "duration": 12,
    "start_time": "2022-07-30T19:00:48.524Z"
   },
   {
    "duration": 87,
    "start_time": "2022-07-30T19:00:48.538Z"
   },
   {
    "duration": 23,
    "start_time": "2022-07-30T19:00:48.627Z"
   },
   {
    "duration": 5,
    "start_time": "2022-07-30T19:00:48.652Z"
   },
   {
    "duration": 20,
    "start_time": "2022-07-30T19:00:48.659Z"
   },
   {
    "duration": 138,
    "start_time": "2022-07-30T19:01:24.760Z"
   },
   {
    "duration": 27,
    "start_time": "2022-07-30T19:01:28.993Z"
   },
   {
    "duration": 1132,
    "start_time": "2022-07-30T19:01:43.455Z"
   },
   {
    "duration": 591,
    "start_time": "2022-07-30T19:01:44.589Z"
   },
   {
    "duration": 110,
    "start_time": "2022-07-30T19:01:45.182Z"
   },
   {
    "duration": 33,
    "start_time": "2022-07-30T19:01:45.294Z"
   },
   {
    "duration": 42,
    "start_time": "2022-07-30T19:01:45.329Z"
   },
   {
    "duration": 187,
    "start_time": "2022-07-30T19:01:45.373Z"
   },
   {
    "duration": 28,
    "start_time": "2022-07-30T19:01:45.562Z"
   },
   {
    "duration": 5,
    "start_time": "2022-07-30T19:01:45.591Z"
   },
   {
    "duration": 9,
    "start_time": "2022-07-30T19:01:45.598Z"
   },
   {
    "duration": 110,
    "start_time": "2022-07-30T19:01:45.610Z"
   },
   {
    "duration": 50,
    "start_time": "2022-07-30T19:01:45.721Z"
   },
   {
    "duration": 39,
    "start_time": "2022-07-30T19:01:45.773Z"
   },
   {
    "duration": 19,
    "start_time": "2022-07-30T19:01:45.814Z"
   },
   {
    "duration": 8,
    "start_time": "2022-07-30T19:01:45.835Z"
   },
   {
    "duration": 32,
    "start_time": "2022-07-30T19:01:45.845Z"
   },
   {
    "duration": 6,
    "start_time": "2022-07-30T19:01:45.878Z"
   },
   {
    "duration": 42,
    "start_time": "2022-07-30T19:01:45.886Z"
   },
   {
    "duration": 14,
    "start_time": "2022-07-30T19:01:45.930Z"
   },
   {
    "duration": 11,
    "start_time": "2022-07-30T19:01:45.946Z"
   },
   {
    "duration": 7,
    "start_time": "2022-07-30T19:01:45.959Z"
   },
   {
    "duration": 14,
    "start_time": "2022-07-30T19:01:45.968Z"
   },
   {
    "duration": 5,
    "start_time": "2022-07-30T19:01:45.984Z"
   },
   {
    "duration": 30,
    "start_time": "2022-07-30T19:01:46.024Z"
   },
   {
    "duration": 183,
    "start_time": "2022-07-30T19:01:46.056Z"
   },
   {
    "duration": 8,
    "start_time": "2022-07-30T19:01:46.240Z"
   },
   {
    "duration": 28,
    "start_time": "2022-07-30T19:01:46.249Z"
   },
   {
    "duration": 48,
    "start_time": "2022-07-30T19:01:46.278Z"
   },
   {
    "duration": 208,
    "start_time": "2022-07-30T19:01:46.329Z"
   },
   {
    "duration": 197,
    "start_time": "2022-07-30T19:01:46.538Z"
   },
   {
    "duration": 289,
    "start_time": "2022-07-30T19:01:46.737Z"
   },
   {
    "duration": 372,
    "start_time": "2022-07-30T19:01:47.028Z"
   },
   {
    "duration": 10,
    "start_time": "2022-07-30T19:01:47.402Z"
   },
   {
    "duration": 26,
    "start_time": "2022-07-30T19:01:47.413Z"
   },
   {
    "duration": 14,
    "start_time": "2022-07-30T19:01:47.441Z"
   },
   {
    "duration": 147,
    "start_time": "2022-07-30T19:01:47.456Z"
   },
   {
    "duration": 11,
    "start_time": "2022-07-30T19:01:47.604Z"
   },
   {
    "duration": 37,
    "start_time": "2022-07-30T19:01:47.616Z"
   },
   {
    "duration": 14,
    "start_time": "2022-07-30T19:01:47.655Z"
   },
   {
    "duration": 7,
    "start_time": "2022-07-30T19:01:47.723Z"
   },
   {
    "duration": 24,
    "start_time": "2022-07-30T19:01:47.732Z"
   },
   {
    "duration": 7,
    "start_time": "2022-07-30T19:02:39.813Z"
   },
   {
    "duration": 9,
    "start_time": "2022-07-30T19:02:46.477Z"
   },
   {
    "duration": 1096,
    "start_time": "2022-07-30T19:02:58.262Z"
   },
   {
    "duration": 600,
    "start_time": "2022-07-30T19:02:59.360Z"
   },
   {
    "duration": 116,
    "start_time": "2022-07-30T19:02:59.961Z"
   },
   {
    "duration": 25,
    "start_time": "2022-07-30T19:03:00.079Z"
   },
   {
    "duration": 40,
    "start_time": "2022-07-30T19:03:00.124Z"
   },
   {
    "duration": 190,
    "start_time": "2022-07-30T19:03:00.165Z"
   },
   {
    "duration": 27,
    "start_time": "2022-07-30T19:03:00.357Z"
   },
   {
    "duration": 4,
    "start_time": "2022-07-30T19:03:00.386Z"
   },
   {
    "duration": 19,
    "start_time": "2022-07-30T19:03:00.392Z"
   },
   {
    "duration": 124,
    "start_time": "2022-07-30T19:03:00.412Z"
   },
   {
    "duration": 53,
    "start_time": "2022-07-30T19:03:00.537Z"
   },
   {
    "duration": 51,
    "start_time": "2022-07-30T19:03:00.591Z"
   },
   {
    "duration": 12,
    "start_time": "2022-07-30T19:03:00.644Z"
   },
   {
    "duration": 15,
    "start_time": "2022-07-30T19:03:00.660Z"
   },
   {
    "duration": 48,
    "start_time": "2022-07-30T19:03:00.676Z"
   },
   {
    "duration": 7,
    "start_time": "2022-07-30T19:03:00.725Z"
   },
   {
    "duration": 19,
    "start_time": "2022-07-30T19:03:00.733Z"
   },
   {
    "duration": 18,
    "start_time": "2022-07-30T19:03:00.754Z"
   },
   {
    "duration": 12,
    "start_time": "2022-07-30T19:03:00.774Z"
   },
   {
    "duration": 22,
    "start_time": "2022-07-30T19:03:00.787Z"
   },
   {
    "duration": 55,
    "start_time": "2022-07-30T19:03:00.810Z"
   },
   {
    "duration": 15,
    "start_time": "2022-07-30T19:03:00.867Z"
   },
   {
    "duration": 23,
    "start_time": "2022-07-30T19:03:00.884Z"
   },
   {
    "duration": 38,
    "start_time": "2022-07-30T19:03:00.909Z"
   },
   {
    "duration": 150,
    "start_time": "2022-07-30T19:03:00.948Z"
   },
   {
    "duration": 7,
    "start_time": "2022-07-30T19:03:01.099Z"
   },
   {
    "duration": 34,
    "start_time": "2022-07-30T19:03:01.107Z"
   },
   {
    "duration": 44,
    "start_time": "2022-07-30T19:03:01.143Z"
   },
   {
    "duration": 206,
    "start_time": "2022-07-30T19:03:01.189Z"
   },
   {
    "duration": 211,
    "start_time": "2022-07-30T19:03:01.397Z"
   },
   {
    "duration": 324,
    "start_time": "2022-07-30T19:03:01.610Z"
   },
   {
    "duration": 319,
    "start_time": "2022-07-30T19:03:01.936Z"
   },
   {
    "duration": 11,
    "start_time": "2022-07-30T19:03:02.257Z"
   },
   {
    "duration": 18,
    "start_time": "2022-07-30T19:03:02.269Z"
   },
   {
    "duration": 36,
    "start_time": "2022-07-30T19:03:02.289Z"
   },
   {
    "duration": 129,
    "start_time": "2022-07-30T19:03:02.326Z"
   },
   {
    "duration": 12,
    "start_time": "2022-07-30T19:03:02.457Z"
   },
   {
    "duration": 70,
    "start_time": "2022-07-30T19:03:02.470Z"
   },
   {
    "duration": 15,
    "start_time": "2022-07-30T19:03:02.541Z"
   },
   {
    "duration": 5,
    "start_time": "2022-07-30T19:03:02.558Z"
   },
   {
    "duration": 73,
    "start_time": "2022-07-30T19:03:02.567Z"
   },
   {
    "duration": 22,
    "start_time": "2022-07-30T19:03:53.334Z"
   },
   {
    "duration": 7,
    "start_time": "2022-07-30T19:06:37.090Z"
   },
   {
    "duration": 27,
    "start_time": "2022-07-30T19:07:38.721Z"
   },
   {
    "duration": 110,
    "start_time": "2022-07-30T19:24:13.868Z"
   },
   {
    "duration": 14,
    "start_time": "2022-07-30T19:24:35.446Z"
   },
   {
    "duration": 5,
    "start_time": "2022-07-30T19:24:41.340Z"
   },
   {
    "duration": 16,
    "start_time": "2022-07-30T19:32:45.348Z"
   },
   {
    "duration": 819,
    "start_time": "2022-07-30T19:33:23.247Z"
   },
   {
    "duration": 11,
    "start_time": "2022-07-30T19:33:54.276Z"
   },
   {
    "duration": 4,
    "start_time": "2022-07-30T19:34:02.338Z"
   },
   {
    "duration": 8,
    "start_time": "2022-07-30T19:35:04.164Z"
   },
   {
    "duration": 12,
    "start_time": "2022-07-30T19:35:27.637Z"
   },
   {
    "duration": 1153,
    "start_time": "2022-07-30T19:35:56.274Z"
   },
   {
    "duration": 574,
    "start_time": "2022-07-30T19:35:57.429Z"
   },
   {
    "duration": 112,
    "start_time": "2022-07-30T19:35:58.004Z"
   },
   {
    "duration": 25,
    "start_time": "2022-07-30T19:35:58.123Z"
   },
   {
    "duration": 43,
    "start_time": "2022-07-30T19:35:58.150Z"
   },
   {
    "duration": 193,
    "start_time": "2022-07-30T19:35:58.195Z"
   },
   {
    "duration": 28,
    "start_time": "2022-07-30T19:35:58.389Z"
   },
   {
    "duration": 5,
    "start_time": "2022-07-30T19:35:58.424Z"
   },
   {
    "duration": 13,
    "start_time": "2022-07-30T19:35:58.431Z"
   },
   {
    "duration": 100,
    "start_time": "2022-07-30T19:35:58.447Z"
   },
   {
    "duration": 49,
    "start_time": "2022-07-30T19:35:58.548Z"
   },
   {
    "duration": 48,
    "start_time": "2022-07-30T19:35:58.599Z"
   },
   {
    "duration": 13,
    "start_time": "2022-07-30T19:35:58.648Z"
   },
   {
    "duration": 8,
    "start_time": "2022-07-30T19:35:58.663Z"
   },
   {
    "duration": 54,
    "start_time": "2022-07-30T19:35:58.673Z"
   },
   {
    "duration": 6,
    "start_time": "2022-07-30T19:35:58.728Z"
   },
   {
    "duration": 13,
    "start_time": "2022-07-30T19:35:58.735Z"
   },
   {
    "duration": 13,
    "start_time": "2022-07-30T19:35:58.750Z"
   },
   {
    "duration": 10,
    "start_time": "2022-07-30T19:35:58.765Z"
   },
   {
    "duration": 48,
    "start_time": "2022-07-30T19:35:58.776Z"
   },
   {
    "duration": 23,
    "start_time": "2022-07-30T19:35:58.825Z"
   },
   {
    "duration": 7,
    "start_time": "2022-07-30T19:35:58.849Z"
   },
   {
    "duration": 15,
    "start_time": "2022-07-30T19:35:58.858Z"
   },
   {
    "duration": 5,
    "start_time": "2022-07-30T19:35:58.875Z"
   },
   {
    "duration": 156,
    "start_time": "2022-07-30T19:35:58.881Z"
   },
   {
    "duration": 8,
    "start_time": "2022-07-30T19:35:59.039Z"
   },
   {
    "duration": 21,
    "start_time": "2022-07-30T19:35:59.049Z"
   },
   {
    "duration": 56,
    "start_time": "2022-07-30T19:35:59.074Z"
   },
   {
    "duration": 106,
    "start_time": "2022-07-30T19:35:59.132Z"
   },
   {
    "duration": 0,
    "start_time": "2022-07-30T19:35:59.240Z"
   },
   {
    "duration": 1,
    "start_time": "2022-07-30T19:35:59.241Z"
   },
   {
    "duration": 0,
    "start_time": "2022-07-30T19:35:59.243Z"
   },
   {
    "duration": 1,
    "start_time": "2022-07-30T19:35:59.244Z"
   },
   {
    "duration": 0,
    "start_time": "2022-07-30T19:35:59.246Z"
   },
   {
    "duration": 0,
    "start_time": "2022-07-30T19:35:59.248Z"
   },
   {
    "duration": 0,
    "start_time": "2022-07-30T19:35:59.249Z"
   },
   {
    "duration": 0,
    "start_time": "2022-07-30T19:35:59.251Z"
   },
   {
    "duration": 0,
    "start_time": "2022-07-30T19:35:59.252Z"
   },
   {
    "duration": 0,
    "start_time": "2022-07-30T19:35:59.254Z"
   },
   {
    "duration": 0,
    "start_time": "2022-07-30T19:35:59.255Z"
   },
   {
    "duration": 0,
    "start_time": "2022-07-30T19:35:59.256Z"
   },
   {
    "duration": 0,
    "start_time": "2022-07-30T19:35:59.258Z"
   },
   {
    "duration": 0,
    "start_time": "2022-07-30T19:35:59.259Z"
   },
   {
    "duration": 1146,
    "start_time": "2022-07-30T19:37:08.311Z"
   },
   {
    "duration": 577,
    "start_time": "2022-07-30T19:37:09.459Z"
   },
   {
    "duration": 114,
    "start_time": "2022-07-30T19:37:10.038Z"
   },
   {
    "duration": 26,
    "start_time": "2022-07-30T19:37:10.153Z"
   },
   {
    "duration": 55,
    "start_time": "2022-07-30T19:37:10.182Z"
   },
   {
    "duration": 181,
    "start_time": "2022-07-30T19:37:10.238Z"
   },
   {
    "duration": 27,
    "start_time": "2022-07-30T19:37:10.420Z"
   },
   {
    "duration": 4,
    "start_time": "2022-07-30T19:37:10.449Z"
   },
   {
    "duration": 10,
    "start_time": "2022-07-30T19:37:10.454Z"
   },
   {
    "duration": 88,
    "start_time": "2022-07-30T19:37:10.466Z"
   },
   {
    "duration": 51,
    "start_time": "2022-07-30T19:37:10.556Z"
   },
   {
    "duration": 53,
    "start_time": "2022-07-30T19:37:10.623Z"
   },
   {
    "duration": 14,
    "start_time": "2022-07-30T19:37:10.678Z"
   },
   {
    "duration": 12,
    "start_time": "2022-07-30T19:37:10.695Z"
   },
   {
    "duration": 39,
    "start_time": "2022-07-30T19:37:10.709Z"
   },
   {
    "duration": 6,
    "start_time": "2022-07-30T19:37:10.750Z"
   },
   {
    "duration": 13,
    "start_time": "2022-07-30T19:37:10.758Z"
   },
   {
    "duration": 13,
    "start_time": "2022-07-30T19:37:10.773Z"
   },
   {
    "duration": 44,
    "start_time": "2022-07-30T19:37:10.788Z"
   },
   {
    "duration": 11,
    "start_time": "2022-07-30T19:37:10.834Z"
   },
   {
    "duration": 22,
    "start_time": "2022-07-30T19:37:10.847Z"
   },
   {
    "duration": 9,
    "start_time": "2022-07-30T19:37:10.871Z"
   },
   {
    "duration": 43,
    "start_time": "2022-07-30T19:37:10.882Z"
   },
   {
    "duration": 6,
    "start_time": "2022-07-30T19:37:10.927Z"
   },
   {
    "duration": 150,
    "start_time": "2022-07-30T19:37:10.935Z"
   },
   {
    "duration": 6,
    "start_time": "2022-07-30T19:37:11.086Z"
   },
   {
    "duration": 37,
    "start_time": "2022-07-30T19:37:11.094Z"
   },
   {
    "duration": 27,
    "start_time": "2022-07-30T19:37:11.133Z"
   },
   {
    "duration": 108,
    "start_time": "2022-07-30T19:37:11.162Z"
   },
   {
    "duration": 0,
    "start_time": "2022-07-30T19:37:11.271Z"
   },
   {
    "duration": 0,
    "start_time": "2022-07-30T19:37:11.272Z"
   },
   {
    "duration": 0,
    "start_time": "2022-07-30T19:37:11.273Z"
   },
   {
    "duration": 0,
    "start_time": "2022-07-30T19:37:11.275Z"
   },
   {
    "duration": 0,
    "start_time": "2022-07-30T19:37:11.275Z"
   },
   {
    "duration": 0,
    "start_time": "2022-07-30T19:37:11.276Z"
   },
   {
    "duration": 0,
    "start_time": "2022-07-30T19:37:11.277Z"
   },
   {
    "duration": 0,
    "start_time": "2022-07-30T19:37:11.278Z"
   },
   {
    "duration": 0,
    "start_time": "2022-07-30T19:37:11.279Z"
   },
   {
    "duration": 0,
    "start_time": "2022-07-30T19:37:11.281Z"
   },
   {
    "duration": 0,
    "start_time": "2022-07-30T19:37:11.282Z"
   },
   {
    "duration": 0,
    "start_time": "2022-07-30T19:37:11.283Z"
   },
   {
    "duration": 0,
    "start_time": "2022-07-30T19:37:11.284Z"
   },
   {
    "duration": 0,
    "start_time": "2022-07-30T19:37:11.285Z"
   },
   {
    "duration": 13,
    "start_time": "2022-07-30T19:37:34.355Z"
   },
   {
    "duration": 13,
    "start_time": "2022-07-30T19:37:38.563Z"
   },
   {
    "duration": 11,
    "start_time": "2022-07-30T19:37:44.947Z"
   },
   {
    "duration": 1203,
    "start_time": "2022-07-30T19:37:56.217Z"
   },
   {
    "duration": 567,
    "start_time": "2022-07-30T19:37:57.424Z"
   },
   {
    "duration": 110,
    "start_time": "2022-07-30T19:37:57.992Z"
   },
   {
    "duration": 37,
    "start_time": "2022-07-30T19:37:58.104Z"
   },
   {
    "duration": 41,
    "start_time": "2022-07-30T19:37:58.142Z"
   },
   {
    "duration": 186,
    "start_time": "2022-07-30T19:37:58.185Z"
   },
   {
    "duration": 29,
    "start_time": "2022-07-30T19:37:58.372Z"
   },
   {
    "duration": 6,
    "start_time": "2022-07-30T19:37:58.403Z"
   },
   {
    "duration": 15,
    "start_time": "2022-07-30T19:37:58.412Z"
   },
   {
    "duration": 87,
    "start_time": "2022-07-30T19:37:58.430Z"
   },
   {
    "duration": 51,
    "start_time": "2022-07-30T19:37:58.518Z"
   },
   {
    "duration": 48,
    "start_time": "2022-07-30T19:37:58.570Z"
   },
   {
    "duration": 12,
    "start_time": "2022-07-30T19:37:58.619Z"
   },
   {
    "duration": 8,
    "start_time": "2022-07-30T19:37:58.633Z"
   },
   {
    "duration": 32,
    "start_time": "2022-07-30T19:37:58.643Z"
   },
   {
    "duration": 5,
    "start_time": "2022-07-30T19:37:58.676Z"
   },
   {
    "duration": 41,
    "start_time": "2022-07-30T19:37:58.683Z"
   },
   {
    "duration": 14,
    "start_time": "2022-07-30T19:37:58.726Z"
   },
   {
    "duration": 11,
    "start_time": "2022-07-30T19:37:58.741Z"
   },
   {
    "duration": 14,
    "start_time": "2022-07-30T19:37:58.754Z"
   },
   {
    "duration": 23,
    "start_time": "2022-07-30T19:37:58.769Z"
   },
   {
    "duration": 8,
    "start_time": "2022-07-30T19:37:58.823Z"
   },
   {
    "duration": 16,
    "start_time": "2022-07-30T19:37:58.833Z"
   },
   {
    "duration": 5,
    "start_time": "2022-07-30T19:37:58.851Z"
   },
   {
    "duration": 158,
    "start_time": "2022-07-30T19:37:58.858Z"
   },
   {
    "duration": 10,
    "start_time": "2022-07-30T19:37:59.017Z"
   },
   {
    "duration": 23,
    "start_time": "2022-07-30T19:37:59.029Z"
   },
   {
    "duration": 33,
    "start_time": "2022-07-30T19:37:59.055Z"
   },
   {
    "duration": 124,
    "start_time": "2022-07-30T19:37:59.089Z"
   },
   {
    "duration": 0,
    "start_time": "2022-07-30T19:37:59.215Z"
   },
   {
    "duration": 0,
    "start_time": "2022-07-30T19:37:59.224Z"
   },
   {
    "duration": 0,
    "start_time": "2022-07-30T19:37:59.225Z"
   },
   {
    "duration": 0,
    "start_time": "2022-07-30T19:37:59.226Z"
   },
   {
    "duration": 0,
    "start_time": "2022-07-30T19:37:59.227Z"
   },
   {
    "duration": 0,
    "start_time": "2022-07-30T19:37:59.228Z"
   },
   {
    "duration": 0,
    "start_time": "2022-07-30T19:37:59.229Z"
   },
   {
    "duration": 0,
    "start_time": "2022-07-30T19:37:59.231Z"
   },
   {
    "duration": 0,
    "start_time": "2022-07-30T19:37:59.232Z"
   },
   {
    "duration": 0,
    "start_time": "2022-07-30T19:37:59.233Z"
   },
   {
    "duration": 0,
    "start_time": "2022-07-30T19:37:59.234Z"
   },
   {
    "duration": 0,
    "start_time": "2022-07-30T19:37:59.235Z"
   },
   {
    "duration": 0,
    "start_time": "2022-07-30T19:37:59.236Z"
   },
   {
    "duration": 0,
    "start_time": "2022-07-30T19:37:59.236Z"
   },
   {
    "duration": 11,
    "start_time": "2022-07-30T19:38:58.952Z"
   },
   {
    "duration": 1211,
    "start_time": "2022-07-30T19:39:26.144Z"
   },
   {
    "duration": 585,
    "start_time": "2022-07-30T19:39:27.359Z"
   },
   {
    "duration": 112,
    "start_time": "2022-07-30T19:39:27.946Z"
   },
   {
    "duration": 26,
    "start_time": "2022-07-30T19:39:28.060Z"
   },
   {
    "duration": 60,
    "start_time": "2022-07-30T19:39:28.090Z"
   },
   {
    "duration": 198,
    "start_time": "2022-07-30T19:39:28.152Z"
   },
   {
    "duration": 29,
    "start_time": "2022-07-30T19:39:28.352Z"
   },
   {
    "duration": 5,
    "start_time": "2022-07-30T19:39:28.384Z"
   },
   {
    "duration": 10,
    "start_time": "2022-07-30T19:39:28.391Z"
   },
   {
    "duration": 120,
    "start_time": "2022-07-30T19:39:28.403Z"
   },
   {
    "duration": 53,
    "start_time": "2022-07-30T19:39:28.525Z"
   },
   {
    "duration": 48,
    "start_time": "2022-07-30T19:39:28.579Z"
   },
   {
    "duration": 11,
    "start_time": "2022-07-30T19:39:28.629Z"
   },
   {
    "duration": 9,
    "start_time": "2022-07-30T19:39:28.644Z"
   },
   {
    "duration": 39,
    "start_time": "2022-07-30T19:39:28.655Z"
   },
   {
    "duration": 32,
    "start_time": "2022-07-30T19:39:28.695Z"
   },
   {
    "duration": 27,
    "start_time": "2022-07-30T19:39:28.729Z"
   },
   {
    "duration": 17,
    "start_time": "2022-07-30T19:39:28.759Z"
   },
   {
    "duration": 13,
    "start_time": "2022-07-30T19:39:28.779Z"
   },
   {
    "duration": 51,
    "start_time": "2022-07-30T19:39:28.794Z"
   },
   {
    "duration": 25,
    "start_time": "2022-07-30T19:39:28.847Z"
   },
   {
    "duration": 8,
    "start_time": "2022-07-30T19:39:28.873Z"
   },
   {
    "duration": 48,
    "start_time": "2022-07-30T19:39:28.883Z"
   },
   {
    "duration": 5,
    "start_time": "2022-07-30T19:39:28.933Z"
   },
   {
    "duration": 163,
    "start_time": "2022-07-30T19:39:28.939Z"
   },
   {
    "duration": 20,
    "start_time": "2022-07-30T19:39:29.104Z"
   },
   {
    "duration": 22,
    "start_time": "2022-07-30T19:39:29.125Z"
   },
   {
    "duration": 46,
    "start_time": "2022-07-30T19:39:29.149Z"
   },
   {
    "duration": 132,
    "start_time": "2022-07-30T19:39:29.197Z"
   },
   {
    "duration": 0,
    "start_time": "2022-07-30T19:39:29.331Z"
   },
   {
    "duration": 0,
    "start_time": "2022-07-30T19:39:29.332Z"
   },
   {
    "duration": 0,
    "start_time": "2022-07-30T19:39:29.333Z"
   },
   {
    "duration": 0,
    "start_time": "2022-07-30T19:39:29.335Z"
   },
   {
    "duration": 0,
    "start_time": "2022-07-30T19:39:29.336Z"
   },
   {
    "duration": 0,
    "start_time": "2022-07-30T19:39:29.336Z"
   },
   {
    "duration": 0,
    "start_time": "2022-07-30T19:39:29.337Z"
   },
   {
    "duration": 0,
    "start_time": "2022-07-30T19:39:29.339Z"
   },
   {
    "duration": 0,
    "start_time": "2022-07-30T19:39:29.340Z"
   },
   {
    "duration": 0,
    "start_time": "2022-07-30T19:39:29.341Z"
   },
   {
    "duration": 0,
    "start_time": "2022-07-30T19:39:29.343Z"
   },
   {
    "duration": 0,
    "start_time": "2022-07-30T19:39:29.344Z"
   },
   {
    "duration": 0,
    "start_time": "2022-07-30T19:39:29.345Z"
   },
   {
    "duration": 0,
    "start_time": "2022-07-30T19:39:29.346Z"
   },
   {
    "duration": 20,
    "start_time": "2022-07-30T19:42:22.445Z"
   },
   {
    "duration": 12,
    "start_time": "2022-07-30T19:45:29.542Z"
   },
   {
    "duration": 42,
    "start_time": "2022-07-30T19:46:05.494Z"
   },
   {
    "duration": 18,
    "start_time": "2022-07-30T19:46:52.839Z"
   },
   {
    "duration": 18,
    "start_time": "2022-07-30T19:47:18.772Z"
   },
   {
    "duration": 17,
    "start_time": "2022-07-30T19:47:28.850Z"
   },
   {
    "duration": 1101,
    "start_time": "2022-07-30T19:47:39.672Z"
   },
   {
    "duration": 606,
    "start_time": "2022-07-30T19:47:40.775Z"
   },
   {
    "duration": 121,
    "start_time": "2022-07-30T19:47:41.383Z"
   },
   {
    "duration": 40,
    "start_time": "2022-07-30T19:47:41.506Z"
   },
   {
    "duration": 40,
    "start_time": "2022-07-30T19:47:41.548Z"
   },
   {
    "duration": 189,
    "start_time": "2022-07-30T19:47:41.590Z"
   },
   {
    "duration": 27,
    "start_time": "2022-07-30T19:47:41.781Z"
   },
   {
    "duration": 5,
    "start_time": "2022-07-30T19:47:41.810Z"
   },
   {
    "duration": 18,
    "start_time": "2022-07-30T19:47:41.823Z"
   },
   {
    "duration": 111,
    "start_time": "2022-07-30T19:47:41.842Z"
   },
   {
    "duration": 51,
    "start_time": "2022-07-30T19:47:41.955Z"
   },
   {
    "duration": 47,
    "start_time": "2022-07-30T19:47:42.008Z"
   },
   {
    "duration": 13,
    "start_time": "2022-07-30T19:47:42.056Z"
   },
   {
    "duration": 8,
    "start_time": "2022-07-30T19:47:42.072Z"
   },
   {
    "duration": 69,
    "start_time": "2022-07-30T19:47:42.082Z"
   },
   {
    "duration": 6,
    "start_time": "2022-07-30T19:47:42.153Z"
   },
   {
    "duration": 13,
    "start_time": "2022-07-30T19:47:42.161Z"
   },
   {
    "duration": 53,
    "start_time": "2022-07-30T19:47:42.177Z"
   },
   {
    "duration": 16,
    "start_time": "2022-07-30T19:47:42.231Z"
   },
   {
    "duration": 18,
    "start_time": "2022-07-30T19:47:42.249Z"
   },
   {
    "duration": 16,
    "start_time": "2022-07-30T19:47:42.269Z"
   },
   {
    "duration": 48,
    "start_time": "2022-07-30T19:47:42.286Z"
   },
   {
    "duration": 9,
    "start_time": "2022-07-30T19:47:42.338Z"
   },
   {
    "duration": 16,
    "start_time": "2022-07-30T19:47:42.349Z"
   },
   {
    "duration": 4,
    "start_time": "2022-07-30T19:47:42.367Z"
   },
   {
    "duration": 168,
    "start_time": "2022-07-30T19:47:42.373Z"
   },
   {
    "duration": 6,
    "start_time": "2022-07-30T19:47:42.543Z"
   },
   {
    "duration": 24,
    "start_time": "2022-07-30T19:47:42.551Z"
   },
   {
    "duration": 28,
    "start_time": "2022-07-30T19:47:42.576Z"
   },
   {
    "duration": 122,
    "start_time": "2022-07-30T19:47:42.605Z"
   },
   {
    "duration": 0,
    "start_time": "2022-07-30T19:47:42.729Z"
   },
   {
    "duration": 0,
    "start_time": "2022-07-30T19:47:42.729Z"
   },
   {
    "duration": 0,
    "start_time": "2022-07-30T19:47:42.732Z"
   },
   {
    "duration": 0,
    "start_time": "2022-07-30T19:47:42.732Z"
   },
   {
    "duration": 0,
    "start_time": "2022-07-30T19:47:42.733Z"
   },
   {
    "duration": 0,
    "start_time": "2022-07-30T19:47:42.736Z"
   },
   {
    "duration": 0,
    "start_time": "2022-07-30T19:47:42.737Z"
   },
   {
    "duration": 0,
    "start_time": "2022-07-30T19:47:42.738Z"
   },
   {
    "duration": 0,
    "start_time": "2022-07-30T19:47:42.739Z"
   },
   {
    "duration": 0,
    "start_time": "2022-07-30T19:47:42.740Z"
   },
   {
    "duration": 0,
    "start_time": "2022-07-30T19:47:42.741Z"
   },
   {
    "duration": 0,
    "start_time": "2022-07-30T19:47:42.742Z"
   },
   {
    "duration": 0,
    "start_time": "2022-07-30T19:47:42.743Z"
   },
   {
    "duration": 0,
    "start_time": "2022-07-30T19:47:42.744Z"
   },
   {
    "duration": 19,
    "start_time": "2022-07-30T19:51:56.548Z"
   },
   {
    "duration": 7,
    "start_time": "2022-07-30T19:53:55.206Z"
   },
   {
    "duration": 44,
    "start_time": "2022-07-30T19:54:22.407Z"
   },
   {
    "duration": 1171,
    "start_time": "2022-07-30T19:55:05.745Z"
   },
   {
    "duration": 677,
    "start_time": "2022-07-30T19:55:06.918Z"
   },
   {
    "duration": 136,
    "start_time": "2022-07-30T19:55:07.597Z"
   },
   {
    "duration": 34,
    "start_time": "2022-07-30T19:55:07.735Z"
   },
   {
    "duration": 39,
    "start_time": "2022-07-30T19:55:07.771Z"
   },
   {
    "duration": 209,
    "start_time": "2022-07-30T19:55:07.812Z"
   },
   {
    "duration": 48,
    "start_time": "2022-07-30T19:55:08.023Z"
   },
   {
    "duration": 5,
    "start_time": "2022-07-30T19:55:08.072Z"
   },
   {
    "duration": 9,
    "start_time": "2022-07-30T19:55:08.079Z"
   },
   {
    "duration": 100,
    "start_time": "2022-07-30T19:55:08.089Z"
   },
   {
    "duration": 66,
    "start_time": "2022-07-30T19:55:08.191Z"
   },
   {
    "duration": 40,
    "start_time": "2022-07-30T19:55:08.258Z"
   },
   {
    "duration": 12,
    "start_time": "2022-07-30T19:55:08.300Z"
   },
   {
    "duration": 17,
    "start_time": "2022-07-30T19:55:08.323Z"
   },
   {
    "duration": 32,
    "start_time": "2022-07-30T19:55:08.342Z"
   },
   {
    "duration": 5,
    "start_time": "2022-07-30T19:55:08.376Z"
   },
   {
    "duration": 17,
    "start_time": "2022-07-30T19:55:08.382Z"
   },
   {
    "duration": 48,
    "start_time": "2022-07-30T19:55:08.401Z"
   },
   {
    "duration": 10,
    "start_time": "2022-07-30T19:55:08.451Z"
   },
   {
    "duration": 10,
    "start_time": "2022-07-30T19:55:08.463Z"
   },
   {
    "duration": 13,
    "start_time": "2022-07-30T19:55:08.475Z"
   },
   {
    "duration": 13,
    "start_time": "2022-07-30T19:55:08.490Z"
   },
   {
    "duration": 38,
    "start_time": "2022-07-30T19:55:08.504Z"
   },
   {
    "duration": 21,
    "start_time": "2022-07-30T19:55:08.544Z"
   },
   {
    "duration": 5,
    "start_time": "2022-07-30T19:55:08.567Z"
   },
   {
    "duration": 158,
    "start_time": "2022-07-30T19:55:08.573Z"
   },
   {
    "duration": 10,
    "start_time": "2022-07-30T19:55:08.734Z"
   },
   {
    "duration": 31,
    "start_time": "2022-07-30T19:55:08.746Z"
   },
   {
    "duration": 28,
    "start_time": "2022-07-30T19:55:08.779Z"
   },
   {
    "duration": 142,
    "start_time": "2022-07-30T19:55:08.809Z"
   },
   {
    "duration": 0,
    "start_time": "2022-07-30T19:55:08.954Z"
   },
   {
    "duration": 0,
    "start_time": "2022-07-30T19:55:08.956Z"
   },
   {
    "duration": 0,
    "start_time": "2022-07-30T19:55:08.958Z"
   },
   {
    "duration": 0,
    "start_time": "2022-07-30T19:55:08.959Z"
   },
   {
    "duration": 0,
    "start_time": "2022-07-30T19:55:08.961Z"
   },
   {
    "duration": 0,
    "start_time": "2022-07-30T19:55:08.962Z"
   },
   {
    "duration": 0,
    "start_time": "2022-07-30T19:55:08.964Z"
   },
   {
    "duration": 0,
    "start_time": "2022-07-30T19:55:08.966Z"
   },
   {
    "duration": 0,
    "start_time": "2022-07-30T19:55:08.966Z"
   },
   {
    "duration": 0,
    "start_time": "2022-07-30T19:55:08.968Z"
   },
   {
    "duration": 0,
    "start_time": "2022-07-30T19:55:08.969Z"
   },
   {
    "duration": 0,
    "start_time": "2022-07-30T19:55:08.970Z"
   },
   {
    "duration": 0,
    "start_time": "2022-07-30T19:55:08.971Z"
   },
   {
    "duration": 0,
    "start_time": "2022-07-30T19:55:08.974Z"
   },
   {
    "duration": 14,
    "start_time": "2022-07-30T19:55:59.899Z"
   },
   {
    "duration": 1137,
    "start_time": "2022-07-30T19:56:41.865Z"
   },
   {
    "duration": 692,
    "start_time": "2022-07-30T19:56:43.004Z"
   },
   {
    "duration": 116,
    "start_time": "2022-07-30T19:56:43.698Z"
   },
   {
    "duration": 55,
    "start_time": "2022-07-30T19:56:43.816Z"
   },
   {
    "duration": 43,
    "start_time": "2022-07-30T19:56:43.873Z"
   },
   {
    "duration": 234,
    "start_time": "2022-07-30T19:56:43.918Z"
   },
   {
    "duration": 39,
    "start_time": "2022-07-30T19:56:44.154Z"
   },
   {
    "duration": 4,
    "start_time": "2022-07-30T19:56:44.195Z"
   },
   {
    "duration": 11,
    "start_time": "2022-07-30T19:56:44.201Z"
   },
   {
    "duration": 106,
    "start_time": "2022-07-30T19:56:44.214Z"
   },
   {
    "duration": 81,
    "start_time": "2022-07-30T19:56:44.322Z"
   },
   {
    "duration": 58,
    "start_time": "2022-07-30T19:56:44.405Z"
   },
   {
    "duration": 12,
    "start_time": "2022-07-30T19:56:44.465Z"
   },
   {
    "duration": 8,
    "start_time": "2022-07-30T19:56:44.479Z"
   },
   {
    "duration": 61,
    "start_time": "2022-07-30T19:56:44.489Z"
   },
   {
    "duration": 8,
    "start_time": "2022-07-30T19:56:44.552Z"
   },
   {
    "duration": 14,
    "start_time": "2022-07-30T19:56:44.562Z"
   },
   {
    "duration": 23,
    "start_time": "2022-07-30T19:56:44.578Z"
   },
   {
    "duration": 23,
    "start_time": "2022-07-30T19:56:44.624Z"
   },
   {
    "duration": 22,
    "start_time": "2022-07-30T19:56:44.650Z"
   },
   {
    "duration": 12,
    "start_time": "2022-07-30T19:56:44.674Z"
   },
   {
    "duration": 20,
    "start_time": "2022-07-30T19:56:44.689Z"
   },
   {
    "duration": 41,
    "start_time": "2022-07-30T19:56:44.711Z"
   },
   {
    "duration": 10,
    "start_time": "2022-07-30T19:56:44.754Z"
   },
   {
    "duration": 185,
    "start_time": "2022-07-30T19:56:44.765Z"
   },
   {
    "duration": 8,
    "start_time": "2022-07-30T19:56:44.953Z"
   },
   {
    "duration": 19,
    "start_time": "2022-07-30T19:56:44.963Z"
   },
   {
    "duration": 25,
    "start_time": "2022-07-30T19:56:44.985Z"
   },
   {
    "duration": 127,
    "start_time": "2022-07-30T19:56:45.028Z"
   },
   {
    "duration": 0,
    "start_time": "2022-07-30T19:56:45.157Z"
   },
   {
    "duration": 0,
    "start_time": "2022-07-30T19:56:45.158Z"
   },
   {
    "duration": 0,
    "start_time": "2022-07-30T19:56:45.159Z"
   },
   {
    "duration": 0,
    "start_time": "2022-07-30T19:56:45.161Z"
   },
   {
    "duration": 0,
    "start_time": "2022-07-30T19:56:45.162Z"
   },
   {
    "duration": 0,
    "start_time": "2022-07-30T19:56:45.163Z"
   },
   {
    "duration": 0,
    "start_time": "2022-07-30T19:56:45.164Z"
   },
   {
    "duration": 0,
    "start_time": "2022-07-30T19:56:45.165Z"
   },
   {
    "duration": 0,
    "start_time": "2022-07-30T19:56:45.166Z"
   },
   {
    "duration": 0,
    "start_time": "2022-07-30T19:56:45.167Z"
   },
   {
    "duration": 0,
    "start_time": "2022-07-30T19:56:45.168Z"
   },
   {
    "duration": 0,
    "start_time": "2022-07-30T19:56:45.169Z"
   },
   {
    "duration": 0,
    "start_time": "2022-07-30T19:56:45.170Z"
   },
   {
    "duration": 0,
    "start_time": "2022-07-30T19:56:45.171Z"
   },
   {
    "duration": 1166,
    "start_time": "2022-07-30T19:57:59.794Z"
   },
   {
    "duration": 624,
    "start_time": "2022-07-30T19:58:00.962Z"
   },
   {
    "duration": 116,
    "start_time": "2022-07-30T19:58:01.587Z"
   },
   {
    "duration": 55,
    "start_time": "2022-07-30T19:58:01.705Z"
   },
   {
    "duration": 47,
    "start_time": "2022-07-30T19:58:01.762Z"
   },
   {
    "duration": 231,
    "start_time": "2022-07-30T19:58:01.811Z"
   },
   {
    "duration": 39,
    "start_time": "2022-07-30T19:58:02.044Z"
   },
   {
    "duration": 4,
    "start_time": "2022-07-30T19:58:02.085Z"
   },
   {
    "duration": 11,
    "start_time": "2022-07-30T19:58:02.091Z"
   },
   {
    "duration": 101,
    "start_time": "2022-07-30T19:58:02.105Z"
   },
   {
    "duration": 62,
    "start_time": "2022-07-30T19:58:02.207Z"
   },
   {
    "duration": 42,
    "start_time": "2022-07-30T19:58:02.271Z"
   },
   {
    "duration": 30,
    "start_time": "2022-07-30T19:58:02.315Z"
   },
   {
    "duration": 11,
    "start_time": "2022-07-30T19:58:02.347Z"
   },
   {
    "duration": 49,
    "start_time": "2022-07-30T19:58:02.360Z"
   },
   {
    "duration": 33,
    "start_time": "2022-07-30T19:58:02.411Z"
   },
   {
    "duration": 24,
    "start_time": "2022-07-30T19:58:02.445Z"
   },
   {
    "duration": 16,
    "start_time": "2022-07-30T19:58:02.472Z"
   },
   {
    "duration": 24,
    "start_time": "2022-07-30T19:58:02.490Z"
   },
   {
    "duration": 18,
    "start_time": "2022-07-30T19:58:02.516Z"
   },
   {
    "duration": 19,
    "start_time": "2022-07-30T19:58:02.536Z"
   },
   {
    "duration": 15,
    "start_time": "2022-07-30T19:58:02.557Z"
   },
   {
    "duration": 167,
    "start_time": "2022-07-30T19:58:02.574Z"
   },
   {
    "duration": 7,
    "start_time": "2022-07-30T19:58:02.743Z"
   },
   {
    "duration": 15,
    "start_time": "2022-07-30T19:58:02.751Z"
   },
   {
    "duration": 21,
    "start_time": "2022-07-30T19:58:02.767Z"
   },
   {
    "duration": 48,
    "start_time": "2022-07-30T19:58:02.789Z"
   },
   {
    "duration": 100,
    "start_time": "2022-07-30T19:58:02.841Z"
   },
   {
    "duration": 0,
    "start_time": "2022-07-30T19:58:02.943Z"
   },
   {
    "duration": 0,
    "start_time": "2022-07-30T19:58:02.944Z"
   },
   {
    "duration": 0,
    "start_time": "2022-07-30T19:58:02.944Z"
   },
   {
    "duration": 0,
    "start_time": "2022-07-30T19:58:02.945Z"
   },
   {
    "duration": 0,
    "start_time": "2022-07-30T19:58:02.946Z"
   },
   {
    "duration": 0,
    "start_time": "2022-07-30T19:58:02.947Z"
   },
   {
    "duration": 0,
    "start_time": "2022-07-30T19:58:02.948Z"
   },
   {
    "duration": 0,
    "start_time": "2022-07-30T19:58:02.949Z"
   },
   {
    "duration": 0,
    "start_time": "2022-07-30T19:58:02.950Z"
   },
   {
    "duration": 0,
    "start_time": "2022-07-30T19:58:02.950Z"
   },
   {
    "duration": 1,
    "start_time": "2022-07-30T19:58:02.951Z"
   },
   {
    "duration": 0,
    "start_time": "2022-07-30T19:58:02.952Z"
   },
   {
    "duration": 0,
    "start_time": "2022-07-30T19:58:02.953Z"
   },
   {
    "duration": 0,
    "start_time": "2022-07-30T19:58:02.954Z"
   },
   {
    "duration": 27,
    "start_time": "2022-07-30T19:58:17.214Z"
   },
   {
    "duration": 15,
    "start_time": "2022-07-30T20:04:14.084Z"
   },
   {
    "duration": 22,
    "start_time": "2022-07-30T20:04:18.895Z"
   },
   {
    "duration": 22,
    "start_time": "2022-07-30T20:05:22.650Z"
   },
   {
    "duration": 40,
    "start_time": "2022-07-30T20:12:10.544Z"
   },
   {
    "duration": 25,
    "start_time": "2022-07-30T20:12:22.451Z"
   },
   {
    "duration": 31,
    "start_time": "2022-07-30T20:12:48.665Z"
   },
   {
    "duration": 25,
    "start_time": "2022-07-30T20:13:15.266Z"
   },
   {
    "duration": 51,
    "start_time": "2022-07-30T20:13:44.338Z"
   },
   {
    "duration": 26,
    "start_time": "2022-07-30T20:13:49.250Z"
   },
   {
    "duration": 1201,
    "start_time": "2022-07-30T20:14:36.633Z"
   },
   {
    "duration": 574,
    "start_time": "2022-07-30T20:14:37.836Z"
   },
   {
    "duration": 119,
    "start_time": "2022-07-30T20:14:38.412Z"
   },
   {
    "duration": 26,
    "start_time": "2022-07-30T20:14:38.533Z"
   },
   {
    "duration": 39,
    "start_time": "2022-07-30T20:14:38.562Z"
   },
   {
    "duration": 197,
    "start_time": "2022-07-30T20:14:38.603Z"
   },
   {
    "duration": 29,
    "start_time": "2022-07-30T20:14:38.802Z"
   },
   {
    "duration": 4,
    "start_time": "2022-07-30T20:14:38.832Z"
   },
   {
    "duration": 10,
    "start_time": "2022-07-30T20:14:38.838Z"
   },
   {
    "duration": 114,
    "start_time": "2022-07-30T20:14:38.850Z"
   },
   {
    "duration": 59,
    "start_time": "2022-07-30T20:14:38.966Z"
   },
   {
    "duration": 40,
    "start_time": "2022-07-30T20:14:39.027Z"
   },
   {
    "duration": 10,
    "start_time": "2022-07-30T20:14:39.069Z"
   },
   {
    "duration": 11,
    "start_time": "2022-07-30T20:14:39.082Z"
   },
   {
    "duration": 48,
    "start_time": "2022-07-30T20:14:39.095Z"
   },
   {
    "duration": 7,
    "start_time": "2022-07-30T20:14:39.145Z"
   },
   {
    "duration": 8,
    "start_time": "2022-07-30T20:14:39.154Z"
   },
   {
    "duration": 15,
    "start_time": "2022-07-30T20:14:39.164Z"
   },
   {
    "duration": 43,
    "start_time": "2022-07-30T20:14:39.181Z"
   },
   {
    "duration": 12,
    "start_time": "2022-07-30T20:14:39.225Z"
   },
   {
    "duration": 9,
    "start_time": "2022-07-30T20:14:39.239Z"
   },
   {
    "duration": 12,
    "start_time": "2022-07-30T20:14:39.250Z"
   },
   {
    "duration": 155,
    "start_time": "2022-07-30T20:14:39.263Z"
   },
   {
    "duration": 6,
    "start_time": "2022-07-30T20:14:39.423Z"
   },
   {
    "duration": 29,
    "start_time": "2022-07-30T20:14:39.431Z"
   },
   {
    "duration": 115,
    "start_time": "2022-07-30T20:14:39.461Z"
   },
   {
    "duration": 0,
    "start_time": "2022-07-30T20:14:39.578Z"
   },
   {
    "duration": 0,
    "start_time": "2022-07-30T20:14:39.579Z"
   },
   {
    "duration": 0,
    "start_time": "2022-07-30T20:14:39.580Z"
   },
   {
    "duration": 0,
    "start_time": "2022-07-30T20:14:39.581Z"
   },
   {
    "duration": 0,
    "start_time": "2022-07-30T20:14:39.582Z"
   },
   {
    "duration": 0,
    "start_time": "2022-07-30T20:14:39.583Z"
   },
   {
    "duration": 0,
    "start_time": "2022-07-30T20:14:39.584Z"
   },
   {
    "duration": 0,
    "start_time": "2022-07-30T20:14:39.585Z"
   },
   {
    "duration": 0,
    "start_time": "2022-07-30T20:14:39.586Z"
   },
   {
    "duration": 0,
    "start_time": "2022-07-30T20:14:39.586Z"
   },
   {
    "duration": 0,
    "start_time": "2022-07-30T20:14:39.588Z"
   },
   {
    "duration": 0,
    "start_time": "2022-07-30T20:14:39.589Z"
   },
   {
    "duration": 0,
    "start_time": "2022-07-30T20:14:39.590Z"
   },
   {
    "duration": 0,
    "start_time": "2022-07-30T20:14:39.590Z"
   },
   {
    "duration": 0,
    "start_time": "2022-07-30T20:14:39.591Z"
   },
   {
    "duration": 0,
    "start_time": "2022-07-30T20:14:39.593Z"
   },
   {
    "duration": 0,
    "start_time": "2022-07-30T20:14:39.594Z"
   },
   {
    "duration": 1,
    "start_time": "2022-07-30T20:14:39.594Z"
   },
   {
    "duration": 13,
    "start_time": "2022-07-30T20:15:30.753Z"
   },
   {
    "duration": 29,
    "start_time": "2022-07-30T20:16:23.490Z"
   },
   {
    "duration": 10,
    "start_time": "2022-07-30T20:16:39.753Z"
   },
   {
    "duration": 10,
    "start_time": "2022-07-30T20:16:48.543Z"
   },
   {
    "duration": 10,
    "start_time": "2022-07-30T20:19:58.418Z"
   },
   {
    "duration": 12,
    "start_time": "2022-07-30T20:20:39.923Z"
   },
   {
    "duration": 38,
    "start_time": "2022-07-30T20:26:09.717Z"
   },
   {
    "duration": 21,
    "start_time": "2022-07-30T20:26:47.015Z"
   },
   {
    "duration": 1167,
    "start_time": "2022-07-30T20:28:28.919Z"
   },
   {
    "duration": 638,
    "start_time": "2022-07-30T20:28:30.088Z"
   },
   {
    "duration": 130,
    "start_time": "2022-07-30T20:28:30.728Z"
   },
   {
    "duration": 25,
    "start_time": "2022-07-30T20:28:30.860Z"
   },
   {
    "duration": 69,
    "start_time": "2022-07-30T20:28:30.887Z"
   },
   {
    "duration": 204,
    "start_time": "2022-07-30T20:28:30.958Z"
   },
   {
    "duration": 40,
    "start_time": "2022-07-30T20:28:31.164Z"
   },
   {
    "duration": 5,
    "start_time": "2022-07-30T20:28:31.205Z"
   },
   {
    "duration": 43,
    "start_time": "2022-07-30T20:28:31.211Z"
   },
   {
    "duration": 111,
    "start_time": "2022-07-30T20:28:31.256Z"
   },
   {
    "duration": 71,
    "start_time": "2022-07-30T20:28:31.370Z"
   },
   {
    "duration": 39,
    "start_time": "2022-07-30T20:28:31.443Z"
   },
   {
    "duration": 13,
    "start_time": "2022-07-30T20:28:31.483Z"
   },
   {
    "duration": 9,
    "start_time": "2022-07-30T20:28:31.499Z"
   },
   {
    "duration": 43,
    "start_time": "2022-07-30T20:28:31.524Z"
   },
   {
    "duration": 7,
    "start_time": "2022-07-30T20:28:31.569Z"
   },
   {
    "duration": 12,
    "start_time": "2022-07-30T20:28:31.578Z"
   },
   {
    "duration": 48,
    "start_time": "2022-07-30T20:28:31.592Z"
   },
   {
    "duration": 21,
    "start_time": "2022-07-30T20:28:31.642Z"
   },
   {
    "duration": 13,
    "start_time": "2022-07-30T20:28:31.664Z"
   },
   {
    "duration": 11,
    "start_time": "2022-07-30T20:28:31.679Z"
   },
   {
    "duration": 49,
    "start_time": "2022-07-30T20:28:31.691Z"
   },
   {
    "duration": 169,
    "start_time": "2022-07-30T20:28:31.742Z"
   },
   {
    "duration": 12,
    "start_time": "2022-07-30T20:28:31.913Z"
   },
   {
    "duration": 42,
    "start_time": "2022-07-30T20:28:31.926Z"
   },
   {
    "duration": 14,
    "start_time": "2022-07-30T20:28:31.970Z"
   },
   {
    "duration": 117,
    "start_time": "2022-07-30T20:28:31.986Z"
   },
   {
    "duration": 0,
    "start_time": "2022-07-30T20:28:32.104Z"
   },
   {
    "duration": 0,
    "start_time": "2022-07-30T20:28:32.106Z"
   },
   {
    "duration": 0,
    "start_time": "2022-07-30T20:28:32.107Z"
   },
   {
    "duration": 0,
    "start_time": "2022-07-30T20:28:32.108Z"
   },
   {
    "duration": 0,
    "start_time": "2022-07-30T20:28:32.109Z"
   },
   {
    "duration": 0,
    "start_time": "2022-07-30T20:28:32.124Z"
   },
   {
    "duration": 0,
    "start_time": "2022-07-30T20:28:32.128Z"
   },
   {
    "duration": 0,
    "start_time": "2022-07-30T20:28:32.130Z"
   },
   {
    "duration": 0,
    "start_time": "2022-07-30T20:28:32.131Z"
   },
   {
    "duration": 0,
    "start_time": "2022-07-30T20:28:32.133Z"
   },
   {
    "duration": 0,
    "start_time": "2022-07-30T20:28:32.134Z"
   },
   {
    "duration": 0,
    "start_time": "2022-07-30T20:28:32.135Z"
   },
   {
    "duration": 0,
    "start_time": "2022-07-30T20:28:32.137Z"
   },
   {
    "duration": 0,
    "start_time": "2022-07-30T20:28:32.138Z"
   },
   {
    "duration": 0,
    "start_time": "2022-07-30T20:28:32.140Z"
   },
   {
    "duration": 0,
    "start_time": "2022-07-30T20:28:32.142Z"
   },
   {
    "duration": 0,
    "start_time": "2022-07-30T20:28:32.142Z"
   },
   {
    "duration": 0,
    "start_time": "2022-07-30T20:28:32.143Z"
   },
   {
    "duration": 34,
    "start_time": "2022-07-30T20:29:27.541Z"
   },
   {
    "duration": 16,
    "start_time": "2022-07-30T20:29:30.793Z"
   },
   {
    "duration": 25,
    "start_time": "2022-07-30T20:30:39.370Z"
   },
   {
    "duration": 39,
    "start_time": "2022-07-30T20:30:44.049Z"
   },
   {
    "duration": 41,
    "start_time": "2022-07-30T20:31:02.858Z"
   },
   {
    "duration": 24,
    "start_time": "2022-07-30T20:31:08.322Z"
   },
   {
    "duration": 17,
    "start_time": "2022-07-30T20:32:32.620Z"
   },
   {
    "duration": 1176,
    "start_time": "2022-07-30T20:33:06.181Z"
   },
   {
    "duration": 673,
    "start_time": "2022-07-30T20:33:07.359Z"
   },
   {
    "duration": 127,
    "start_time": "2022-07-30T20:33:08.041Z"
   },
   {
    "duration": 26,
    "start_time": "2022-07-30T20:33:08.170Z"
   },
   {
    "duration": 68,
    "start_time": "2022-07-30T20:33:08.198Z"
   },
   {
    "duration": 205,
    "start_time": "2022-07-30T20:33:08.267Z"
   },
   {
    "duration": 40,
    "start_time": "2022-07-30T20:33:08.474Z"
   },
   {
    "duration": 4,
    "start_time": "2022-07-30T20:33:08.516Z"
   },
   {
    "duration": 28,
    "start_time": "2022-07-30T20:33:08.521Z"
   },
   {
    "duration": 102,
    "start_time": "2022-07-30T20:33:08.550Z"
   },
   {
    "duration": 51,
    "start_time": "2022-07-30T20:33:08.653Z"
   },
   {
    "duration": 55,
    "start_time": "2022-07-30T20:33:08.706Z"
   },
   {
    "duration": 13,
    "start_time": "2022-07-30T20:33:08.763Z"
   },
   {
    "duration": 14,
    "start_time": "2022-07-30T20:33:08.779Z"
   },
   {
    "duration": 71,
    "start_time": "2022-07-30T20:33:08.794Z"
   },
   {
    "duration": 8,
    "start_time": "2022-07-30T20:33:08.867Z"
   },
   {
    "duration": 10,
    "start_time": "2022-07-30T20:33:08.877Z"
   },
   {
    "duration": 36,
    "start_time": "2022-07-30T20:33:08.889Z"
   },
   {
    "duration": 31,
    "start_time": "2022-07-30T20:33:08.927Z"
   },
   {
    "duration": 12,
    "start_time": "2022-07-30T20:33:08.959Z"
   },
   {
    "duration": 12,
    "start_time": "2022-07-30T20:33:08.973Z"
   },
   {
    "duration": 53,
    "start_time": "2022-07-30T20:33:08.987Z"
   },
   {
    "duration": 166,
    "start_time": "2022-07-30T20:33:09.042Z"
   },
   {
    "duration": 15,
    "start_time": "2022-07-30T20:33:09.209Z"
   },
   {
    "duration": 23,
    "start_time": "2022-07-30T20:33:09.226Z"
   },
   {
    "duration": 14,
    "start_time": "2022-07-30T20:33:09.251Z"
   },
   {
    "duration": 18,
    "start_time": "2022-07-30T20:33:09.267Z"
   },
   {
    "duration": 78,
    "start_time": "2022-07-30T20:33:09.287Z"
   },
   {
    "duration": 129,
    "start_time": "2022-07-30T20:33:09.366Z"
   },
   {
    "duration": 0,
    "start_time": "2022-07-30T20:33:09.498Z"
   },
   {
    "duration": 0,
    "start_time": "2022-07-30T20:33:09.499Z"
   },
   {
    "duration": 0,
    "start_time": "2022-07-30T20:33:09.500Z"
   },
   {
    "duration": 0,
    "start_time": "2022-07-30T20:33:09.502Z"
   },
   {
    "duration": 0,
    "start_time": "2022-07-30T20:33:09.503Z"
   },
   {
    "duration": 0,
    "start_time": "2022-07-30T20:33:09.504Z"
   },
   {
    "duration": 0,
    "start_time": "2022-07-30T20:33:09.505Z"
   },
   {
    "duration": 0,
    "start_time": "2022-07-30T20:33:09.507Z"
   },
   {
    "duration": 0,
    "start_time": "2022-07-30T20:33:09.528Z"
   },
   {
    "duration": 0,
    "start_time": "2022-07-30T20:33:09.529Z"
   },
   {
    "duration": 0,
    "start_time": "2022-07-30T20:33:09.531Z"
   },
   {
    "duration": 0,
    "start_time": "2022-07-30T20:33:09.534Z"
   },
   {
    "duration": 0,
    "start_time": "2022-07-30T20:33:09.536Z"
   },
   {
    "duration": 0,
    "start_time": "2022-07-30T20:33:09.537Z"
   },
   {
    "duration": 0,
    "start_time": "2022-07-30T20:33:09.538Z"
   },
   {
    "duration": 0,
    "start_time": "2022-07-30T20:33:09.540Z"
   },
   {
    "duration": 16,
    "start_time": "2022-07-30T20:35:30.678Z"
   },
   {
    "duration": 43,
    "start_time": "2022-07-30T20:36:00.247Z"
   },
   {
    "duration": 17,
    "start_time": "2022-07-30T20:36:02.960Z"
   },
   {
    "duration": 57,
    "start_time": "2022-07-30T20:36:07.218Z"
   },
   {
    "duration": 19,
    "start_time": "2022-07-30T20:36:11.042Z"
   },
   {
    "duration": 30,
    "start_time": "2022-07-30T20:36:59.555Z"
   },
   {
    "duration": 26,
    "start_time": "2022-07-30T20:39:30.979Z"
   },
   {
    "duration": 24,
    "start_time": "2022-07-30T20:39:57.787Z"
   },
   {
    "duration": 1128,
    "start_time": "2022-07-30T20:40:11.137Z"
   },
   {
    "duration": 632,
    "start_time": "2022-07-30T20:40:12.266Z"
   },
   {
    "duration": 136,
    "start_time": "2022-07-30T20:40:12.900Z"
   },
   {
    "duration": 28,
    "start_time": "2022-07-30T20:40:13.039Z"
   },
   {
    "duration": 55,
    "start_time": "2022-07-30T20:40:13.069Z"
   },
   {
    "duration": 195,
    "start_time": "2022-07-30T20:40:13.126Z"
   },
   {
    "duration": 41,
    "start_time": "2022-07-30T20:40:13.323Z"
   },
   {
    "duration": 5,
    "start_time": "2022-07-30T20:40:13.366Z"
   },
   {
    "duration": 11,
    "start_time": "2022-07-30T20:40:13.372Z"
   },
   {
    "duration": 107,
    "start_time": "2022-07-30T20:40:13.385Z"
   },
   {
    "duration": 65,
    "start_time": "2022-07-30T20:40:13.494Z"
   },
   {
    "duration": 39,
    "start_time": "2022-07-30T20:40:13.561Z"
   },
   {
    "duration": 11,
    "start_time": "2022-07-30T20:40:13.602Z"
   },
   {
    "duration": 13,
    "start_time": "2022-07-30T20:40:13.624Z"
   },
   {
    "duration": 33,
    "start_time": "2022-07-30T20:40:13.639Z"
   },
   {
    "duration": 6,
    "start_time": "2022-07-30T20:40:13.673Z"
   },
   {
    "duration": 10,
    "start_time": "2022-07-30T20:40:13.681Z"
   },
   {
    "duration": 45,
    "start_time": "2022-07-30T20:40:13.693Z"
   },
   {
    "duration": 18,
    "start_time": "2022-07-30T20:40:13.740Z"
   },
   {
    "duration": 11,
    "start_time": "2022-07-30T20:40:13.760Z"
   },
   {
    "duration": 11,
    "start_time": "2022-07-30T20:40:13.773Z"
   },
   {
    "duration": 42,
    "start_time": "2022-07-30T20:40:13.786Z"
   },
   {
    "duration": 161,
    "start_time": "2022-07-30T20:40:13.830Z"
   },
   {
    "duration": 7,
    "start_time": "2022-07-30T20:40:13.992Z"
   },
   {
    "duration": 47,
    "start_time": "2022-07-30T20:40:14.001Z"
   },
   {
    "duration": 23,
    "start_time": "2022-07-30T20:40:14.050Z"
   },
   {
    "duration": 3,
    "start_time": "2022-07-30T20:40:14.074Z"
   },
   {
    "duration": 6,
    "start_time": "2022-07-30T20:40:14.078Z"
   },
   {
    "duration": 6,
    "start_time": "2022-07-30T20:40:14.085Z"
   },
   {
    "duration": 37,
    "start_time": "2022-07-30T20:40:14.093Z"
   },
   {
    "duration": 30,
    "start_time": "2022-07-30T20:40:14.133Z"
   },
   {
    "duration": 121,
    "start_time": "2022-07-30T20:40:14.165Z"
   },
   {
    "duration": 0,
    "start_time": "2022-07-30T20:40:14.290Z"
   },
   {
    "duration": 0,
    "start_time": "2022-07-30T20:40:14.291Z"
   },
   {
    "duration": 0,
    "start_time": "2022-07-30T20:40:14.292Z"
   },
   {
    "duration": 0,
    "start_time": "2022-07-30T20:40:14.293Z"
   },
   {
    "duration": 0,
    "start_time": "2022-07-30T20:40:14.294Z"
   },
   {
    "duration": 0,
    "start_time": "2022-07-30T20:40:14.296Z"
   },
   {
    "duration": 0,
    "start_time": "2022-07-30T20:40:14.297Z"
   },
   {
    "duration": 0,
    "start_time": "2022-07-30T20:40:14.298Z"
   },
   {
    "duration": 0,
    "start_time": "2022-07-30T20:40:14.299Z"
   },
   {
    "duration": 0,
    "start_time": "2022-07-30T20:40:14.301Z"
   },
   {
    "duration": 0,
    "start_time": "2022-07-30T20:40:14.302Z"
   },
   {
    "duration": 0,
    "start_time": "2022-07-30T20:40:14.302Z"
   },
   {
    "duration": 0,
    "start_time": "2022-07-30T20:40:14.328Z"
   },
   {
    "duration": 0,
    "start_time": "2022-07-30T20:40:14.330Z"
   },
   {
    "duration": 33,
    "start_time": "2022-07-30T20:40:40.009Z"
   },
   {
    "duration": 25,
    "start_time": "2022-07-30T20:41:08.017Z"
   },
   {
    "duration": 9,
    "start_time": "2022-07-30T20:41:34.251Z"
   },
   {
    "duration": 1101,
    "start_time": "2022-07-30T20:41:51.787Z"
   },
   {
    "duration": 641,
    "start_time": "2022-07-30T20:41:52.890Z"
   },
   {
    "duration": 124,
    "start_time": "2022-07-30T20:41:53.534Z"
   },
   {
    "duration": 26,
    "start_time": "2022-07-30T20:41:53.660Z"
   },
   {
    "duration": 65,
    "start_time": "2022-07-30T20:41:53.689Z"
   },
   {
    "duration": 224,
    "start_time": "2022-07-30T20:41:53.757Z"
   },
   {
    "duration": 39,
    "start_time": "2022-07-30T20:41:53.983Z"
   },
   {
    "duration": 13,
    "start_time": "2022-07-30T20:41:54.024Z"
   },
   {
    "duration": 14,
    "start_time": "2022-07-30T20:41:54.039Z"
   },
   {
    "duration": 102,
    "start_time": "2022-07-30T20:41:54.055Z"
   },
   {
    "duration": 53,
    "start_time": "2022-07-30T20:41:54.158Z"
   },
   {
    "duration": 53,
    "start_time": "2022-07-30T20:41:54.213Z"
   },
   {
    "duration": 11,
    "start_time": "2022-07-30T20:41:54.268Z"
   },
   {
    "duration": 9,
    "start_time": "2022-07-30T20:41:54.282Z"
   },
   {
    "duration": 61,
    "start_time": "2022-07-30T20:41:54.293Z"
   },
   {
    "duration": 6,
    "start_time": "2022-07-30T20:41:54.356Z"
   },
   {
    "duration": 13,
    "start_time": "2022-07-30T20:41:54.363Z"
   },
   {
    "duration": 21,
    "start_time": "2022-07-30T20:41:54.378Z"
   },
   {
    "duration": 43,
    "start_time": "2022-07-30T20:41:54.401Z"
   },
   {
    "duration": 11,
    "start_time": "2022-07-30T20:41:54.447Z"
   },
   {
    "duration": 11,
    "start_time": "2022-07-30T20:41:54.460Z"
   },
   {
    "duration": 14,
    "start_time": "2022-07-30T20:41:54.472Z"
   },
   {
    "duration": 204,
    "start_time": "2022-07-30T20:41:54.488Z"
   },
   {
    "duration": 6,
    "start_time": "2022-07-30T20:41:54.694Z"
   },
   {
    "duration": 46,
    "start_time": "2022-07-30T20:41:54.701Z"
   },
   {
    "duration": 22,
    "start_time": "2022-07-30T20:41:54.749Z"
   },
   {
    "duration": 2,
    "start_time": "2022-07-30T20:41:54.773Z"
   },
   {
    "duration": 7,
    "start_time": "2022-07-30T20:41:54.777Z"
   },
   {
    "duration": 5,
    "start_time": "2022-07-30T20:41:54.786Z"
   },
   {
    "duration": 123,
    "start_time": "2022-07-30T20:41:54.792Z"
   },
   {
    "duration": 0,
    "start_time": "2022-07-30T20:41:54.924Z"
   },
   {
    "duration": 0,
    "start_time": "2022-07-30T20:41:54.925Z"
   },
   {
    "duration": 0,
    "start_time": "2022-07-30T20:41:54.926Z"
   },
   {
    "duration": 0,
    "start_time": "2022-07-30T20:41:54.927Z"
   },
   {
    "duration": 0,
    "start_time": "2022-07-30T20:41:54.928Z"
   },
   {
    "duration": 0,
    "start_time": "2022-07-30T20:41:54.929Z"
   },
   {
    "duration": 0,
    "start_time": "2022-07-30T20:41:54.930Z"
   },
   {
    "duration": 0,
    "start_time": "2022-07-30T20:41:54.931Z"
   },
   {
    "duration": 0,
    "start_time": "2022-07-30T20:41:54.933Z"
   },
   {
    "duration": 0,
    "start_time": "2022-07-30T20:41:54.933Z"
   },
   {
    "duration": 0,
    "start_time": "2022-07-30T20:41:54.934Z"
   },
   {
    "duration": 0,
    "start_time": "2022-07-30T20:41:54.935Z"
   },
   {
    "duration": 0,
    "start_time": "2022-07-30T20:41:54.937Z"
   },
   {
    "duration": 0,
    "start_time": "2022-07-30T20:41:54.938Z"
   },
   {
    "duration": 0,
    "start_time": "2022-07-30T20:41:54.940Z"
   },
   {
    "duration": 0,
    "start_time": "2022-07-30T20:41:54.941Z"
   },
   {
    "duration": 11,
    "start_time": "2022-07-30T20:42:29.036Z"
   },
   {
    "duration": 1213,
    "start_time": "2022-07-30T20:42:34.638Z"
   },
   {
    "duration": 613,
    "start_time": "2022-07-30T20:42:35.853Z"
   },
   {
    "duration": 121,
    "start_time": "2022-07-30T20:42:36.467Z"
   },
   {
    "duration": 37,
    "start_time": "2022-07-30T20:42:36.590Z"
   },
   {
    "duration": 47,
    "start_time": "2022-07-30T20:42:36.631Z"
   },
   {
    "duration": 202,
    "start_time": "2022-07-30T20:42:36.679Z"
   },
   {
    "duration": 38,
    "start_time": "2022-07-30T20:42:36.883Z"
   },
   {
    "duration": 7,
    "start_time": "2022-07-30T20:42:36.922Z"
   },
   {
    "duration": 8,
    "start_time": "2022-07-30T20:42:36.930Z"
   },
   {
    "duration": 99,
    "start_time": "2022-07-30T20:42:36.940Z"
   },
   {
    "duration": 50,
    "start_time": "2022-07-30T20:42:37.041Z"
   },
   {
    "duration": 59,
    "start_time": "2022-07-30T20:42:37.093Z"
   },
   {
    "duration": 15,
    "start_time": "2022-07-30T20:42:37.154Z"
   },
   {
    "duration": 14,
    "start_time": "2022-07-30T20:42:37.173Z"
   },
   {
    "duration": 82,
    "start_time": "2022-07-30T20:42:37.189Z"
   },
   {
    "duration": 7,
    "start_time": "2022-07-30T20:42:37.273Z"
   },
   {
    "duration": 39,
    "start_time": "2022-07-30T20:42:37.282Z"
   },
   {
    "duration": 41,
    "start_time": "2022-07-30T20:42:37.323Z"
   },
   {
    "duration": 23,
    "start_time": "2022-07-30T20:42:37.366Z"
   },
   {
    "duration": 13,
    "start_time": "2022-07-30T20:42:37.391Z"
   },
   {
    "duration": 26,
    "start_time": "2022-07-30T20:42:37.406Z"
   },
   {
    "duration": 30,
    "start_time": "2022-07-30T20:42:37.434Z"
   },
   {
    "duration": 149,
    "start_time": "2022-07-30T20:42:37.466Z"
   },
   {
    "duration": 12,
    "start_time": "2022-07-30T20:42:37.616Z"
   },
   {
    "duration": 31,
    "start_time": "2022-07-30T20:42:37.630Z"
   },
   {
    "duration": 36,
    "start_time": "2022-07-30T20:42:37.662Z"
   },
   {
    "duration": 2,
    "start_time": "2022-07-30T20:42:37.700Z"
   },
   {
    "duration": 6,
    "start_time": "2022-07-30T20:42:37.703Z"
   },
   {
    "duration": 16,
    "start_time": "2022-07-30T20:42:37.723Z"
   },
   {
    "duration": 18,
    "start_time": "2022-07-30T20:42:37.740Z"
   },
   {
    "duration": 24,
    "start_time": "2022-07-30T20:42:37.759Z"
   },
   {
    "duration": 113,
    "start_time": "2022-07-30T20:42:37.784Z"
   },
   {
    "duration": 0,
    "start_time": "2022-07-30T20:42:37.899Z"
   },
   {
    "duration": 0,
    "start_time": "2022-07-30T20:42:37.900Z"
   },
   {
    "duration": 0,
    "start_time": "2022-07-30T20:42:37.901Z"
   },
   {
    "duration": 0,
    "start_time": "2022-07-30T20:42:37.902Z"
   },
   {
    "duration": 0,
    "start_time": "2022-07-30T20:42:37.902Z"
   },
   {
    "duration": 0,
    "start_time": "2022-07-30T20:42:37.903Z"
   },
   {
    "duration": 0,
    "start_time": "2022-07-30T20:42:37.904Z"
   },
   {
    "duration": 0,
    "start_time": "2022-07-30T20:42:37.905Z"
   },
   {
    "duration": 0,
    "start_time": "2022-07-30T20:42:37.923Z"
   },
   {
    "duration": 0,
    "start_time": "2022-07-30T20:42:37.924Z"
   },
   {
    "duration": 0,
    "start_time": "2022-07-30T20:42:37.925Z"
   },
   {
    "duration": 0,
    "start_time": "2022-07-30T20:42:37.926Z"
   },
   {
    "duration": 0,
    "start_time": "2022-07-30T20:42:37.927Z"
   },
   {
    "duration": 0,
    "start_time": "2022-07-30T20:42:37.928Z"
   },
   {
    "duration": 39,
    "start_time": "2022-07-30T20:42:59.279Z"
   },
   {
    "duration": 17,
    "start_time": "2022-07-30T20:43:18.209Z"
   },
   {
    "duration": 30,
    "start_time": "2022-07-30T20:43:33.518Z"
   },
   {
    "duration": 5,
    "start_time": "2022-07-30T20:44:54.247Z"
   },
   {
    "duration": 31,
    "start_time": "2022-07-30T20:45:05.720Z"
   },
   {
    "duration": 11,
    "start_time": "2022-07-30T20:46:34.415Z"
   },
   {
    "duration": 12,
    "start_time": "2022-07-30T20:46:41.225Z"
   },
   {
    "duration": 42,
    "start_time": "2022-07-30T20:47:14.280Z"
   },
   {
    "duration": 196,
    "start_time": "2022-07-30T20:53:25.038Z"
   },
   {
    "duration": 19,
    "start_time": "2022-07-30T20:54:23.455Z"
   },
   {
    "duration": 4,
    "start_time": "2022-07-30T20:55:03.528Z"
   },
   {
    "duration": 1236,
    "start_time": "2022-07-30T20:55:08.624Z"
   },
   {
    "duration": 605,
    "start_time": "2022-07-30T20:55:09.862Z"
   },
   {
    "duration": 114,
    "start_time": "2022-07-30T20:55:10.469Z"
   },
   {
    "duration": 39,
    "start_time": "2022-07-30T20:55:10.585Z"
   },
   {
    "duration": 52,
    "start_time": "2022-07-30T20:55:10.628Z"
   },
   {
    "duration": 194,
    "start_time": "2022-07-30T20:55:10.682Z"
   },
   {
    "duration": 40,
    "start_time": "2022-07-30T20:55:10.877Z"
   },
   {
    "duration": 4,
    "start_time": "2022-07-30T20:55:10.919Z"
   },
   {
    "duration": 33,
    "start_time": "2022-07-30T20:55:10.926Z"
   },
   {
    "duration": 127,
    "start_time": "2022-07-30T20:55:10.961Z"
   },
   {
    "duration": 84,
    "start_time": "2022-07-30T20:55:11.090Z"
   },
   {
    "duration": 47,
    "start_time": "2022-07-30T20:55:11.176Z"
   },
   {
    "duration": 13,
    "start_time": "2022-07-30T20:55:11.225Z"
   },
   {
    "duration": 23,
    "start_time": "2022-07-30T20:55:11.241Z"
   },
   {
    "duration": 47,
    "start_time": "2022-07-30T20:55:11.266Z"
   },
   {
    "duration": 12,
    "start_time": "2022-07-30T20:55:11.314Z"
   },
   {
    "duration": 24,
    "start_time": "2022-07-30T20:55:11.328Z"
   },
   {
    "duration": 22,
    "start_time": "2022-07-30T20:55:11.354Z"
   },
   {
    "duration": 30,
    "start_time": "2022-07-30T20:55:11.378Z"
   },
   {
    "duration": 16,
    "start_time": "2022-07-30T20:55:11.410Z"
   },
   {
    "duration": 30,
    "start_time": "2022-07-30T20:55:11.428Z"
   },
   {
    "duration": 26,
    "start_time": "2022-07-30T20:55:11.460Z"
   },
   {
    "duration": 148,
    "start_time": "2022-07-30T20:55:11.488Z"
   },
   {
    "duration": 6,
    "start_time": "2022-07-30T20:55:11.638Z"
   },
   {
    "duration": 34,
    "start_time": "2022-07-30T20:55:11.645Z"
   },
   {
    "duration": 58,
    "start_time": "2022-07-30T20:55:11.680Z"
   },
   {
    "duration": 29,
    "start_time": "2022-07-30T20:55:11.740Z"
   },
   {
    "duration": 111,
    "start_time": "2022-07-30T20:55:11.771Z"
   },
   {
    "duration": 0,
    "start_time": "2022-07-30T20:55:11.884Z"
   },
   {
    "duration": 0,
    "start_time": "2022-07-30T20:55:11.885Z"
   },
   {
    "duration": 0,
    "start_time": "2022-07-30T20:55:11.886Z"
   },
   {
    "duration": 0,
    "start_time": "2022-07-30T20:55:11.887Z"
   },
   {
    "duration": 0,
    "start_time": "2022-07-30T20:55:11.889Z"
   },
   {
    "duration": 0,
    "start_time": "2022-07-30T20:55:11.890Z"
   },
   {
    "duration": 0,
    "start_time": "2022-07-30T20:55:11.891Z"
   },
   {
    "duration": 0,
    "start_time": "2022-07-30T20:55:11.892Z"
   },
   {
    "duration": 0,
    "start_time": "2022-07-30T20:55:11.893Z"
   },
   {
    "duration": 0,
    "start_time": "2022-07-30T20:55:11.894Z"
   },
   {
    "duration": 0,
    "start_time": "2022-07-30T20:55:11.895Z"
   },
   {
    "duration": 0,
    "start_time": "2022-07-30T20:55:11.897Z"
   },
   {
    "duration": 0,
    "start_time": "2022-07-30T20:55:11.898Z"
   },
   {
    "duration": 0,
    "start_time": "2022-07-30T20:55:11.899Z"
   },
   {
    "duration": 0,
    "start_time": "2022-07-30T20:55:11.926Z"
   },
   {
    "duration": 0,
    "start_time": "2022-07-30T20:55:11.927Z"
   },
   {
    "duration": 1,
    "start_time": "2022-07-30T20:55:11.928Z"
   },
   {
    "duration": 0,
    "start_time": "2022-07-30T20:55:11.930Z"
   },
   {
    "duration": 106,
    "start_time": "2022-07-30T20:55:31.860Z"
   },
   {
    "duration": 89,
    "start_time": "2022-07-30T20:55:44.244Z"
   },
   {
    "duration": 21,
    "start_time": "2022-07-30T20:56:00.748Z"
   },
   {
    "duration": 85,
    "start_time": "2022-07-30T20:56:17.084Z"
   },
   {
    "duration": 9,
    "start_time": "2022-07-30T20:56:23.236Z"
   },
   {
    "duration": 9,
    "start_time": "2022-07-30T20:56:40.686Z"
   },
   {
    "duration": 10,
    "start_time": "2022-07-30T20:56:55.060Z"
   },
   {
    "duration": 11,
    "start_time": "2022-07-30T20:58:46.328Z"
   },
   {
    "duration": 13,
    "start_time": "2022-07-30T20:58:59.746Z"
   },
   {
    "duration": 13,
    "start_time": "2022-07-30T20:59:10.455Z"
   },
   {
    "duration": 12,
    "start_time": "2022-07-30T21:04:50.161Z"
   },
   {
    "duration": 13,
    "start_time": "2022-07-30T21:05:01.445Z"
   },
   {
    "duration": 10,
    "start_time": "2022-07-30T21:07:39.708Z"
   },
   {
    "duration": 1184,
    "start_time": "2022-07-30T21:07:50.746Z"
   },
   {
    "duration": 597,
    "start_time": "2022-07-30T21:07:51.932Z"
   },
   {
    "duration": 112,
    "start_time": "2022-07-30T21:07:52.530Z"
   },
   {
    "duration": 25,
    "start_time": "2022-07-30T21:07:52.644Z"
   },
   {
    "duration": 54,
    "start_time": "2022-07-30T21:07:52.671Z"
   },
   {
    "duration": 183,
    "start_time": "2022-07-30T21:07:52.726Z"
   },
   {
    "duration": 27,
    "start_time": "2022-07-30T21:07:52.910Z"
   },
   {
    "duration": 5,
    "start_time": "2022-07-30T21:07:52.939Z"
   },
   {
    "duration": 9,
    "start_time": "2022-07-30T21:07:52.946Z"
   },
   {
    "duration": 106,
    "start_time": "2022-07-30T21:07:52.957Z"
   },
   {
    "duration": 66,
    "start_time": "2022-07-30T21:07:53.064Z"
   },
   {
    "duration": 39,
    "start_time": "2022-07-30T21:07:53.132Z"
   },
   {
    "duration": 17,
    "start_time": "2022-07-30T21:07:53.172Z"
   },
   {
    "duration": 12,
    "start_time": "2022-07-30T21:07:53.193Z"
   },
   {
    "duration": 43,
    "start_time": "2022-07-30T21:07:53.206Z"
   },
   {
    "duration": 5,
    "start_time": "2022-07-30T21:07:53.251Z"
   },
   {
    "duration": 17,
    "start_time": "2022-07-30T21:07:53.257Z"
   },
   {
    "duration": 22,
    "start_time": "2022-07-30T21:07:53.276Z"
   },
   {
    "duration": 37,
    "start_time": "2022-07-30T21:07:53.300Z"
   },
   {
    "duration": 11,
    "start_time": "2022-07-30T21:07:53.339Z"
   },
   {
    "duration": 22,
    "start_time": "2022-07-30T21:07:53.352Z"
   },
   {
    "duration": 23,
    "start_time": "2022-07-30T21:07:53.376Z"
   },
   {
    "duration": 147,
    "start_time": "2022-07-30T21:07:53.401Z"
   },
   {
    "duration": 5,
    "start_time": "2022-07-30T21:07:53.550Z"
   },
   {
    "duration": 29,
    "start_time": "2022-07-30T21:07:53.557Z"
   },
   {
    "duration": 60,
    "start_time": "2022-07-30T21:07:53.588Z"
   },
   {
    "duration": 32,
    "start_time": "2022-07-30T21:07:53.650Z"
   },
   {
    "duration": 2,
    "start_time": "2022-07-30T21:07:53.684Z"
   },
   {
    "duration": 309,
    "start_time": "2022-07-30T21:07:53.688Z"
   },
   {
    "duration": 0,
    "start_time": "2022-07-30T21:07:53.999Z"
   },
   {
    "duration": 0,
    "start_time": "2022-07-30T21:07:54.000Z"
   },
   {
    "duration": 0,
    "start_time": "2022-07-30T21:07:54.002Z"
   },
   {
    "duration": 0,
    "start_time": "2022-07-30T21:07:54.003Z"
   },
   {
    "duration": 0,
    "start_time": "2022-07-30T21:07:54.004Z"
   },
   {
    "duration": 0,
    "start_time": "2022-07-30T21:07:54.005Z"
   },
   {
    "duration": 0,
    "start_time": "2022-07-30T21:07:54.006Z"
   },
   {
    "duration": 0,
    "start_time": "2022-07-30T21:07:54.023Z"
   },
   {
    "duration": 0,
    "start_time": "2022-07-30T21:07:54.024Z"
   },
   {
    "duration": 0,
    "start_time": "2022-07-30T21:07:54.026Z"
   },
   {
    "duration": 0,
    "start_time": "2022-07-30T21:07:54.027Z"
   },
   {
    "duration": 0,
    "start_time": "2022-07-30T21:07:54.028Z"
   },
   {
    "duration": 0,
    "start_time": "2022-07-30T21:07:54.028Z"
   },
   {
    "duration": 0,
    "start_time": "2022-07-30T21:07:54.030Z"
   },
   {
    "duration": 0,
    "start_time": "2022-07-30T21:07:54.031Z"
   },
   {
    "duration": 0,
    "start_time": "2022-07-30T21:07:54.032Z"
   },
   {
    "duration": 0,
    "start_time": "2022-07-30T21:07:54.033Z"
   },
   {
    "duration": 293,
    "start_time": "2022-07-30T21:08:03.248Z"
   },
   {
    "duration": 313,
    "start_time": "2022-07-30T21:08:39.016Z"
   },
   {
    "duration": 891,
    "start_time": "2022-07-30T21:08:46.969Z"
   },
   {
    "duration": 1146,
    "start_time": "2022-07-30T21:09:24.172Z"
   },
   {
    "duration": 594,
    "start_time": "2022-07-30T21:09:25.324Z"
   },
   {
    "duration": 118,
    "start_time": "2022-07-30T21:09:25.924Z"
   },
   {
    "duration": 26,
    "start_time": "2022-07-30T21:09:26.044Z"
   },
   {
    "duration": 58,
    "start_time": "2022-07-30T21:09:26.072Z"
   },
   {
    "duration": 209,
    "start_time": "2022-07-30T21:09:26.132Z"
   },
   {
    "duration": 40,
    "start_time": "2022-07-30T21:09:26.343Z"
   },
   {
    "duration": 5,
    "start_time": "2022-07-30T21:09:26.385Z"
   },
   {
    "duration": 12,
    "start_time": "2022-07-30T21:09:26.392Z"
   },
   {
    "duration": 102,
    "start_time": "2022-07-30T21:09:26.405Z"
   },
   {
    "duration": 57,
    "start_time": "2022-07-30T21:09:26.508Z"
   },
   {
    "duration": 40,
    "start_time": "2022-07-30T21:09:26.567Z"
   },
   {
    "duration": 25,
    "start_time": "2022-07-30T21:09:26.609Z"
   },
   {
    "duration": 10,
    "start_time": "2022-07-30T21:09:26.637Z"
   },
   {
    "duration": 37,
    "start_time": "2022-07-30T21:09:26.649Z"
   },
   {
    "duration": 6,
    "start_time": "2022-07-30T21:09:26.687Z"
   },
   {
    "duration": 41,
    "start_time": "2022-07-30T21:09:26.694Z"
   },
   {
    "duration": 15,
    "start_time": "2022-07-30T21:09:26.737Z"
   },
   {
    "duration": 22,
    "start_time": "2022-07-30T21:09:26.754Z"
   },
   {
    "duration": 13,
    "start_time": "2022-07-30T21:09:26.778Z"
   },
   {
    "duration": 45,
    "start_time": "2022-07-30T21:09:26.793Z"
   },
   {
    "duration": 16,
    "start_time": "2022-07-30T21:09:26.840Z"
   },
   {
    "duration": 175,
    "start_time": "2022-07-30T21:09:26.858Z"
   },
   {
    "duration": 6,
    "start_time": "2022-07-30T21:09:27.035Z"
   },
   {
    "duration": 26,
    "start_time": "2022-07-30T21:09:27.043Z"
   },
   {
    "duration": 72,
    "start_time": "2022-07-30T21:09:27.071Z"
   },
   {
    "duration": 45,
    "start_time": "2022-07-30T21:09:27.145Z"
   },
   {
    "duration": 4,
    "start_time": "2022-07-30T21:09:27.192Z"
   },
   {
    "duration": 775,
    "start_time": "2022-07-30T21:09:27.198Z"
   },
   {
    "duration": 0,
    "start_time": "2022-07-30T21:09:27.974Z"
   },
   {
    "duration": 0,
    "start_time": "2022-07-30T21:09:27.976Z"
   },
   {
    "duration": 0,
    "start_time": "2022-07-30T21:09:27.977Z"
   },
   {
    "duration": 0,
    "start_time": "2022-07-30T21:09:27.978Z"
   },
   {
    "duration": 0,
    "start_time": "2022-07-30T21:09:27.979Z"
   },
   {
    "duration": 0,
    "start_time": "2022-07-30T21:09:27.980Z"
   },
   {
    "duration": 0,
    "start_time": "2022-07-30T21:09:27.981Z"
   },
   {
    "duration": 0,
    "start_time": "2022-07-30T21:09:27.982Z"
   },
   {
    "duration": 0,
    "start_time": "2022-07-30T21:09:27.983Z"
   },
   {
    "duration": 0,
    "start_time": "2022-07-30T21:09:27.984Z"
   },
   {
    "duration": 0,
    "start_time": "2022-07-30T21:09:27.985Z"
   },
   {
    "duration": 0,
    "start_time": "2022-07-30T21:09:27.986Z"
   },
   {
    "duration": 0,
    "start_time": "2022-07-30T21:09:27.987Z"
   },
   {
    "duration": 0,
    "start_time": "2022-07-30T21:09:27.988Z"
   },
   {
    "duration": 0,
    "start_time": "2022-07-30T21:09:27.989Z"
   },
   {
    "duration": 0,
    "start_time": "2022-07-30T21:09:27.990Z"
   },
   {
    "duration": 0,
    "start_time": "2022-07-30T21:09:27.991Z"
   },
   {
    "duration": 12,
    "start_time": "2022-07-30T21:10:11.428Z"
   },
   {
    "duration": 9,
    "start_time": "2022-07-30T21:10:17.571Z"
   },
   {
    "duration": 8,
    "start_time": "2022-07-30T21:10:47.652Z"
   },
   {
    "duration": 16,
    "start_time": "2022-07-30T21:11:17.728Z"
   },
   {
    "duration": 1233,
    "start_time": "2022-07-30T21:11:55.540Z"
   },
   {
    "duration": 651,
    "start_time": "2022-07-30T21:11:56.775Z"
   },
   {
    "duration": 133,
    "start_time": "2022-07-30T21:11:57.428Z"
   },
   {
    "duration": 26,
    "start_time": "2022-07-30T21:11:57.563Z"
   },
   {
    "duration": 63,
    "start_time": "2022-07-30T21:11:57.591Z"
   },
   {
    "duration": 215,
    "start_time": "2022-07-30T21:11:57.656Z"
   },
   {
    "duration": 38,
    "start_time": "2022-07-30T21:11:57.873Z"
   },
   {
    "duration": 5,
    "start_time": "2022-07-30T21:11:57.913Z"
   },
   {
    "duration": 12,
    "start_time": "2022-07-30T21:11:57.919Z"
   },
   {
    "duration": 95,
    "start_time": "2022-07-30T21:11:57.933Z"
   },
   {
    "duration": 64,
    "start_time": "2022-07-30T21:11:58.030Z"
   },
   {
    "duration": 51,
    "start_time": "2022-07-30T21:11:58.096Z"
   },
   {
    "duration": 11,
    "start_time": "2022-07-30T21:11:58.148Z"
   },
   {
    "duration": 8,
    "start_time": "2022-07-30T21:11:58.164Z"
   },
   {
    "duration": 64,
    "start_time": "2022-07-30T21:11:58.174Z"
   },
   {
    "duration": 7,
    "start_time": "2022-07-30T21:11:58.240Z"
   },
   {
    "duration": 10,
    "start_time": "2022-07-30T21:11:58.249Z"
   },
   {
    "duration": 15,
    "start_time": "2022-07-30T21:11:58.261Z"
   },
   {
    "duration": 51,
    "start_time": "2022-07-30T21:11:58.278Z"
   },
   {
    "duration": 11,
    "start_time": "2022-07-30T21:11:58.331Z"
   },
   {
    "duration": 12,
    "start_time": "2022-07-30T21:11:58.344Z"
   },
   {
    "duration": 17,
    "start_time": "2022-07-30T21:11:58.358Z"
   },
   {
    "duration": 172,
    "start_time": "2022-07-30T21:11:58.376Z"
   },
   {
    "duration": 7,
    "start_time": "2022-07-30T21:11:58.550Z"
   },
   {
    "duration": 24,
    "start_time": "2022-07-30T21:11:58.559Z"
   },
   {
    "duration": 68,
    "start_time": "2022-07-30T21:11:58.585Z"
   },
   {
    "duration": 32,
    "start_time": "2022-07-30T21:11:58.654Z"
   },
   {
    "duration": 15,
    "start_time": "2022-07-30T21:11:58.687Z"
   },
   {
    "duration": 338,
    "start_time": "2022-07-30T21:11:58.724Z"
   },
   {
    "duration": 0,
    "start_time": "2022-07-30T21:11:59.064Z"
   },
   {
    "duration": 0,
    "start_time": "2022-07-30T21:11:59.065Z"
   },
   {
    "duration": 0,
    "start_time": "2022-07-30T21:11:59.066Z"
   },
   {
    "duration": 0,
    "start_time": "2022-07-30T21:11:59.067Z"
   },
   {
    "duration": 0,
    "start_time": "2022-07-30T21:11:59.068Z"
   },
   {
    "duration": 0,
    "start_time": "2022-07-30T21:11:59.069Z"
   },
   {
    "duration": 0,
    "start_time": "2022-07-30T21:11:59.071Z"
   },
   {
    "duration": 0,
    "start_time": "2022-07-30T21:11:59.072Z"
   },
   {
    "duration": 0,
    "start_time": "2022-07-30T21:11:59.073Z"
   },
   {
    "duration": 0,
    "start_time": "2022-07-30T21:11:59.074Z"
   },
   {
    "duration": 0,
    "start_time": "2022-07-30T21:11:59.075Z"
   },
   {
    "duration": 0,
    "start_time": "2022-07-30T21:11:59.076Z"
   },
   {
    "duration": 0,
    "start_time": "2022-07-30T21:11:59.077Z"
   },
   {
    "duration": 0,
    "start_time": "2022-07-30T21:11:59.078Z"
   },
   {
    "duration": 0,
    "start_time": "2022-07-30T21:11:59.079Z"
   },
   {
    "duration": 0,
    "start_time": "2022-07-30T21:11:59.081Z"
   },
   {
    "duration": 0,
    "start_time": "2022-07-30T21:11:59.082Z"
   },
   {
    "duration": 286,
    "start_time": "2022-07-30T21:13:47.661Z"
   },
   {
    "duration": 1243,
    "start_time": "2022-07-30T21:16:14.287Z"
   },
   {
    "duration": 600,
    "start_time": "2022-07-30T21:16:15.532Z"
   },
   {
    "duration": 117,
    "start_time": "2022-07-30T21:16:16.134Z"
   },
   {
    "duration": 25,
    "start_time": "2022-07-30T21:16:16.253Z"
   },
   {
    "duration": 61,
    "start_time": "2022-07-30T21:16:16.280Z"
   },
   {
    "duration": 183,
    "start_time": "2022-07-30T21:16:16.342Z"
   },
   {
    "duration": 29,
    "start_time": "2022-07-30T21:16:16.526Z"
   },
   {
    "duration": 5,
    "start_time": "2022-07-30T21:16:16.556Z"
   },
   {
    "duration": 10,
    "start_time": "2022-07-30T21:16:16.563Z"
   },
   {
    "duration": 106,
    "start_time": "2022-07-30T21:16:16.575Z"
   },
   {
    "duration": 67,
    "start_time": "2022-07-30T21:16:16.682Z"
   },
   {
    "duration": 40,
    "start_time": "2022-07-30T21:16:16.751Z"
   },
   {
    "duration": 14,
    "start_time": "2022-07-30T21:16:16.792Z"
   },
   {
    "duration": 10,
    "start_time": "2022-07-30T21:16:16.823Z"
   },
   {
    "duration": 35,
    "start_time": "2022-07-30T21:16:16.835Z"
   },
   {
    "duration": 7,
    "start_time": "2022-07-30T21:16:16.872Z"
   },
   {
    "duration": 10,
    "start_time": "2022-07-30T21:16:16.880Z"
   },
   {
    "duration": 43,
    "start_time": "2022-07-30T21:16:16.892Z"
   },
   {
    "duration": 20,
    "start_time": "2022-07-30T21:16:16.937Z"
   },
   {
    "duration": 13,
    "start_time": "2022-07-30T21:16:16.959Z"
   },
   {
    "duration": 10,
    "start_time": "2022-07-30T21:16:16.974Z"
   },
   {
    "duration": 49,
    "start_time": "2022-07-30T21:16:16.985Z"
   },
   {
    "duration": 169,
    "start_time": "2022-07-30T21:16:17.036Z"
   },
   {
    "duration": 14,
    "start_time": "2022-07-30T21:16:17.209Z"
   },
   {
    "duration": 37,
    "start_time": "2022-07-30T21:16:17.225Z"
   },
   {
    "duration": 83,
    "start_time": "2022-07-30T21:16:17.264Z"
   },
   {
    "duration": 41,
    "start_time": "2022-07-30T21:16:17.349Z"
   },
   {
    "duration": 36,
    "start_time": "2022-07-30T21:16:17.392Z"
   },
   {
    "duration": 704,
    "start_time": "2022-07-30T21:16:17.430Z"
   },
   {
    "duration": 0,
    "start_time": "2022-07-30T21:16:18.136Z"
   },
   {
    "duration": 0,
    "start_time": "2022-07-30T21:16:18.137Z"
   },
   {
    "duration": 0,
    "start_time": "2022-07-30T21:16:18.139Z"
   },
   {
    "duration": 0,
    "start_time": "2022-07-30T21:16:18.140Z"
   },
   {
    "duration": 0,
    "start_time": "2022-07-30T21:16:18.141Z"
   },
   {
    "duration": 0,
    "start_time": "2022-07-30T21:16:18.142Z"
   },
   {
    "duration": 0,
    "start_time": "2022-07-30T21:16:18.143Z"
   },
   {
    "duration": 0,
    "start_time": "2022-07-30T21:16:18.145Z"
   },
   {
    "duration": 0,
    "start_time": "2022-07-30T21:16:18.146Z"
   },
   {
    "duration": 0,
    "start_time": "2022-07-30T21:16:18.147Z"
   },
   {
    "duration": 0,
    "start_time": "2022-07-30T21:16:18.148Z"
   },
   {
    "duration": 0,
    "start_time": "2022-07-30T21:16:18.149Z"
   },
   {
    "duration": 0,
    "start_time": "2022-07-30T21:16:18.150Z"
   },
   {
    "duration": 0,
    "start_time": "2022-07-30T21:16:18.151Z"
   },
   {
    "duration": 0,
    "start_time": "2022-07-30T21:16:18.152Z"
   },
   {
    "duration": 0,
    "start_time": "2022-07-30T21:16:18.153Z"
   },
   {
    "duration": 0,
    "start_time": "2022-07-30T21:16:18.154Z"
   },
   {
    "duration": 126,
    "start_time": "2022-07-30T21:17:42.219Z"
   },
   {
    "duration": 1162,
    "start_time": "2022-07-30T21:17:48.813Z"
   },
   {
    "duration": 573,
    "start_time": "2022-07-30T21:17:49.977Z"
   },
   {
    "duration": 114,
    "start_time": "2022-07-30T21:17:50.552Z"
   },
   {
    "duration": 27,
    "start_time": "2022-07-30T21:17:50.667Z"
   },
   {
    "duration": 63,
    "start_time": "2022-07-30T21:17:50.696Z"
   },
   {
    "duration": 187,
    "start_time": "2022-07-30T21:17:50.761Z"
   },
   {
    "duration": 28,
    "start_time": "2022-07-30T21:17:50.949Z"
   },
   {
    "duration": 4,
    "start_time": "2022-07-30T21:17:50.978Z"
   },
   {
    "duration": 12,
    "start_time": "2022-07-30T21:17:50.983Z"
   },
   {
    "duration": 108,
    "start_time": "2022-07-30T21:17:50.997Z"
   },
   {
    "duration": 637,
    "start_time": "2022-07-30T21:17:51.106Z"
   },
   {
    "duration": 0,
    "start_time": "2022-07-30T21:17:51.746Z"
   },
   {
    "duration": 0,
    "start_time": "2022-07-30T21:17:51.747Z"
   },
   {
    "duration": 0,
    "start_time": "2022-07-30T21:17:51.749Z"
   },
   {
    "duration": 0,
    "start_time": "2022-07-30T21:17:51.750Z"
   },
   {
    "duration": 0,
    "start_time": "2022-07-30T21:17:51.751Z"
   },
   {
    "duration": 0,
    "start_time": "2022-07-30T21:17:51.753Z"
   },
   {
    "duration": 0,
    "start_time": "2022-07-30T21:17:51.754Z"
   },
   {
    "duration": 0,
    "start_time": "2022-07-30T21:17:51.756Z"
   },
   {
    "duration": 0,
    "start_time": "2022-07-30T21:17:51.757Z"
   },
   {
    "duration": 0,
    "start_time": "2022-07-30T21:17:51.759Z"
   },
   {
    "duration": 0,
    "start_time": "2022-07-30T21:17:51.761Z"
   },
   {
    "duration": 0,
    "start_time": "2022-07-30T21:17:51.762Z"
   },
   {
    "duration": 0,
    "start_time": "2022-07-30T21:17:51.764Z"
   },
   {
    "duration": 0,
    "start_time": "2022-07-30T21:17:51.765Z"
   },
   {
    "duration": 0,
    "start_time": "2022-07-30T21:17:51.767Z"
   },
   {
    "duration": 0,
    "start_time": "2022-07-30T21:17:51.768Z"
   },
   {
    "duration": 0,
    "start_time": "2022-07-30T21:17:51.769Z"
   },
   {
    "duration": 0,
    "start_time": "2022-07-30T21:17:51.771Z"
   },
   {
    "duration": 0,
    "start_time": "2022-07-30T21:17:51.772Z"
   },
   {
    "duration": 0,
    "start_time": "2022-07-30T21:17:51.774Z"
   },
   {
    "duration": 0,
    "start_time": "2022-07-30T21:17:51.775Z"
   },
   {
    "duration": 0,
    "start_time": "2022-07-30T21:17:51.777Z"
   },
   {
    "duration": 0,
    "start_time": "2022-07-30T21:17:51.778Z"
   },
   {
    "duration": 0,
    "start_time": "2022-07-30T21:17:51.780Z"
   },
   {
    "duration": 0,
    "start_time": "2022-07-30T21:17:51.781Z"
   },
   {
    "duration": 0,
    "start_time": "2022-07-30T21:17:51.783Z"
   },
   {
    "duration": 0,
    "start_time": "2022-07-30T21:17:51.824Z"
   },
   {
    "duration": 0,
    "start_time": "2022-07-30T21:17:51.826Z"
   },
   {
    "duration": 0,
    "start_time": "2022-07-30T21:17:51.827Z"
   },
   {
    "duration": 0,
    "start_time": "2022-07-30T21:17:51.829Z"
   },
   {
    "duration": 0,
    "start_time": "2022-07-30T21:17:51.830Z"
   },
   {
    "duration": 0,
    "start_time": "2022-07-30T21:17:51.831Z"
   },
   {
    "duration": 0,
    "start_time": "2022-07-30T21:17:51.833Z"
   },
   {
    "duration": 0,
    "start_time": "2022-07-30T21:17:51.834Z"
   },
   {
    "duration": 0,
    "start_time": "2022-07-30T21:17:51.836Z"
   },
   {
    "duration": 560,
    "start_time": "2022-07-30T21:18:23.591Z"
   },
   {
    "duration": 51,
    "start_time": "2022-07-30T21:19:05.640Z"
   },
   {
    "duration": 1159,
    "start_time": "2022-07-30T21:19:11.299Z"
   },
   {
    "duration": 591,
    "start_time": "2022-07-30T21:19:12.460Z"
   },
   {
    "duration": 108,
    "start_time": "2022-07-30T21:19:13.052Z"
   },
   {
    "duration": 25,
    "start_time": "2022-07-30T21:19:13.162Z"
   },
   {
    "duration": 58,
    "start_time": "2022-07-30T21:19:13.189Z"
   },
   {
    "duration": 187,
    "start_time": "2022-07-30T21:19:13.249Z"
   },
   {
    "duration": 28,
    "start_time": "2022-07-30T21:19:13.438Z"
   },
   {
    "duration": 4,
    "start_time": "2022-07-30T21:19:13.468Z"
   },
   {
    "duration": 14,
    "start_time": "2022-07-30T21:19:13.474Z"
   },
   {
    "duration": 103,
    "start_time": "2022-07-30T21:19:13.492Z"
   },
   {
    "duration": 62,
    "start_time": "2022-07-30T21:19:13.597Z"
   },
   {
    "duration": 40,
    "start_time": "2022-07-30T21:19:13.661Z"
   },
   {
    "duration": 25,
    "start_time": "2022-07-30T21:19:13.703Z"
   },
   {
    "duration": 11,
    "start_time": "2022-07-30T21:19:13.730Z"
   },
   {
    "duration": 36,
    "start_time": "2022-07-30T21:19:13.743Z"
   },
   {
    "duration": 6,
    "start_time": "2022-07-30T21:19:13.781Z"
   },
   {
    "duration": 38,
    "start_time": "2022-07-30T21:19:13.789Z"
   },
   {
    "duration": 15,
    "start_time": "2022-07-30T21:19:13.829Z"
   },
   {
    "duration": 21,
    "start_time": "2022-07-30T21:19:13.847Z"
   },
   {
    "duration": 12,
    "start_time": "2022-07-30T21:19:13.869Z"
   },
   {
    "duration": 46,
    "start_time": "2022-07-30T21:19:13.883Z"
   },
   {
    "duration": 13,
    "start_time": "2022-07-30T21:19:13.931Z"
   },
   {
    "duration": 165,
    "start_time": "2022-07-30T21:19:13.946Z"
   },
   {
    "duration": 13,
    "start_time": "2022-07-30T21:19:14.112Z"
   },
   {
    "duration": 25,
    "start_time": "2022-07-30T21:19:14.126Z"
   },
   {
    "duration": 44,
    "start_time": "2022-07-30T21:19:14.153Z"
   },
   {
    "duration": 55,
    "start_time": "2022-07-30T21:19:14.198Z"
   },
   {
    "duration": 16,
    "start_time": "2022-07-30T21:19:14.257Z"
   },
   {
    "duration": 895,
    "start_time": "2022-07-30T21:19:14.274Z"
   },
   {
    "duration": 0,
    "start_time": "2022-07-30T21:19:15.171Z"
   },
   {
    "duration": 0,
    "start_time": "2022-07-30T21:19:15.172Z"
   },
   {
    "duration": 0,
    "start_time": "2022-07-30T21:19:15.173Z"
   },
   {
    "duration": 0,
    "start_time": "2022-07-30T21:19:15.174Z"
   },
   {
    "duration": 0,
    "start_time": "2022-07-30T21:19:15.176Z"
   },
   {
    "duration": 0,
    "start_time": "2022-07-30T21:19:15.177Z"
   },
   {
    "duration": 0,
    "start_time": "2022-07-30T21:19:15.178Z"
   },
   {
    "duration": 0,
    "start_time": "2022-07-30T21:19:15.179Z"
   },
   {
    "duration": 0,
    "start_time": "2022-07-30T21:19:15.180Z"
   },
   {
    "duration": 0,
    "start_time": "2022-07-30T21:19:15.181Z"
   },
   {
    "duration": 0,
    "start_time": "2022-07-30T21:19:15.182Z"
   },
   {
    "duration": 0,
    "start_time": "2022-07-30T21:19:15.183Z"
   },
   {
    "duration": 0,
    "start_time": "2022-07-30T21:19:15.184Z"
   },
   {
    "duration": 0,
    "start_time": "2022-07-30T21:19:15.186Z"
   },
   {
    "duration": 0,
    "start_time": "2022-07-30T21:19:15.186Z"
   },
   {
    "duration": 0,
    "start_time": "2022-07-30T21:19:15.187Z"
   },
   {
    "duration": 0,
    "start_time": "2022-07-30T21:19:15.188Z"
   },
   {
    "duration": 285,
    "start_time": "2022-07-30T21:19:35.781Z"
   },
   {
    "duration": 294,
    "start_time": "2022-07-30T21:20:21.515Z"
   },
   {
    "duration": 290,
    "start_time": "2022-07-30T21:20:45.174Z"
   },
   {
    "duration": 212,
    "start_time": "2022-07-30T21:21:00.432Z"
   },
   {
    "duration": 547,
    "start_time": "2022-07-30T21:21:06.982Z"
   },
   {
    "duration": 505,
    "start_time": "2022-07-30T21:22:24.680Z"
   },
   {
    "duration": 714,
    "start_time": "2022-07-30T21:22:33.011Z"
   },
   {
    "duration": 12050,
    "start_time": "2022-07-30T21:23:45.146Z"
   },
   {
    "duration": 53,
    "start_time": "2022-07-30T21:26:09.294Z"
   },
   {
    "duration": 290,
    "start_time": "2022-07-30T21:26:13.020Z"
   },
   {
    "duration": 16177,
    "start_time": "2022-07-30T21:26:19.811Z"
   },
   {
    "duration": 9314,
    "start_time": "2022-07-30T21:26:46.231Z"
   },
   {
    "duration": 32,
    "start_time": "2022-07-30T21:27:43.737Z"
   },
   {
    "duration": 1078,
    "start_time": "2022-07-30T21:28:05.357Z"
   },
   {
    "duration": 552,
    "start_time": "2022-07-30T21:28:06.437Z"
   },
   {
    "duration": 108,
    "start_time": "2022-07-30T21:28:06.990Z"
   },
   {
    "duration": 40,
    "start_time": "2022-07-30T21:28:07.101Z"
   },
   {
    "duration": 56,
    "start_time": "2022-07-30T21:28:07.143Z"
   },
   {
    "duration": 213,
    "start_time": "2022-07-30T21:28:07.201Z"
   },
   {
    "duration": 27,
    "start_time": "2022-07-30T21:28:07.415Z"
   },
   {
    "duration": 4,
    "start_time": "2022-07-30T21:28:07.446Z"
   },
   {
    "duration": 11,
    "start_time": "2022-07-30T21:28:07.452Z"
   },
   {
    "duration": 104,
    "start_time": "2022-07-30T21:28:07.465Z"
   },
   {
    "duration": 58,
    "start_time": "2022-07-30T21:28:07.570Z"
   },
   {
    "duration": 40,
    "start_time": "2022-07-30T21:28:07.630Z"
   },
   {
    "duration": 11,
    "start_time": "2022-07-30T21:28:07.672Z"
   },
   {
    "duration": 17,
    "start_time": "2022-07-30T21:28:07.685Z"
   },
   {
    "duration": 56,
    "start_time": "2022-07-30T21:28:07.703Z"
   },
   {
    "duration": 5,
    "start_time": "2022-07-30T21:28:07.761Z"
   },
   {
    "duration": 15,
    "start_time": "2022-07-30T21:28:07.767Z"
   },
   {
    "duration": 23,
    "start_time": "2022-07-30T21:28:07.784Z"
   },
   {
    "duration": 19,
    "start_time": "2022-07-30T21:28:07.808Z"
   },
   {
    "duration": 20,
    "start_time": "2022-07-30T21:28:07.828Z"
   },
   {
    "duration": 9,
    "start_time": "2022-07-30T21:28:07.849Z"
   },
   {
    "duration": 23,
    "start_time": "2022-07-30T21:28:07.859Z"
   },
   {
    "duration": 132,
    "start_time": "2022-07-30T21:28:07.884Z"
   },
   {
    "duration": 9,
    "start_time": "2022-07-30T21:28:08.017Z"
   },
   {
    "duration": 26,
    "start_time": "2022-07-30T21:28:08.028Z"
   },
   {
    "duration": 11188,
    "start_time": "2022-07-30T21:28:08.056Z"
   },
   {
    "duration": 14,
    "start_time": "2022-07-30T21:28:19.246Z"
   },
   {
    "duration": 15,
    "start_time": "2022-07-30T21:28:19.264Z"
   },
   {
    "duration": 50,
    "start_time": "2022-07-30T21:28:19.281Z"
   },
   {
    "duration": 111,
    "start_time": "2022-07-30T21:28:19.333Z"
   },
   {
    "duration": 0,
    "start_time": "2022-07-30T21:28:19.446Z"
   },
   {
    "duration": 0,
    "start_time": "2022-07-30T21:28:19.448Z"
   },
   {
    "duration": 0,
    "start_time": "2022-07-30T21:28:19.449Z"
   },
   {
    "duration": 0,
    "start_time": "2022-07-30T21:28:19.450Z"
   },
   {
    "duration": 0,
    "start_time": "2022-07-30T21:28:19.452Z"
   },
   {
    "duration": 0,
    "start_time": "2022-07-30T21:28:19.453Z"
   },
   {
    "duration": 0,
    "start_time": "2022-07-30T21:28:19.455Z"
   },
   {
    "duration": 0,
    "start_time": "2022-07-30T21:28:19.456Z"
   },
   {
    "duration": 0,
    "start_time": "2022-07-30T21:28:19.458Z"
   },
   {
    "duration": 0,
    "start_time": "2022-07-30T21:28:19.460Z"
   },
   {
    "duration": 0,
    "start_time": "2022-07-30T21:28:19.461Z"
   },
   {
    "duration": 0,
    "start_time": "2022-07-30T21:28:19.462Z"
   },
   {
    "duration": 0,
    "start_time": "2022-07-30T21:28:19.464Z"
   },
   {
    "duration": 0,
    "start_time": "2022-07-30T21:28:19.465Z"
   },
   {
    "duration": 10889,
    "start_time": "2022-07-30T21:28:31.979Z"
   },
   {
    "duration": 21,
    "start_time": "2022-07-30T21:28:42.870Z"
   },
   {
    "duration": 15,
    "start_time": "2022-07-30T21:29:16.115Z"
   },
   {
    "duration": 17,
    "start_time": "2022-07-30T21:29:34.492Z"
   },
   {
    "duration": 1122,
    "start_time": "2022-07-30T21:30:14.038Z"
   },
   {
    "duration": 595,
    "start_time": "2022-07-30T21:30:15.162Z"
   },
   {
    "duration": 129,
    "start_time": "2022-07-30T21:30:15.759Z"
   },
   {
    "duration": 37,
    "start_time": "2022-07-30T21:30:15.891Z"
   },
   {
    "duration": 45,
    "start_time": "2022-07-30T21:30:15.930Z"
   },
   {
    "duration": 203,
    "start_time": "2022-07-30T21:30:15.977Z"
   },
   {
    "duration": 37,
    "start_time": "2022-07-30T21:30:16.182Z"
   },
   {
    "duration": 5,
    "start_time": "2022-07-30T21:30:16.221Z"
   },
   {
    "duration": 9,
    "start_time": "2022-07-30T21:30:16.228Z"
   },
   {
    "duration": 88,
    "start_time": "2022-07-30T21:30:16.240Z"
   },
   {
    "duration": 50,
    "start_time": "2022-07-30T21:30:16.329Z"
   },
   {
    "duration": 49,
    "start_time": "2022-07-30T21:30:16.381Z"
   },
   {
    "duration": 11,
    "start_time": "2022-07-30T21:30:16.432Z"
   },
   {
    "duration": 8,
    "start_time": "2022-07-30T21:30:16.444Z"
   },
   {
    "duration": 32,
    "start_time": "2022-07-30T21:30:16.454Z"
   },
   {
    "duration": 6,
    "start_time": "2022-07-30T21:30:16.487Z"
   },
   {
    "duration": 36,
    "start_time": "2022-07-30T21:30:16.495Z"
   },
   {
    "duration": 16,
    "start_time": "2022-07-30T21:30:16.533Z"
   },
   {
    "duration": 17,
    "start_time": "2022-07-30T21:30:16.551Z"
   },
   {
    "duration": 18,
    "start_time": "2022-07-30T21:30:16.570Z"
   },
   {
    "duration": 11,
    "start_time": "2022-07-30T21:30:16.590Z"
   },
   {
    "duration": 13,
    "start_time": "2022-07-30T21:30:16.623Z"
   },
   {
    "duration": 149,
    "start_time": "2022-07-30T21:30:16.638Z"
   },
   {
    "duration": 7,
    "start_time": "2022-07-30T21:30:16.788Z"
   },
   {
    "duration": 37,
    "start_time": "2022-07-30T21:30:16.797Z"
   },
   {
    "duration": 11324,
    "start_time": "2022-07-30T21:30:16.836Z"
   },
   {
    "duration": 22,
    "start_time": "2022-07-30T21:30:28.161Z"
   },
   {
    "duration": 14,
    "start_time": "2022-07-30T21:30:28.186Z"
   },
   {
    "duration": 34,
    "start_time": "2022-07-30T21:30:28.202Z"
   },
   {
    "duration": 14,
    "start_time": "2022-07-30T21:30:28.237Z"
   },
   {
    "duration": 25,
    "start_time": "2022-07-30T21:30:28.253Z"
   },
   {
    "duration": 132,
    "start_time": "2022-07-30T21:30:28.279Z"
   },
   {
    "duration": 0,
    "start_time": "2022-07-30T21:30:28.413Z"
   },
   {
    "duration": 0,
    "start_time": "2022-07-30T21:30:28.414Z"
   },
   {
    "duration": 0,
    "start_time": "2022-07-30T21:30:28.415Z"
   },
   {
    "duration": 0,
    "start_time": "2022-07-30T21:30:28.424Z"
   },
   {
    "duration": 0,
    "start_time": "2022-07-30T21:30:28.425Z"
   },
   {
    "duration": 0,
    "start_time": "2022-07-30T21:30:28.426Z"
   },
   {
    "duration": 0,
    "start_time": "2022-07-30T21:30:28.427Z"
   },
   {
    "duration": 0,
    "start_time": "2022-07-30T21:30:28.428Z"
   },
   {
    "duration": 0,
    "start_time": "2022-07-30T21:30:28.429Z"
   },
   {
    "duration": 0,
    "start_time": "2022-07-30T21:30:28.430Z"
   },
   {
    "duration": 0,
    "start_time": "2022-07-30T21:30:28.433Z"
   },
   {
    "duration": 0,
    "start_time": "2022-07-30T21:30:28.434Z"
   },
   {
    "duration": 0,
    "start_time": "2022-07-30T21:30:28.435Z"
   },
   {
    "duration": 0,
    "start_time": "2022-07-30T21:30:28.436Z"
   },
   {
    "duration": 10,
    "start_time": "2022-07-30T21:31:10.468Z"
   },
   {
    "duration": 10,
    "start_time": "2022-07-30T21:31:28.475Z"
   },
   {
    "duration": 10,
    "start_time": "2022-07-30T21:31:42.220Z"
   },
   {
    "duration": 11,
    "start_time": "2022-07-30T21:31:44.659Z"
   },
   {
    "duration": 28,
    "start_time": "2022-07-30T21:31:51.711Z"
   },
   {
    "duration": 20,
    "start_time": "2022-07-30T21:31:58.239Z"
   },
   {
    "duration": 19,
    "start_time": "2022-07-30T21:32:01.772Z"
   },
   {
    "duration": 25,
    "start_time": "2022-07-30T21:32:25.781Z"
   },
   {
    "duration": 23,
    "start_time": "2022-07-30T21:32:57.910Z"
   },
   {
    "duration": 17,
    "start_time": "2022-07-30T21:33:05.254Z"
   },
   {
    "duration": 23,
    "start_time": "2022-07-30T21:33:33.238Z"
   },
   {
    "duration": 16,
    "start_time": "2022-07-30T21:33:36.612Z"
   },
   {
    "duration": 33,
    "start_time": "2022-07-30T21:33:58.574Z"
   },
   {
    "duration": 20,
    "start_time": "2022-07-30T21:34:08.879Z"
   },
   {
    "duration": 22,
    "start_time": "2022-07-30T21:34:11.118Z"
   },
   {
    "duration": 21,
    "start_time": "2022-07-30T21:34:26.063Z"
   },
   {
    "duration": 23,
    "start_time": "2022-07-30T21:34:35.399Z"
   },
   {
    "duration": 15,
    "start_time": "2022-07-30T21:34:39.911Z"
   },
   {
    "duration": 16,
    "start_time": "2022-07-30T21:34:59.752Z"
   },
   {
    "duration": 24,
    "start_time": "2022-07-30T21:35:02.263Z"
   },
   {
    "duration": 12,
    "start_time": "2022-07-30T21:35:29.817Z"
   },
   {
    "duration": 1108,
    "start_time": "2022-07-30T21:36:50.640Z"
   },
   {
    "duration": 581,
    "start_time": "2022-07-30T21:36:51.750Z"
   },
   {
    "duration": 115,
    "start_time": "2022-07-30T21:36:52.332Z"
   },
   {
    "duration": 26,
    "start_time": "2022-07-30T21:36:52.449Z"
   },
   {
    "duration": 61,
    "start_time": "2022-07-30T21:36:52.477Z"
   },
   {
    "duration": 176,
    "start_time": "2022-07-30T21:36:52.540Z"
   },
   {
    "duration": 31,
    "start_time": "2022-07-30T21:36:52.718Z"
   },
   {
    "duration": 5,
    "start_time": "2022-07-30T21:36:52.750Z"
   },
   {
    "duration": 13,
    "start_time": "2022-07-30T21:36:52.757Z"
   },
   {
    "duration": 103,
    "start_time": "2022-07-30T21:36:52.771Z"
   },
   {
    "duration": 66,
    "start_time": "2022-07-30T21:36:52.876Z"
   },
   {
    "duration": 38,
    "start_time": "2022-07-30T21:36:52.944Z"
   },
   {
    "duration": 12,
    "start_time": "2022-07-30T21:36:52.984Z"
   },
   {
    "duration": 27,
    "start_time": "2022-07-30T21:36:52.998Z"
   },
   {
    "duration": 34,
    "start_time": "2022-07-30T21:36:53.026Z"
   },
   {
    "duration": 6,
    "start_time": "2022-07-30T21:36:53.062Z"
   },
   {
    "duration": 10,
    "start_time": "2022-07-30T21:36:53.070Z"
   },
   {
    "duration": 45,
    "start_time": "2022-07-30T21:36:53.082Z"
   },
   {
    "duration": 21,
    "start_time": "2022-07-30T21:36:53.129Z"
   },
   {
    "duration": 12,
    "start_time": "2022-07-30T21:36:53.152Z"
   },
   {
    "duration": 11,
    "start_time": "2022-07-30T21:36:53.165Z"
   },
   {
    "duration": 49,
    "start_time": "2022-07-30T21:36:53.178Z"
   },
   {
    "duration": 156,
    "start_time": "2022-07-30T21:36:53.229Z"
   },
   {
    "duration": 6,
    "start_time": "2022-07-30T21:36:53.386Z"
   },
   {
    "duration": 36,
    "start_time": "2022-07-30T21:36:53.394Z"
   },
   {
    "duration": 11757,
    "start_time": "2022-07-30T21:36:53.432Z"
   },
   {
    "duration": 14,
    "start_time": "2022-07-30T21:37:05.191Z"
   },
   {
    "duration": 35,
    "start_time": "2022-07-30T21:37:05.206Z"
   },
   {
    "duration": 103,
    "start_time": "2022-07-30T21:37:05.243Z"
   },
   {
    "duration": 0,
    "start_time": "2022-07-30T21:37:05.348Z"
   },
   {
    "duration": 0,
    "start_time": "2022-07-30T21:37:05.350Z"
   },
   {
    "duration": 0,
    "start_time": "2022-07-30T21:37:05.351Z"
   },
   {
    "duration": 0,
    "start_time": "2022-07-30T21:37:05.351Z"
   },
   {
    "duration": 0,
    "start_time": "2022-07-30T21:37:05.353Z"
   },
   {
    "duration": 0,
    "start_time": "2022-07-30T21:37:05.354Z"
   },
   {
    "duration": 0,
    "start_time": "2022-07-30T21:37:05.355Z"
   },
   {
    "duration": 0,
    "start_time": "2022-07-30T21:37:05.357Z"
   },
   {
    "duration": 0,
    "start_time": "2022-07-30T21:37:05.358Z"
   },
   {
    "duration": 0,
    "start_time": "2022-07-30T21:37:05.359Z"
   },
   {
    "duration": 0,
    "start_time": "2022-07-30T21:37:05.359Z"
   },
   {
    "duration": 0,
    "start_time": "2022-07-30T21:37:05.360Z"
   },
   {
    "duration": 0,
    "start_time": "2022-07-30T21:37:05.361Z"
   },
   {
    "duration": 0,
    "start_time": "2022-07-30T21:37:05.363Z"
   },
   {
    "duration": 1222,
    "start_time": "2022-07-30T21:46:26.547Z"
   },
   {
    "duration": 657,
    "start_time": "2022-07-30T21:46:27.771Z"
   },
   {
    "duration": 123,
    "start_time": "2022-07-30T21:46:28.430Z"
   },
   {
    "duration": 24,
    "start_time": "2022-07-30T21:46:28.555Z"
   },
   {
    "duration": 57,
    "start_time": "2022-07-30T21:46:28.581Z"
   },
   {
    "duration": 191,
    "start_time": "2022-07-30T21:46:28.640Z"
   },
   {
    "duration": 42,
    "start_time": "2022-07-30T21:46:28.833Z"
   },
   {
    "duration": 4,
    "start_time": "2022-07-30T21:46:28.877Z"
   },
   {
    "duration": 10,
    "start_time": "2022-07-30T21:46:28.882Z"
   },
   {
    "duration": 99,
    "start_time": "2022-07-30T21:46:28.893Z"
   },
   {
    "duration": 64,
    "start_time": "2022-07-30T21:46:28.994Z"
   },
   {
    "duration": 40,
    "start_time": "2022-07-30T21:46:29.059Z"
   },
   {
    "duration": 11,
    "start_time": "2022-07-30T21:46:29.100Z"
   },
   {
    "duration": 12,
    "start_time": "2022-07-30T21:46:29.123Z"
   },
   {
    "duration": 34,
    "start_time": "2022-07-30T21:46:29.137Z"
   },
   {
    "duration": 5,
    "start_time": "2022-07-30T21:46:29.173Z"
   },
   {
    "duration": 15,
    "start_time": "2022-07-30T21:46:29.180Z"
   },
   {
    "duration": 31,
    "start_time": "2022-07-30T21:46:29.196Z"
   },
   {
    "duration": 22,
    "start_time": "2022-07-30T21:46:29.229Z"
   },
   {
    "duration": 10,
    "start_time": "2022-07-30T21:46:29.253Z"
   },
   {
    "duration": 9,
    "start_time": "2022-07-30T21:46:29.265Z"
   },
   {
    "duration": 13,
    "start_time": "2022-07-30T21:46:29.276Z"
   },
   {
    "duration": 169,
    "start_time": "2022-07-30T21:46:29.291Z"
   },
   {
    "duration": 6,
    "start_time": "2022-07-30T21:46:29.462Z"
   },
   {
    "duration": 20,
    "start_time": "2022-07-30T21:46:29.469Z"
   },
   {
    "duration": 12029,
    "start_time": "2022-07-30T21:46:29.491Z"
   },
   {
    "duration": 21,
    "start_time": "2022-07-30T21:46:41.524Z"
   },
   {
    "duration": 23,
    "start_time": "2022-07-30T21:46:41.547Z"
   },
   {
    "duration": 222,
    "start_time": "2022-07-30T21:46:41.572Z"
   },
   {
    "duration": 206,
    "start_time": "2022-07-30T21:46:41.795Z"
   },
   {
    "duration": 391,
    "start_time": "2022-07-30T21:46:42.002Z"
   },
   {
    "duration": 299,
    "start_time": "2022-07-30T21:46:42.395Z"
   },
   {
    "duration": 10,
    "start_time": "2022-07-30T21:46:42.696Z"
   },
   {
    "duration": 37,
    "start_time": "2022-07-30T21:46:42.707Z"
   },
   {
    "duration": 15,
    "start_time": "2022-07-30T21:46:42.746Z"
   },
   {
    "duration": 147,
    "start_time": "2022-07-30T21:46:42.763Z"
   },
   {
    "duration": 25,
    "start_time": "2022-07-30T21:46:42.911Z"
   },
   {
    "duration": 34,
    "start_time": "2022-07-30T21:46:42.938Z"
   },
   {
    "duration": 23,
    "start_time": "2022-07-30T21:46:43.025Z"
   },
   {
    "duration": 5,
    "start_time": "2022-07-30T21:46:43.050Z"
   },
   {
    "duration": 19,
    "start_time": "2022-07-30T21:46:43.059Z"
   },
   {
    "duration": 1247,
    "start_time": "2022-07-31T08:01:02.462Z"
   },
   {
    "duration": 706,
    "start_time": "2022-07-31T08:01:04.859Z"
   },
   {
    "duration": 138,
    "start_time": "2022-07-31T08:01:06.570Z"
   },
   {
    "duration": 32,
    "start_time": "2022-07-31T08:01:08.363Z"
   },
   {
    "duration": 75,
    "start_time": "2022-07-31T08:01:09.167Z"
   },
   {
    "duration": 196,
    "start_time": "2022-07-31T08:01:10.624Z"
   },
   {
    "duration": 39,
    "start_time": "2022-07-31T08:01:12.699Z"
   },
   {
    "duration": 6,
    "start_time": "2022-07-31T08:01:15.477Z"
   },
   {
    "duration": 7,
    "start_time": "2022-07-31T08:01:16.188Z"
   },
   {
    "duration": 120,
    "start_time": "2022-07-31T08:01:17.371Z"
   },
   {
    "duration": 52,
    "start_time": "2022-07-31T08:01:17.891Z"
   },
   {
    "duration": 69,
    "start_time": "2022-07-31T08:01:19.831Z"
   },
   {
    "duration": 15,
    "start_time": "2022-07-31T08:01:22.911Z"
   },
   {
    "duration": 51,
    "start_time": "2022-07-31T08:01:32.722Z"
   },
   {
    "duration": 136,
    "start_time": "2022-07-31T08:02:00.703Z"
   },
   {
    "duration": 61,
    "start_time": "2022-07-31T08:03:54.704Z"
   },
   {
    "duration": 229,
    "start_time": "2022-07-31T08:06:32.092Z"
   },
   {
    "duration": 185,
    "start_time": "2022-07-31T08:07:58.038Z"
   },
   {
    "duration": 54,
    "start_time": "2022-07-31T09:40:24.617Z"
   },
   {
    "duration": 1316,
    "start_time": "2022-07-31T09:40:34.129Z"
   },
   {
    "duration": 728,
    "start_time": "2022-07-31T09:40:35.447Z"
   },
   {
    "duration": 112,
    "start_time": "2022-07-31T09:40:36.177Z"
   },
   {
    "duration": 42,
    "start_time": "2022-07-31T09:40:36.291Z"
   },
   {
    "duration": 42,
    "start_time": "2022-07-31T09:40:36.334Z"
   },
   {
    "duration": 172,
    "start_time": "2022-07-31T09:40:36.378Z"
   },
   {
    "duration": 77,
    "start_time": "2022-07-31T09:40:36.552Z"
   },
   {
    "duration": 9,
    "start_time": "2022-07-31T09:40:36.631Z"
   },
   {
    "duration": 10,
    "start_time": "2022-07-31T09:40:36.649Z"
   },
   {
    "duration": 205,
    "start_time": "2022-07-31T09:40:36.663Z"
   },
   {
    "duration": 50,
    "start_time": "2022-07-31T09:40:36.869Z"
   },
   {
    "duration": 89,
    "start_time": "2022-07-31T09:40:36.921Z"
   },
   {
    "duration": 12,
    "start_time": "2022-07-31T09:40:37.013Z"
   },
   {
    "duration": 17,
    "start_time": "2022-07-31T09:40:37.027Z"
   },
   {
    "duration": 46,
    "start_time": "2022-07-31T09:40:37.047Z"
   },
   {
    "duration": 6,
    "start_time": "2022-07-31T09:40:37.094Z"
   },
   {
    "duration": 18,
    "start_time": "2022-07-31T09:40:37.101Z"
   },
   {
    "duration": 15,
    "start_time": "2022-07-31T09:40:37.120Z"
   },
   {
    "duration": 21,
    "start_time": "2022-07-31T09:40:37.137Z"
   },
   {
    "duration": 21,
    "start_time": "2022-07-31T09:40:37.160Z"
   },
   {
    "duration": 16,
    "start_time": "2022-07-31T09:40:37.183Z"
   },
   {
    "duration": 13,
    "start_time": "2022-07-31T09:40:37.201Z"
   },
   {
    "duration": 142,
    "start_time": "2022-07-31T09:40:37.216Z"
   },
   {
    "duration": 8,
    "start_time": "2022-07-31T09:40:37.360Z"
   },
   {
    "duration": 30,
    "start_time": "2022-07-31T09:40:37.369Z"
   },
   {
    "duration": 10332,
    "start_time": "2022-07-31T09:40:37.401Z"
   },
   {
    "duration": 18,
    "start_time": "2022-07-31T09:40:47.735Z"
   },
   {
    "duration": 31,
    "start_time": "2022-07-31T09:40:47.757Z"
   },
   {
    "duration": 3,
    "start_time": "2022-07-31T09:40:47.789Z"
   },
   {
    "duration": 17,
    "start_time": "2022-07-31T09:40:47.793Z"
   },
   {
    "duration": 210,
    "start_time": "2022-07-31T09:40:47.812Z"
   },
   {
    "duration": 223,
    "start_time": "2022-07-31T09:40:48.024Z"
   },
   {
    "duration": 339,
    "start_time": "2022-07-31T09:40:48.249Z"
   },
   {
    "duration": 287,
    "start_time": "2022-07-31T09:40:48.590Z"
   },
   {
    "duration": 10,
    "start_time": "2022-07-31T09:40:48.879Z"
   },
   {
    "duration": 28,
    "start_time": "2022-07-31T09:40:48.890Z"
   },
   {
    "duration": 32,
    "start_time": "2022-07-31T09:40:48.920Z"
   },
   {
    "duration": 160,
    "start_time": "2022-07-31T09:40:48.954Z"
   },
   {
    "duration": 11,
    "start_time": "2022-07-31T09:40:49.115Z"
   },
   {
    "duration": 46,
    "start_time": "2022-07-31T09:40:49.127Z"
   },
   {
    "duration": 80,
    "start_time": "2022-07-31T09:40:49.175Z"
   },
   {
    "duration": 7,
    "start_time": "2022-07-31T09:40:49.257Z"
   },
   {
    "duration": 26,
    "start_time": "2022-07-31T09:40:49.266Z"
   },
   {
    "duration": 6,
    "start_time": "2022-07-31T09:45:35.506Z"
   },
   {
    "duration": 10,
    "start_time": "2022-07-31T09:45:52.415Z"
   },
   {
    "duration": 145,
    "start_time": "2022-07-31T09:46:03.999Z"
   },
   {
    "duration": 6,
    "start_time": "2022-07-31T09:46:12.011Z"
   },
   {
    "duration": 11,
    "start_time": "2022-07-31T09:46:18.503Z"
   },
   {
    "duration": 8,
    "start_time": "2022-07-31T09:46:22.011Z"
   },
   {
    "duration": 6,
    "start_time": "2022-07-31T09:46:50.625Z"
   },
   {
    "duration": 63,
    "start_time": "2022-07-31T09:47:03.442Z"
   },
   {
    "duration": 17,
    "start_time": "2022-07-31T09:47:09.964Z"
   },
   {
    "duration": 20,
    "start_time": "2022-07-31T09:47:21.199Z"
   },
   {
    "duration": 21,
    "start_time": "2022-07-31T09:47:39.352Z"
   },
   {
    "duration": 25,
    "start_time": "2022-07-31T09:47:49.059Z"
   },
   {
    "duration": 19,
    "start_time": "2022-07-31T09:48:00.636Z"
   },
   {
    "duration": 22,
    "start_time": "2022-07-31T09:49:15.318Z"
   },
   {
    "duration": 20,
    "start_time": "2022-07-31T09:49:44.155Z"
   },
   {
    "duration": 28,
    "start_time": "2022-07-31T09:49:56.451Z"
   },
   {
    "duration": 17,
    "start_time": "2022-07-31T09:50:06.014Z"
   },
   {
    "duration": 39,
    "start_time": "2022-07-31T09:50:29.209Z"
   },
   {
    "duration": 60,
    "start_time": "2022-07-31T10:02:53.916Z"
   },
   {
    "duration": 49,
    "start_time": "2022-07-31T10:03:11.872Z"
   },
   {
    "duration": 29,
    "start_time": "2022-07-31T10:03:19.158Z"
   },
   {
    "duration": 41,
    "start_time": "2022-07-31T10:03:24.519Z"
   },
   {
    "duration": 39,
    "start_time": "2022-07-31T10:03:29.221Z"
   },
   {
    "duration": 43,
    "start_time": "2022-07-31T10:03:51.457Z"
   },
   {
    "duration": 60,
    "start_time": "2022-07-31T10:04:23.027Z"
   },
   {
    "duration": 54,
    "start_time": "2022-07-31T10:04:26.063Z"
   },
   {
    "duration": 40,
    "start_time": "2022-07-31T10:04:29.176Z"
   },
   {
    "duration": 19,
    "start_time": "2022-07-31T10:05:07.254Z"
   },
   {
    "duration": 17,
    "start_time": "2022-07-31T10:05:57.710Z"
   },
   {
    "duration": 19,
    "start_time": "2022-07-31T10:06:34.551Z"
   },
   {
    "duration": 10,
    "start_time": "2022-07-31T10:08:26.961Z"
   },
   {
    "duration": 7,
    "start_time": "2022-07-31T10:09:04.615Z"
   },
   {
    "duration": 14,
    "start_time": "2022-07-31T10:09:47.246Z"
   },
   {
    "duration": 146,
    "start_time": "2022-07-31T10:10:06.907Z"
   },
   {
    "duration": 9,
    "start_time": "2022-07-31T10:10:11.210Z"
   },
   {
    "duration": 11171,
    "start_time": "2022-07-31T10:10:29.910Z"
   },
   {
    "duration": 1121,
    "start_time": "2022-07-31T10:11:51.151Z"
   },
   {
    "duration": 629,
    "start_time": "2022-07-31T10:11:52.274Z"
   },
   {
    "duration": 137,
    "start_time": "2022-07-31T10:11:52.904Z"
   },
   {
    "duration": 31,
    "start_time": "2022-07-31T10:11:53.043Z"
   },
   {
    "duration": 34,
    "start_time": "2022-07-31T10:11:53.075Z"
   },
   {
    "duration": 167,
    "start_time": "2022-07-31T10:11:53.111Z"
   },
   {
    "duration": 27,
    "start_time": "2022-07-31T10:11:53.280Z"
   },
   {
    "duration": 4,
    "start_time": "2022-07-31T10:11:53.308Z"
   },
   {
    "duration": 10,
    "start_time": "2022-07-31T10:11:53.313Z"
   },
   {
    "duration": 119,
    "start_time": "2022-07-31T10:11:53.336Z"
   },
   {
    "duration": 51,
    "start_time": "2022-07-31T10:11:53.458Z"
   },
   {
    "duration": 50,
    "start_time": "2022-07-31T10:11:53.511Z"
   },
   {
    "duration": 14,
    "start_time": "2022-07-31T10:11:53.563Z"
   },
   {
    "duration": 9,
    "start_time": "2022-07-31T10:11:53.579Z"
   },
   {
    "duration": 55,
    "start_time": "2022-07-31T10:11:53.590Z"
   },
   {
    "duration": 6,
    "start_time": "2022-07-31T10:11:53.653Z"
   },
   {
    "duration": 8,
    "start_time": "2022-07-31T10:11:53.661Z"
   },
   {
    "duration": 13,
    "start_time": "2022-07-31T10:11:53.670Z"
   },
   {
    "duration": 19,
    "start_time": "2022-07-31T10:11:53.684Z"
   },
   {
    "duration": 43,
    "start_time": "2022-07-31T10:11:53.705Z"
   },
   {
    "duration": 13,
    "start_time": "2022-07-31T10:11:53.750Z"
   },
   {
    "duration": 12,
    "start_time": "2022-07-31T10:11:53.765Z"
   },
   {
    "duration": 269,
    "start_time": "2022-07-31T10:11:53.779Z"
   },
   {
    "duration": 0,
    "start_time": "2022-07-31T10:11:54.050Z"
   },
   {
    "duration": 0,
    "start_time": "2022-07-31T10:11:54.051Z"
   },
   {
    "duration": 0,
    "start_time": "2022-07-31T10:11:54.052Z"
   },
   {
    "duration": 0,
    "start_time": "2022-07-31T10:11:54.054Z"
   },
   {
    "duration": 0,
    "start_time": "2022-07-31T10:11:54.055Z"
   },
   {
    "duration": 0,
    "start_time": "2022-07-31T10:11:54.055Z"
   },
   {
    "duration": 0,
    "start_time": "2022-07-31T10:11:54.056Z"
   },
   {
    "duration": 0,
    "start_time": "2022-07-31T10:11:54.057Z"
   },
   {
    "duration": 0,
    "start_time": "2022-07-31T10:11:54.058Z"
   },
   {
    "duration": 0,
    "start_time": "2022-07-31T10:11:54.059Z"
   },
   {
    "duration": 0,
    "start_time": "2022-07-31T10:11:54.060Z"
   },
   {
    "duration": 0,
    "start_time": "2022-07-31T10:11:54.061Z"
   },
   {
    "duration": 0,
    "start_time": "2022-07-31T10:11:54.062Z"
   },
   {
    "duration": 0,
    "start_time": "2022-07-31T10:11:54.063Z"
   },
   {
    "duration": 0,
    "start_time": "2022-07-31T10:11:54.064Z"
   },
   {
    "duration": 0,
    "start_time": "2022-07-31T10:11:54.065Z"
   },
   {
    "duration": 0,
    "start_time": "2022-07-31T10:11:54.066Z"
   },
   {
    "duration": 0,
    "start_time": "2022-07-31T10:11:54.068Z"
   },
   {
    "duration": 0,
    "start_time": "2022-07-31T10:11:54.069Z"
   },
   {
    "duration": 0,
    "start_time": "2022-07-31T10:11:54.070Z"
   },
   {
    "duration": 0,
    "start_time": "2022-07-31T10:11:54.071Z"
   },
   {
    "duration": 0,
    "start_time": "2022-07-31T10:11:54.073Z"
   },
   {
    "duration": 0,
    "start_time": "2022-07-31T10:11:54.074Z"
   },
   {
    "duration": 1226,
    "start_time": "2022-07-31T10:12:11.823Z"
   },
   {
    "duration": 530,
    "start_time": "2022-07-31T10:12:13.051Z"
   },
   {
    "duration": 111,
    "start_time": "2022-07-31T10:12:13.583Z"
   },
   {
    "duration": 47,
    "start_time": "2022-07-31T10:12:13.696Z"
   },
   {
    "duration": 36,
    "start_time": "2022-07-31T10:12:13.745Z"
   },
   {
    "duration": 172,
    "start_time": "2022-07-31T10:12:13.783Z"
   },
   {
    "duration": 28,
    "start_time": "2022-07-31T10:12:13.957Z"
   },
   {
    "duration": 4,
    "start_time": "2022-07-31T10:12:13.987Z"
   },
   {
    "duration": 8,
    "start_time": "2022-07-31T10:12:13.993Z"
   },
   {
    "duration": 105,
    "start_time": "2022-07-31T10:12:14.002Z"
   },
   {
    "duration": 71,
    "start_time": "2022-07-31T10:12:14.109Z"
   },
   {
    "duration": 53,
    "start_time": "2022-07-31T10:12:14.182Z"
   },
   {
    "duration": 24,
    "start_time": "2022-07-31T10:12:14.236Z"
   },
   {
    "duration": 10,
    "start_time": "2022-07-31T10:12:14.264Z"
   },
   {
    "duration": 31,
    "start_time": "2022-07-31T10:12:14.275Z"
   },
   {
    "duration": 37,
    "start_time": "2022-07-31T10:12:14.307Z"
   },
   {
    "duration": 9,
    "start_time": "2022-07-31T10:12:14.347Z"
   },
   {
    "duration": 16,
    "start_time": "2022-07-31T10:12:14.358Z"
   },
   {
    "duration": 18,
    "start_time": "2022-07-31T10:12:14.376Z"
   },
   {
    "duration": 11,
    "start_time": "2022-07-31T10:12:14.396Z"
   },
   {
    "duration": 44,
    "start_time": "2022-07-31T10:12:14.408Z"
   },
   {
    "duration": 12,
    "start_time": "2022-07-31T10:12:14.454Z"
   },
   {
    "duration": 128,
    "start_time": "2022-07-31T10:12:14.467Z"
   },
   {
    "duration": 6,
    "start_time": "2022-07-31T10:12:14.596Z"
   },
   {
    "duration": 40,
    "start_time": "2022-07-31T10:12:14.603Z"
   },
   {
    "duration": 10372,
    "start_time": "2022-07-31T10:12:14.645Z"
   },
   {
    "duration": 30,
    "start_time": "2022-07-31T10:12:25.019Z"
   },
   {
    "duration": 26,
    "start_time": "2022-07-31T10:12:25.051Z"
   },
   {
    "duration": 3,
    "start_time": "2022-07-31T10:12:25.078Z"
   },
   {
    "duration": 19,
    "start_time": "2022-07-31T10:12:25.082Z"
   },
   {
    "duration": 120,
    "start_time": "2022-07-31T10:12:25.102Z"
   },
   {
    "duration": 0,
    "start_time": "2022-07-31T10:12:25.224Z"
   },
   {
    "duration": 0,
    "start_time": "2022-07-31T10:12:25.225Z"
   },
   {
    "duration": 0,
    "start_time": "2022-07-31T10:12:25.226Z"
   },
   {
    "duration": 0,
    "start_time": "2022-07-31T10:12:25.226Z"
   },
   {
    "duration": 0,
    "start_time": "2022-07-31T10:12:25.227Z"
   },
   {
    "duration": 0,
    "start_time": "2022-07-31T10:12:25.228Z"
   },
   {
    "duration": 0,
    "start_time": "2022-07-31T10:12:25.249Z"
   },
   {
    "duration": 0,
    "start_time": "2022-07-31T10:12:25.250Z"
   },
   {
    "duration": 0,
    "start_time": "2022-07-31T10:12:25.251Z"
   },
   {
    "duration": 0,
    "start_time": "2022-07-31T10:12:25.252Z"
   },
   {
    "duration": 0,
    "start_time": "2022-07-31T10:12:25.253Z"
   },
   {
    "duration": 0,
    "start_time": "2022-07-31T10:12:25.254Z"
   },
   {
    "duration": 0,
    "start_time": "2022-07-31T10:12:25.255Z"
   },
   {
    "duration": 0,
    "start_time": "2022-07-31T10:12:25.256Z"
   },
   {
    "duration": 0,
    "start_time": "2022-07-31T10:12:25.257Z"
   },
   {
    "duration": 17,
    "start_time": "2022-07-31T10:13:09.456Z"
   },
   {
    "duration": 8,
    "start_time": "2022-07-31T10:13:17.122Z"
   },
   {
    "duration": 15,
    "start_time": "2022-07-31T10:13:29.246Z"
   },
   {
    "duration": 1152,
    "start_time": "2022-07-31T10:15:10.550Z"
   },
   {
    "duration": 563,
    "start_time": "2022-07-31T10:15:11.704Z"
   },
   {
    "duration": 115,
    "start_time": "2022-07-31T10:15:12.268Z"
   },
   {
    "duration": 26,
    "start_time": "2022-07-31T10:15:12.385Z"
   },
   {
    "duration": 55,
    "start_time": "2022-07-31T10:15:12.433Z"
   },
   {
    "duration": 201,
    "start_time": "2022-07-31T10:15:12.490Z"
   },
   {
    "duration": 35,
    "start_time": "2022-07-31T10:15:12.693Z"
   },
   {
    "duration": 10,
    "start_time": "2022-07-31T10:15:12.741Z"
   },
   {
    "duration": 18,
    "start_time": "2022-07-31T10:15:12.754Z"
   },
   {
    "duration": 148,
    "start_time": "2022-07-31T10:15:12.774Z"
   },
   {
    "duration": 58,
    "start_time": "2022-07-31T10:15:12.924Z"
   },
   {
    "duration": 39,
    "start_time": "2022-07-31T10:15:12.983Z"
   },
   {
    "duration": 28,
    "start_time": "2022-07-31T10:15:13.024Z"
   },
   {
    "duration": 10,
    "start_time": "2022-07-31T10:15:13.055Z"
   },
   {
    "duration": 31,
    "start_time": "2022-07-31T10:15:13.066Z"
   },
   {
    "duration": 5,
    "start_time": "2022-07-31T10:15:13.099Z"
   },
   {
    "duration": 39,
    "start_time": "2022-07-31T10:15:13.105Z"
   },
   {
    "duration": 12,
    "start_time": "2022-07-31T10:15:13.154Z"
   },
   {
    "duration": 19,
    "start_time": "2022-07-31T10:15:13.168Z"
   },
   {
    "duration": 12,
    "start_time": "2022-07-31T10:15:13.189Z"
   },
   {
    "duration": 42,
    "start_time": "2022-07-31T10:15:13.202Z"
   },
   {
    "duration": 17,
    "start_time": "2022-07-31T10:15:13.245Z"
   },
   {
    "duration": 124,
    "start_time": "2022-07-31T10:15:13.264Z"
   },
   {
    "duration": 6,
    "start_time": "2022-07-31T10:15:13.389Z"
   },
   {
    "duration": 50,
    "start_time": "2022-07-31T10:15:13.396Z"
   },
   {
    "duration": 10470,
    "start_time": "2022-07-31T10:15:13.448Z"
   },
   {
    "duration": 28,
    "start_time": "2022-07-31T10:15:23.920Z"
   },
   {
    "duration": 16,
    "start_time": "2022-07-31T10:15:23.949Z"
   },
   {
    "duration": 23,
    "start_time": "2022-07-31T10:15:23.967Z"
   },
   {
    "duration": 2,
    "start_time": "2022-07-31T10:15:23.992Z"
   },
   {
    "duration": 224,
    "start_time": "2022-07-31T10:15:23.996Z"
   },
   {
    "duration": 208,
    "start_time": "2022-07-31T10:15:24.222Z"
   },
   {
    "duration": 360,
    "start_time": "2022-07-31T10:15:24.431Z"
   },
   {
    "duration": 301,
    "start_time": "2022-07-31T10:15:24.793Z"
   },
   {
    "duration": 11,
    "start_time": "2022-07-31T10:15:25.095Z"
   },
   {
    "duration": 39,
    "start_time": "2022-07-31T10:15:25.107Z"
   },
   {
    "duration": 16,
    "start_time": "2022-07-31T10:15:25.148Z"
   },
   {
    "duration": 170,
    "start_time": "2022-07-31T10:15:25.165Z"
   },
   {
    "duration": 12,
    "start_time": "2022-07-31T10:15:25.336Z"
   },
   {
    "duration": 91,
    "start_time": "2022-07-31T10:15:25.351Z"
   },
   {
    "duration": 23,
    "start_time": "2022-07-31T10:15:25.447Z"
   },
   {
    "duration": 8,
    "start_time": "2022-07-31T10:15:25.473Z"
   },
   {
    "duration": 75,
    "start_time": "2022-07-31T10:15:25.483Z"
   },
   {
    "duration": 123,
    "start_time": "2022-07-31T10:27:01.624Z"
   },
   {
    "duration": 12,
    "start_time": "2022-07-31T10:30:53.919Z"
   },
   {
    "duration": 4,
    "start_time": "2022-07-31T10:31:49.046Z"
   },
   {
    "duration": 14,
    "start_time": "2022-07-31T10:31:57.370Z"
   },
   {
    "duration": 1126,
    "start_time": "2022-07-31T10:32:06.302Z"
   },
   {
    "duration": 545,
    "start_time": "2022-07-31T10:32:07.429Z"
   },
   {
    "duration": 122,
    "start_time": "2022-07-31T10:32:07.975Z"
   },
   {
    "duration": 63,
    "start_time": "2022-07-31T10:32:08.099Z"
   },
   {
    "duration": 36,
    "start_time": "2022-07-31T10:32:08.165Z"
   },
   {
    "duration": 160,
    "start_time": "2022-07-31T10:32:08.203Z"
   },
   {
    "duration": 29,
    "start_time": "2022-07-31T10:32:08.365Z"
   },
   {
    "duration": 6,
    "start_time": "2022-07-31T10:32:08.396Z"
   },
   {
    "duration": 12,
    "start_time": "2022-07-31T10:32:08.404Z"
   },
   {
    "duration": 108,
    "start_time": "2022-07-31T10:32:08.417Z"
   },
   {
    "duration": 62,
    "start_time": "2022-07-31T10:32:08.526Z"
   },
   {
    "duration": 57,
    "start_time": "2022-07-31T10:32:08.590Z"
   },
   {
    "duration": 19,
    "start_time": "2022-07-31T10:32:08.649Z"
   },
   {
    "duration": 11,
    "start_time": "2022-07-31T10:32:08.673Z"
   },
   {
    "duration": 30,
    "start_time": "2022-07-31T10:32:08.686Z"
   },
   {
    "duration": 24,
    "start_time": "2022-07-31T10:32:08.734Z"
   },
   {
    "duration": 9,
    "start_time": "2022-07-31T10:32:08.759Z"
   },
   {
    "duration": 18,
    "start_time": "2022-07-31T10:32:08.770Z"
   },
   {
    "duration": 25,
    "start_time": "2022-07-31T10:32:08.790Z"
   },
   {
    "duration": 31,
    "start_time": "2022-07-31T10:32:08.817Z"
   },
   {
    "duration": 21,
    "start_time": "2022-07-31T10:32:08.850Z"
   },
   {
    "duration": 17,
    "start_time": "2022-07-31T10:32:08.874Z"
   },
   {
    "duration": 162,
    "start_time": "2022-07-31T10:32:08.894Z"
   },
   {
    "duration": 6,
    "start_time": "2022-07-31T10:32:09.058Z"
   },
   {
    "duration": 31,
    "start_time": "2022-07-31T10:32:09.066Z"
   },
   {
    "duration": 10562,
    "start_time": "2022-07-31T10:32:09.099Z"
   },
   {
    "duration": 21,
    "start_time": "2022-07-31T10:32:19.663Z"
   },
   {
    "duration": 18,
    "start_time": "2022-07-31T10:32:19.687Z"
   },
   {
    "duration": 62,
    "start_time": "2022-07-31T10:32:19.707Z"
   },
   {
    "duration": 4,
    "start_time": "2022-07-31T10:32:19.771Z"
   },
   {
    "duration": 172,
    "start_time": "2022-07-31T10:32:19.777Z"
   },
   {
    "duration": 0,
    "start_time": "2022-07-31T10:32:19.952Z"
   },
   {
    "duration": 0,
    "start_time": "2022-07-31T10:32:19.953Z"
   },
   {
    "duration": 0,
    "start_time": "2022-07-31T10:32:19.954Z"
   },
   {
    "duration": 0,
    "start_time": "2022-07-31T10:32:19.956Z"
   },
   {
    "duration": 0,
    "start_time": "2022-07-31T10:32:19.961Z"
   },
   {
    "duration": 0,
    "start_time": "2022-07-31T10:32:19.962Z"
   },
   {
    "duration": 0,
    "start_time": "2022-07-31T10:32:19.964Z"
   },
   {
    "duration": 0,
    "start_time": "2022-07-31T10:32:19.966Z"
   },
   {
    "duration": 0,
    "start_time": "2022-07-31T10:32:19.968Z"
   },
   {
    "duration": 0,
    "start_time": "2022-07-31T10:32:19.971Z"
   },
   {
    "duration": 0,
    "start_time": "2022-07-31T10:32:19.976Z"
   },
   {
    "duration": 0,
    "start_time": "2022-07-31T10:32:19.977Z"
   },
   {
    "duration": 0,
    "start_time": "2022-07-31T10:32:19.978Z"
   },
   {
    "duration": 0,
    "start_time": "2022-07-31T10:32:19.980Z"
   },
   {
    "duration": 1093,
    "start_time": "2022-07-31T16:19:20.479Z"
   },
   {
    "duration": 560,
    "start_time": "2022-07-31T16:19:21.574Z"
   },
   {
    "duration": 110,
    "start_time": "2022-07-31T16:19:22.135Z"
   },
   {
    "duration": 28,
    "start_time": "2022-07-31T16:19:22.247Z"
   },
   {
    "duration": 57,
    "start_time": "2022-07-31T16:19:22.277Z"
   },
   {
    "duration": 187,
    "start_time": "2022-07-31T16:19:22.336Z"
   },
   {
    "duration": 30,
    "start_time": "2022-07-31T16:19:22.525Z"
   },
   {
    "duration": 6,
    "start_time": "2022-07-31T16:19:22.557Z"
   },
   {
    "duration": 19,
    "start_time": "2022-07-31T16:19:22.565Z"
   },
   {
    "duration": 155,
    "start_time": "2022-07-31T16:19:22.587Z"
   },
   {
    "duration": 70,
    "start_time": "2022-07-31T16:19:22.745Z"
   },
   {
    "duration": 57,
    "start_time": "2022-07-31T16:19:22.817Z"
   },
   {
    "duration": 32,
    "start_time": "2022-07-31T16:19:22.877Z"
   },
   {
    "duration": 17,
    "start_time": "2022-07-31T16:19:22.911Z"
   },
   {
    "duration": 44,
    "start_time": "2022-07-31T16:19:22.930Z"
   },
   {
    "duration": 9,
    "start_time": "2022-07-31T16:19:22.976Z"
   },
   {
    "duration": 13,
    "start_time": "2022-07-31T16:19:22.987Z"
   },
   {
    "duration": 36,
    "start_time": "2022-07-31T16:19:23.002Z"
   },
   {
    "duration": 26,
    "start_time": "2022-07-31T16:19:23.040Z"
   },
   {
    "duration": 14,
    "start_time": "2022-07-31T16:19:23.068Z"
   },
   {
    "duration": 13,
    "start_time": "2022-07-31T16:19:23.084Z"
   },
   {
    "duration": 42,
    "start_time": "2022-07-31T16:19:23.098Z"
   },
   {
    "duration": 142,
    "start_time": "2022-07-31T16:19:23.142Z"
   },
   {
    "duration": 7,
    "start_time": "2022-07-31T16:19:23.286Z"
   },
   {
    "duration": 20,
    "start_time": "2022-07-31T16:19:23.294Z"
   },
   {
    "duration": 10658,
    "start_time": "2022-07-31T16:19:23.333Z"
   },
   {
    "duration": 15,
    "start_time": "2022-07-31T16:19:33.992Z"
   },
   {
    "duration": 31,
    "start_time": "2022-07-31T16:19:34.010Z"
   },
   {
    "duration": 34,
    "start_time": "2022-07-31T16:19:34.054Z"
   },
   {
    "duration": 3,
    "start_time": "2022-07-31T16:19:34.089Z"
   },
   {
    "duration": 121,
    "start_time": "2022-07-31T16:19:34.094Z"
   },
   {
    "duration": 0,
    "start_time": "2022-07-31T16:19:34.217Z"
   },
   {
    "duration": 0,
    "start_time": "2022-07-31T16:19:34.219Z"
   },
   {
    "duration": 0,
    "start_time": "2022-07-31T16:19:34.220Z"
   },
   {
    "duration": 0,
    "start_time": "2022-07-31T16:19:34.234Z"
   },
   {
    "duration": 0,
    "start_time": "2022-07-31T16:19:34.235Z"
   },
   {
    "duration": 0,
    "start_time": "2022-07-31T16:19:34.236Z"
   },
   {
    "duration": 0,
    "start_time": "2022-07-31T16:19:34.237Z"
   },
   {
    "duration": 0,
    "start_time": "2022-07-31T16:19:34.238Z"
   },
   {
    "duration": 0,
    "start_time": "2022-07-31T16:19:34.239Z"
   },
   {
    "duration": 0,
    "start_time": "2022-07-31T16:19:34.241Z"
   },
   {
    "duration": 0,
    "start_time": "2022-07-31T16:19:34.242Z"
   },
   {
    "duration": 0,
    "start_time": "2022-07-31T16:19:34.244Z"
   },
   {
    "duration": 0,
    "start_time": "2022-07-31T16:19:34.245Z"
   },
   {
    "duration": 0,
    "start_time": "2022-07-31T16:19:34.247Z"
   },
   {
    "duration": 10,
    "start_time": "2022-07-31T16:20:42.370Z"
   },
   {
    "duration": 1112,
    "start_time": "2022-07-31T16:20:56.338Z"
   },
   {
    "duration": 535,
    "start_time": "2022-07-31T16:20:57.452Z"
   },
   {
    "duration": 123,
    "start_time": "2022-07-31T16:20:57.989Z"
   },
   {
    "duration": 33,
    "start_time": "2022-07-31T16:20:58.113Z"
   },
   {
    "duration": 36,
    "start_time": "2022-07-31T16:20:58.148Z"
   },
   {
    "duration": 169,
    "start_time": "2022-07-31T16:20:58.186Z"
   },
   {
    "duration": 26,
    "start_time": "2022-07-31T16:20:58.357Z"
   },
   {
    "duration": 4,
    "start_time": "2022-07-31T16:20:58.385Z"
   },
   {
    "duration": 12,
    "start_time": "2022-07-31T16:20:58.391Z"
   },
   {
    "duration": 86,
    "start_time": "2022-07-31T16:20:58.405Z"
   },
   {
    "duration": 58,
    "start_time": "2022-07-31T16:20:58.492Z"
   },
   {
    "duration": 53,
    "start_time": "2022-07-31T16:20:58.551Z"
   },
   {
    "duration": 16,
    "start_time": "2022-07-31T16:20:58.606Z"
   },
   {
    "duration": 19,
    "start_time": "2022-07-31T16:20:58.626Z"
   },
   {
    "duration": 28,
    "start_time": "2022-07-31T16:20:58.646Z"
   },
   {
    "duration": 6,
    "start_time": "2022-07-31T16:20:58.675Z"
   },
   {
    "duration": 8,
    "start_time": "2022-07-31T16:20:58.683Z"
   },
   {
    "duration": 13,
    "start_time": "2022-07-31T16:20:58.692Z"
   },
   {
    "duration": 50,
    "start_time": "2022-07-31T16:20:58.706Z"
   },
   {
    "duration": 13,
    "start_time": "2022-07-31T16:20:58.758Z"
   },
   {
    "duration": 11,
    "start_time": "2022-07-31T16:20:58.773Z"
   },
   {
    "duration": 13,
    "start_time": "2022-07-31T16:20:58.785Z"
   },
   {
    "duration": 153,
    "start_time": "2022-07-31T16:20:58.799Z"
   },
   {
    "duration": 9,
    "start_time": "2022-07-31T16:20:58.954Z"
   },
   {
    "duration": 22,
    "start_time": "2022-07-31T16:20:58.964Z"
   },
   {
    "duration": 10332,
    "start_time": "2022-07-31T16:20:58.988Z"
   },
   {
    "duration": 18,
    "start_time": "2022-07-31T16:21:09.322Z"
   },
   {
    "duration": 13,
    "start_time": "2022-07-31T16:21:09.342Z"
   },
   {
    "duration": 25,
    "start_time": "2022-07-31T16:21:09.357Z"
   },
   {
    "duration": 6,
    "start_time": "2022-07-31T16:21:09.383Z"
   },
   {
    "duration": 7,
    "start_time": "2022-07-31T16:21:09.390Z"
   },
   {
    "duration": 5,
    "start_time": "2022-07-31T16:21:09.399Z"
   },
   {
    "duration": 228,
    "start_time": "2022-07-31T16:21:09.405Z"
   },
   {
    "duration": 212,
    "start_time": "2022-07-31T16:21:09.635Z"
   },
   {
    "duration": 343,
    "start_time": "2022-07-31T16:21:09.849Z"
   },
   {
    "duration": 270,
    "start_time": "2022-07-31T16:21:10.194Z"
   },
   {
    "duration": 9,
    "start_time": "2022-07-31T16:21:10.466Z"
   },
   {
    "duration": 18,
    "start_time": "2022-07-31T16:21:10.477Z"
   },
   {
    "duration": 15,
    "start_time": "2022-07-31T16:21:10.497Z"
   },
   {
    "duration": 143,
    "start_time": "2022-07-31T16:21:10.534Z"
   },
   {
    "duration": 11,
    "start_time": "2022-07-31T16:21:10.680Z"
   },
   {
    "duration": 61,
    "start_time": "2022-07-31T16:21:10.693Z"
   },
   {
    "duration": 15,
    "start_time": "2022-07-31T16:21:10.756Z"
   },
   {
    "duration": 5,
    "start_time": "2022-07-31T16:21:10.772Z"
   },
   {
    "duration": 20,
    "start_time": "2022-07-31T16:21:10.833Z"
   },
   {
    "duration": 123,
    "start_time": "2022-07-31T16:21:48.185Z"
   },
   {
    "duration": 1140,
    "start_time": "2022-07-31T16:21:54.905Z"
   },
   {
    "duration": 539,
    "start_time": "2022-07-31T16:21:56.047Z"
   },
   {
    "duration": 108,
    "start_time": "2022-07-31T16:21:56.588Z"
   },
   {
    "duration": 40,
    "start_time": "2022-07-31T16:21:56.698Z"
   },
   {
    "duration": 35,
    "start_time": "2022-07-31T16:21:56.739Z"
   },
   {
    "duration": 162,
    "start_time": "2022-07-31T16:21:56.776Z"
   },
   {
    "duration": 30,
    "start_time": "2022-07-31T16:21:56.939Z"
   },
   {
    "duration": 4,
    "start_time": "2022-07-31T16:21:56.970Z"
   },
   {
    "duration": 7,
    "start_time": "2022-07-31T16:21:56.976Z"
   },
   {
    "duration": 86,
    "start_time": "2022-07-31T16:21:56.986Z"
   },
   {
    "duration": 50,
    "start_time": "2022-07-31T16:21:57.073Z"
   },
   {
    "duration": 51,
    "start_time": "2022-07-31T16:21:57.134Z"
   },
   {
    "duration": 12,
    "start_time": "2022-07-31T16:21:57.187Z"
   },
   {
    "duration": 9,
    "start_time": "2022-07-31T16:21:57.200Z"
   },
   {
    "duration": 34,
    "start_time": "2022-07-31T16:21:57.210Z"
   },
   {
    "duration": 4,
    "start_time": "2022-07-31T16:21:57.246Z"
   },
   {
    "duration": 10,
    "start_time": "2022-07-31T16:21:57.252Z"
   },
   {
    "duration": 13,
    "start_time": "2022-07-31T16:21:57.263Z"
   },
   {
    "duration": 18,
    "start_time": "2022-07-31T16:21:57.278Z"
   },
   {
    "duration": 10,
    "start_time": "2022-07-31T16:21:57.297Z"
   },
   {
    "duration": 10,
    "start_time": "2022-07-31T16:21:57.334Z"
   },
   {
    "duration": 11,
    "start_time": "2022-07-31T16:21:57.346Z"
   },
   {
    "duration": 139,
    "start_time": "2022-07-31T16:21:57.359Z"
   },
   {
    "duration": 6,
    "start_time": "2022-07-31T16:21:57.499Z"
   },
   {
    "duration": 32,
    "start_time": "2022-07-31T16:21:57.506Z"
   },
   {
    "duration": 10134,
    "start_time": "2022-07-31T16:21:57.539Z"
   },
   {
    "duration": 14,
    "start_time": "2022-07-31T16:22:07.674Z"
   },
   {
    "duration": 13,
    "start_time": "2022-07-31T16:22:07.691Z"
   },
   {
    "duration": 41,
    "start_time": "2022-07-31T16:22:07.706Z"
   },
   {
    "duration": 11,
    "start_time": "2022-07-31T16:22:07.749Z"
   },
   {
    "duration": 2,
    "start_time": "2022-07-31T16:22:07.762Z"
   },
   {
    "duration": 5,
    "start_time": "2022-07-31T16:22:07.765Z"
   },
   {
    "duration": 214,
    "start_time": "2022-07-31T16:22:07.771Z"
   },
   {
    "duration": 200,
    "start_time": "2022-07-31T16:22:07.987Z"
   },
   {
    "duration": 339,
    "start_time": "2022-07-31T16:22:08.189Z"
   },
   {
    "duration": 283,
    "start_time": "2022-07-31T16:22:08.533Z"
   },
   {
    "duration": 20,
    "start_time": "2022-07-31T16:22:08.817Z"
   },
   {
    "duration": 20,
    "start_time": "2022-07-31T16:22:08.839Z"
   },
   {
    "duration": 16,
    "start_time": "2022-07-31T16:22:08.861Z"
   },
   {
    "duration": 179,
    "start_time": "2022-07-31T16:22:08.878Z"
   },
   {
    "duration": 11,
    "start_time": "2022-07-31T16:22:09.058Z"
   },
   {
    "duration": 65,
    "start_time": "2022-07-31T16:22:09.070Z"
   },
   {
    "duration": 14,
    "start_time": "2022-07-31T16:22:09.137Z"
   },
   {
    "duration": 5,
    "start_time": "2022-07-31T16:22:09.152Z"
   },
   {
    "duration": 23,
    "start_time": "2022-07-31T16:22:09.159Z"
   },
   {
    "duration": 9,
    "start_time": "2022-07-31T16:22:59.318Z"
   },
   {
    "duration": 130,
    "start_time": "2022-07-31T16:23:55.638Z"
   },
   {
    "duration": 1139,
    "start_time": "2022-07-31T16:24:10.675Z"
   },
   {
    "duration": 563,
    "start_time": "2022-07-31T16:24:11.816Z"
   },
   {
    "duration": 112,
    "start_time": "2022-07-31T16:24:12.381Z"
   },
   {
    "duration": 52,
    "start_time": "2022-07-31T16:24:12.494Z"
   },
   {
    "duration": 37,
    "start_time": "2022-07-31T16:24:12.554Z"
   },
   {
    "duration": 181,
    "start_time": "2022-07-31T16:24:12.593Z"
   },
   {
    "duration": 30,
    "start_time": "2022-07-31T16:24:12.776Z"
   },
   {
    "duration": 5,
    "start_time": "2022-07-31T16:24:12.808Z"
   },
   {
    "duration": 23,
    "start_time": "2022-07-31T16:24:12.815Z"
   },
   {
    "duration": 129,
    "start_time": "2022-07-31T16:24:12.840Z"
   },
   {
    "duration": 48,
    "start_time": "2022-07-31T16:24:12.971Z"
   },
   {
    "duration": 47,
    "start_time": "2022-07-31T16:24:13.021Z"
   },
   {
    "duration": 11,
    "start_time": "2022-07-31T16:24:13.069Z"
   },
   {
    "duration": 9,
    "start_time": "2022-07-31T16:24:13.083Z"
   },
   {
    "duration": 52,
    "start_time": "2022-07-31T16:24:13.093Z"
   },
   {
    "duration": 6,
    "start_time": "2022-07-31T16:24:13.147Z"
   },
   {
    "duration": 10,
    "start_time": "2022-07-31T16:24:13.154Z"
   },
   {
    "duration": 18,
    "start_time": "2022-07-31T16:24:13.165Z"
   },
   {
    "duration": 18,
    "start_time": "2022-07-31T16:24:13.184Z"
   },
   {
    "duration": 32,
    "start_time": "2022-07-31T16:24:13.203Z"
   },
   {
    "duration": 17,
    "start_time": "2022-07-31T16:24:13.237Z"
   },
   {
    "duration": 13,
    "start_time": "2022-07-31T16:24:13.255Z"
   },
   {
    "duration": 139,
    "start_time": "2022-07-31T16:24:13.270Z"
   },
   {
    "duration": 5,
    "start_time": "2022-07-31T16:24:13.410Z"
   },
   {
    "duration": 38,
    "start_time": "2022-07-31T16:24:13.417Z"
   },
   {
    "duration": 10520,
    "start_time": "2022-07-31T16:24:13.457Z"
   },
   {
    "duration": 13,
    "start_time": "2022-07-31T16:24:23.978Z"
   },
   {
    "duration": 13,
    "start_time": "2022-07-31T16:24:23.993Z"
   },
   {
    "duration": 47,
    "start_time": "2022-07-31T16:24:24.007Z"
   },
   {
    "duration": 13,
    "start_time": "2022-07-31T16:24:24.055Z"
   },
   {
    "duration": 139,
    "start_time": "2022-07-31T16:24:24.070Z"
   },
   {
    "duration": 0,
    "start_time": "2022-07-31T16:24:24.211Z"
   },
   {
    "duration": 0,
    "start_time": "2022-07-31T16:24:24.212Z"
   },
   {
    "duration": 0,
    "start_time": "2022-07-31T16:24:24.212Z"
   },
   {
    "duration": 0,
    "start_time": "2022-07-31T16:24:24.213Z"
   },
   {
    "duration": 0,
    "start_time": "2022-07-31T16:24:24.214Z"
   },
   {
    "duration": 0,
    "start_time": "2022-07-31T16:24:24.215Z"
   },
   {
    "duration": 0,
    "start_time": "2022-07-31T16:24:24.215Z"
   },
   {
    "duration": 0,
    "start_time": "2022-07-31T16:24:24.216Z"
   },
   {
    "duration": 0,
    "start_time": "2022-07-31T16:24:24.217Z"
   },
   {
    "duration": 0,
    "start_time": "2022-07-31T16:24:24.218Z"
   },
   {
    "duration": 0,
    "start_time": "2022-07-31T16:24:24.218Z"
   },
   {
    "duration": 0,
    "start_time": "2022-07-31T16:24:24.219Z"
   },
   {
    "duration": 0,
    "start_time": "2022-07-31T16:24:24.233Z"
   },
   {
    "duration": 0,
    "start_time": "2022-07-31T16:24:24.234Z"
   },
   {
    "duration": 32,
    "start_time": "2022-07-31T16:24:45.446Z"
   },
   {
    "duration": 31,
    "start_time": "2022-07-31T16:24:57.372Z"
   },
   {
    "duration": 1120,
    "start_time": "2022-07-31T16:25:04.143Z"
   },
   {
    "duration": 564,
    "start_time": "2022-07-31T16:25:05.265Z"
   },
   {
    "duration": 118,
    "start_time": "2022-07-31T16:25:05.831Z"
   },
   {
    "duration": 27,
    "start_time": "2022-07-31T16:25:05.951Z"
   },
   {
    "duration": 35,
    "start_time": "2022-07-31T16:25:05.979Z"
   },
   {
    "duration": 182,
    "start_time": "2022-07-31T16:25:06.016Z"
   },
   {
    "duration": 28,
    "start_time": "2022-07-31T16:25:06.200Z"
   },
   {
    "duration": 7,
    "start_time": "2022-07-31T16:25:06.233Z"
   },
   {
    "duration": 14,
    "start_time": "2022-07-31T16:25:06.243Z"
   },
   {
    "duration": 100,
    "start_time": "2022-07-31T16:25:06.259Z"
   },
   {
    "duration": 49,
    "start_time": "2022-07-31T16:25:06.360Z"
   },
   {
    "duration": 56,
    "start_time": "2022-07-31T16:25:06.410Z"
   },
   {
    "duration": 11,
    "start_time": "2022-07-31T16:25:06.468Z"
   },
   {
    "duration": 8,
    "start_time": "2022-07-31T16:25:06.480Z"
   },
   {
    "duration": 48,
    "start_time": "2022-07-31T16:25:06.490Z"
   },
   {
    "duration": 7,
    "start_time": "2022-07-31T16:25:06.540Z"
   },
   {
    "duration": 12,
    "start_time": "2022-07-31T16:25:06.549Z"
   },
   {
    "duration": 13,
    "start_time": "2022-07-31T16:25:06.562Z"
   },
   {
    "duration": 17,
    "start_time": "2022-07-31T16:25:06.577Z"
   },
   {
    "duration": 42,
    "start_time": "2022-07-31T16:25:06.596Z"
   },
   {
    "duration": 15,
    "start_time": "2022-07-31T16:25:06.639Z"
   },
   {
    "duration": 12,
    "start_time": "2022-07-31T16:25:06.656Z"
   },
   {
    "duration": 158,
    "start_time": "2022-07-31T16:25:06.669Z"
   },
   {
    "duration": 10,
    "start_time": "2022-07-31T16:25:06.829Z"
   },
   {
    "duration": 28,
    "start_time": "2022-07-31T16:25:06.840Z"
   },
   {
    "duration": 11077,
    "start_time": "2022-07-31T16:25:06.870Z"
   },
   {
    "duration": 17,
    "start_time": "2022-07-31T16:25:17.949Z"
   },
   {
    "duration": 15,
    "start_time": "2022-07-31T16:25:17.969Z"
   },
   {
    "duration": 26,
    "start_time": "2022-07-31T16:25:17.986Z"
   },
   {
    "duration": 20,
    "start_time": "2022-07-31T16:25:18.034Z"
   },
   {
    "duration": 48,
    "start_time": "2022-07-31T16:25:18.056Z"
   },
   {
    "duration": 3,
    "start_time": "2022-07-31T16:25:18.105Z"
   },
   {
    "duration": 239,
    "start_time": "2022-07-31T16:25:18.110Z"
   },
   {
    "duration": 215,
    "start_time": "2022-07-31T16:25:18.351Z"
   },
   {
    "duration": 358,
    "start_time": "2022-07-31T16:25:18.567Z"
   },
   {
    "duration": 301,
    "start_time": "2022-07-31T16:25:18.927Z"
   },
   {
    "duration": 14,
    "start_time": "2022-07-31T16:25:19.233Z"
   },
   {
    "duration": 39,
    "start_time": "2022-07-31T16:25:19.249Z"
   },
   {
    "duration": 14,
    "start_time": "2022-07-31T16:25:19.290Z"
   },
   {
    "duration": 169,
    "start_time": "2022-07-31T16:25:19.305Z"
   },
   {
    "duration": 11,
    "start_time": "2022-07-31T16:25:19.475Z"
   },
   {
    "duration": 59,
    "start_time": "2022-07-31T16:25:19.487Z"
   },
   {
    "duration": 16,
    "start_time": "2022-07-31T16:25:19.548Z"
   },
   {
    "duration": 7,
    "start_time": "2022-07-31T16:25:19.566Z"
   },
   {
    "duration": 82,
    "start_time": "2022-07-31T16:25:19.575Z"
   },
   {
    "duration": 38,
    "start_time": "2022-07-31T16:25:30.158Z"
   },
   {
    "duration": 59,
    "start_time": "2022-07-31T16:26:18.231Z"
   },
   {
    "duration": 25,
    "start_time": "2022-07-31T16:26:35.231Z"
   },
   {
    "duration": 12,
    "start_time": "2022-07-31T16:29:05.249Z"
   },
   {
    "duration": 14,
    "start_time": "2022-07-31T16:29:31.066Z"
   }
  ],
  "kernelspec": {
   "display_name": "Python 3 (ipykernel)",
   "language": "python",
   "name": "python3"
  },
  "language_info": {
   "codemirror_mode": {
    "name": "ipython",
    "version": 3
   },
   "file_extension": ".py",
   "mimetype": "text/x-python",
   "name": "python",
   "nbconvert_exporter": "python",
   "pygments_lexer": "ipython3",
   "version": "3.9.5"
  },
  "toc": {
   "base_numbering": 1,
   "nav_menu": {},
   "number_sections": true,
   "sideBar": true,
   "skip_h1_title": true,
   "title_cell": "Table of Contents",
   "title_sidebar": "Contents",
   "toc_cell": false,
   "toc_position": {},
   "toc_section_display": true,
   "toc_window_display": false
  }
 },
 "nbformat": 4,
 "nbformat_minor": 5
}